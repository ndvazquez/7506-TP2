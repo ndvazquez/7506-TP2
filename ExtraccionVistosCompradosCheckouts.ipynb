{
 "cells": [
  {
   "cell_type": "code",
   "execution_count": 1,
   "metadata": {},
   "outputs": [],
   "source": [
    "import pandas as pd\n",
    "import numpy as np"
   ]
  },
  {
   "cell_type": "code",
   "execution_count": 2,
   "metadata": {},
   "outputs": [],
   "source": [
    "df = pd.read_csv('data/events.csv', low_memory=False)"
   ]
  },
  {
   "cell_type": "code",
   "execution_count": 3,
   "metadata": {},
   "outputs": [],
   "source": [
    "def asignar_empresa(celular):\n",
    "    celular = celular.lower()\n",
    "    if ('samsung' in celular):\n",
    "        return 'Samsung'\n",
    "    if ('iphone' in celular or 'ipad' in celular):\n",
    "        return 'Apple'\n",
    "    if ('sony' in celular):\n",
    "        return 'Sony'\n",
    "    if ('motorola' in celular):\n",
    "        return 'Motorola'\n",
    "    if ('asus' in celular):\n",
    "        return 'Asus'\n",
    "    if ('lg' in celular):\n",
    "        return 'LG'\n",
    "    if ('lenovo' in celular):\n",
    "        return 'Lenovo'\n",
    "    if ('quantum' in celular):\n",
    "        return 'Quantum'\n",
    "    return 'Otros'"
   ]
  },
  {
   "cell_type": "code",
   "execution_count": 4,
   "metadata": {},
   "outputs": [],
   "source": [
    "modelos_por_empresa = df.loc[df['sku'].notnull(), :].dropna(axis=1).copy()\n",
    "modelos_por_empresa['empresa'] = modelos_por_empresa['model'].apply(lambda x: asignar_empresa(x))"
   ]
  },
  {
   "cell_type": "markdown",
   "metadata": {},
   "source": [
    "## Marca más vista por usuario"
   ]
  },
  {
   "cell_type": "code",
   "execution_count": 5,
   "metadata": {},
   "outputs": [],
   "source": [
    "vistos = modelos_por_empresa.loc[modelos_por_empresa['event'] == 'viewed product']"
   ]
  },
  {
   "cell_type": "code",
   "execution_count": 6,
   "metadata": {},
   "outputs": [],
   "source": [
    "vistos = vistos.groupby('person')['empresa'].value_counts()\n",
    "vistos = vistos.reset_index(level='empresa', name='count')\n",
    "vistos = vistos[~vistos.index.duplicated(keep='first')][['empresa']]"
   ]
  },
  {
   "cell_type": "code",
   "execution_count": 7,
   "metadata": {},
   "outputs": [],
   "source": [
    "vistos = pd.get_dummies(vistos['empresa'], prefix='vio_mas', dtype=bool)"
   ]
  },
  {
   "cell_type": "code",
   "execution_count": 8,
   "metadata": {},
   "outputs": [
    {
     "data": {
      "text/html": [
       "<div>\n",
       "<style scoped>\n",
       "    .dataframe tbody tr th:only-of-type {\n",
       "        vertical-align: middle;\n",
       "    }\n",
       "\n",
       "    .dataframe tbody tr th {\n",
       "        vertical-align: top;\n",
       "    }\n",
       "\n",
       "    .dataframe thead th {\n",
       "        text-align: right;\n",
       "    }\n",
       "</style>\n",
       "<table border=\"1\" class=\"dataframe\">\n",
       "  <thead>\n",
       "    <tr style=\"text-align: right;\">\n",
       "      <th></th>\n",
       "      <th>vio_mas_Apple</th>\n",
       "      <th>vio_mas_Asus</th>\n",
       "      <th>vio_mas_LG</th>\n",
       "      <th>vio_mas_Lenovo</th>\n",
       "      <th>vio_mas_Motorola</th>\n",
       "      <th>vio_mas_Quantum</th>\n",
       "      <th>vio_mas_Samsung</th>\n",
       "      <th>vio_mas_Sony</th>\n",
       "    </tr>\n",
       "    <tr>\n",
       "      <th>person</th>\n",
       "      <th></th>\n",
       "      <th></th>\n",
       "      <th></th>\n",
       "      <th></th>\n",
       "      <th></th>\n",
       "      <th></th>\n",
       "      <th></th>\n",
       "      <th></th>\n",
       "    </tr>\n",
       "  </thead>\n",
       "  <tbody>\n",
       "    <tr>\n",
       "      <th>fff1caee</th>\n",
       "      <td>False</td>\n",
       "      <td>False</td>\n",
       "      <td>True</td>\n",
       "      <td>False</td>\n",
       "      <td>False</td>\n",
       "      <td>False</td>\n",
       "      <td>False</td>\n",
       "      <td>False</td>\n",
       "    </tr>\n",
       "    <tr>\n",
       "      <th>fff2bdde</th>\n",
       "      <td>False</td>\n",
       "      <td>False</td>\n",
       "      <td>False</td>\n",
       "      <td>False</td>\n",
       "      <td>False</td>\n",
       "      <td>False</td>\n",
       "      <td>True</td>\n",
       "      <td>False</td>\n",
       "    </tr>\n",
       "    <tr>\n",
       "      <th>fff72025</th>\n",
       "      <td>False</td>\n",
       "      <td>False</td>\n",
       "      <td>True</td>\n",
       "      <td>False</td>\n",
       "      <td>False</td>\n",
       "      <td>False</td>\n",
       "      <td>False</td>\n",
       "      <td>False</td>\n",
       "    </tr>\n",
       "    <tr>\n",
       "      <th>fff78145</th>\n",
       "      <td>True</td>\n",
       "      <td>False</td>\n",
       "      <td>False</td>\n",
       "      <td>False</td>\n",
       "      <td>False</td>\n",
       "      <td>False</td>\n",
       "      <td>False</td>\n",
       "      <td>False</td>\n",
       "    </tr>\n",
       "    <tr>\n",
       "      <th>fffd1246</th>\n",
       "      <td>True</td>\n",
       "      <td>False</td>\n",
       "      <td>False</td>\n",
       "      <td>False</td>\n",
       "      <td>False</td>\n",
       "      <td>False</td>\n",
       "      <td>False</td>\n",
       "      <td>False</td>\n",
       "    </tr>\n",
       "  </tbody>\n",
       "</table>\n",
       "</div>"
      ],
      "text/plain": [
       "          vio_mas_Apple  vio_mas_Asus  vio_mas_LG  vio_mas_Lenovo  \\\n",
       "person                                                              \n",
       "fff1caee          False         False        True           False   \n",
       "fff2bdde          False         False       False           False   \n",
       "fff72025          False         False        True           False   \n",
       "fff78145           True         False       False           False   \n",
       "fffd1246           True         False       False           False   \n",
       "\n",
       "          vio_mas_Motorola  vio_mas_Quantum  vio_mas_Samsung  vio_mas_Sony  \n",
       "person                                                                      \n",
       "fff1caee             False            False            False         False  \n",
       "fff2bdde             False            False             True         False  \n",
       "fff72025             False            False            False         False  \n",
       "fff78145             False            False            False         False  \n",
       "fffd1246             False            False            False         False  "
      ]
     },
     "execution_count": 8,
     "metadata": {},
     "output_type": "execute_result"
    }
   ],
   "source": [
    "vistos.tail()"
   ]
  },
  {
   "cell_type": "code",
   "execution_count": 9,
   "metadata": {},
   "outputs": [
    {
     "data": {
      "text/plain": [
       "(38829, 6)"
      ]
     },
     "execution_count": 9,
     "metadata": {},
     "output_type": "execute_result"
    }
   ],
   "source": [
    "users = pd.read_csv('data/features_basicas.csv', low_memory=False, index_col='person')\n",
    "users.shape"
   ]
  },
  {
   "cell_type": "code",
   "execution_count": 10,
   "metadata": {},
   "outputs": [],
   "source": [
    "usuarios_con_productos_vistos = users.join(vistos)"
   ]
  },
  {
   "cell_type": "code",
   "execution_count": 11,
   "metadata": {},
   "outputs": [
    {
     "data": {
      "text/plain": [
       "Index(['vio_productos', 'tiene_checkouts', 'tiene_conversions',\n",
       "       'cant_prod_vistos', 'cantidad_checkouts', 'cantidad_conversions',\n",
       "       'vio_mas_Apple', 'vio_mas_Asus', 'vio_mas_LG', 'vio_mas_Lenovo',\n",
       "       'vio_mas_Motorola', 'vio_mas_Quantum', 'vio_mas_Samsung',\n",
       "       'vio_mas_Sony'],\n",
       "      dtype='object')"
      ]
     },
     "execution_count": 11,
     "metadata": {},
     "output_type": "execute_result"
    }
   ],
   "source": [
    "usuarios_con_productos_vistos = usuarios_con_productos_vistos.fillna({'vio_mas_Apple':False, 'vio_mas_Samsung':False, 'vio_mas_Lenovo':False,\\\n",
    "                      'vio_mas_LG':False, 'vio_mas_Asus':False, 'vio_mas_Motorola':False,\\\n",
    "                      'vio_mas_Quantum':False, 'vio_mas_Sony':False})\n",
    "usuarios_con_productos_vistos.columns"
   ]
  },
  {
   "cell_type": "code",
   "execution_count": 12,
   "metadata": {},
   "outputs": [],
   "source": [
    "# Descomentar para guardar, un horror\n",
    "#usuarios_con_productos_vistos[['vio_mas_Apple',\n",
    "# 'vio_mas_Asus',\n",
    "# 'vio_mas_LG',\n",
    "# 'vio_mas_Lenovo',\n",
    "# 'vio_mas_Motorola',\n",
    "# 'vio_mas_Quantum',\n",
    "# 'vio_mas_Samsung',\n",
    "# 'vio_mas_Sony']].to_csv('data/features_vistos.csv', sep=',')"
   ]
  },
  {
   "cell_type": "markdown",
   "metadata": {},
   "source": [
    "## Compra según marca"
   ]
  },
  {
   "cell_type": "code",
   "execution_count": 13,
   "metadata": {},
   "outputs": [],
   "source": [
    "compras = modelos_por_empresa.loc[modelos_por_empresa['event'] == 'conversion']"
   ]
  },
  {
   "cell_type": "code",
   "execution_count": 14,
   "metadata": {},
   "outputs": [],
   "source": [
    "compras_agrupadas = compras.groupby('person')['empresa'].value_counts().unstack(fill_value=0)"
   ]
  },
  {
   "cell_type": "code",
   "execution_count": 15,
   "metadata": {},
   "outputs": [
    {
     "data": {
      "text/plain": [
       "(4293, 8)"
      ]
     },
     "execution_count": 15,
     "metadata": {},
     "output_type": "execute_result"
    }
   ],
   "source": [
    "compras_agrupadas = compras_agrupadas.apply(lambda x: x > 0, axis=1)\n",
    "compras_agrupadas = compras_agrupadas.add_prefix('compro_')\n",
    "compras_agrupadas.shape"
   ]
  },
  {
   "cell_type": "code",
   "execution_count": 16,
   "metadata": {},
   "outputs": [],
   "source": [
    "users_con_compras = users.join(compras_agrupadas)"
   ]
  },
  {
   "cell_type": "code",
   "execution_count": 17,
   "metadata": {},
   "outputs": [
    {
     "data": {
      "text/plain": [
       "(38829, 14)"
      ]
     },
     "execution_count": 17,
     "metadata": {},
     "output_type": "execute_result"
    }
   ],
   "source": [
    "users_con_compras.shape"
   ]
  },
  {
   "cell_type": "code",
   "execution_count": 18,
   "metadata": {},
   "outputs": [],
   "source": [
    "users_con_compras.fillna(False, inplace=True)"
   ]
  },
  {
   "cell_type": "code",
   "execution_count": 19,
   "metadata": {},
   "outputs": [
    {
     "data": {
      "text/plain": [
       "Index(['vio_productos', 'tiene_checkouts', 'tiene_conversions',\n",
       "       'cant_prod_vistos', 'cantidad_checkouts', 'cantidad_conversions',\n",
       "       'compro_Apple', 'compro_Asus', 'compro_LG', 'compro_Lenovo',\n",
       "       'compro_Motorola', 'compro_Quantum', 'compro_Samsung', 'compro_Sony'],\n",
       "      dtype='object')"
      ]
     },
     "execution_count": 19,
     "metadata": {},
     "output_type": "execute_result"
    }
   ],
   "source": [
    "users_con_compras.columns"
   ]
  },
  {
   "cell_type": "code",
   "execution_count": 20,
   "metadata": {},
   "outputs": [],
   "source": [
    "# Descomentar para guardar, un horror\n",
    "#users_con_compras[['compro_Apple', 'compro_Asus', 'compro_LG', 'compro_Lenovo',\n",
    "#       'compro_Motorola', 'compro_Quantum', 'compro_Samsung', 'compro_Sony']].to_csv('data/features_compras.csv')"
   ]
  },
  {
   "cell_type": "code",
   "execution_count": null,
   "metadata": {},
   "outputs": [],
   "source": []
  }
 ],
 "metadata": {
  "kernelspec": {
   "display_name": "Python 3",
   "language": "python",
   "name": "python3"
  },
  "language_info": {
   "codemirror_mode": {
    "name": "ipython",
    "version": 3
   },
   "file_extension": ".py",
   "mimetype": "text/x-python",
   "name": "python",
   "nbconvert_exporter": "python",
   "pygments_lexer": "ipython3",
   "version": "3.6.6"
  }
 },
 "nbformat": 4,
 "nbformat_minor": 2
}
