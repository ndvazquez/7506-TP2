{
 "cells": [
  {
   "cell_type": "code",
   "execution_count": 1,
   "metadata": {},
   "outputs": [],
   "source": [
    "import pandas as pd"
   ]
  },
  {
   "cell_type": "code",
   "execution_count": 2,
   "metadata": {},
   "outputs": [],
   "source": [
    "df = pd.read_csv('../data/events.csv', low_memory=False)\n",
    "df['timestamp'] = pd.to_datetime(df['timestamp'])"
   ]
  },
  {
   "cell_type": "markdown",
   "metadata": {},
   "source": [
    "# Primero todo general- Como entraron a la página por primera vez? (con one hot enconding)"
   ]
  },
  {
   "cell_type": "code",
   "execution_count": 3,
   "metadata": {},
   "outputs": [],
   "source": [
    "channel_general = df.groupby(['person','channel'])['timestamp'].min().to_frame().reset_index()\n",
    "channel_general = channel_general.sort_values('timestamp', ascending=False).drop_duplicates(['person'])\n",
    "channel_general = channel_general.pivot_table(index='person', columns='channel', values='timestamp', aggfunc='count').fillna(0)\n",
    "channel_general = channel_general.add_prefix('fue_primero_')"
   ]
  },
  {
   "cell_type": "markdown",
   "metadata": {},
   "source": [
    "# Ahora lo mismo para las últimas dos semanas "
   ]
  },
  {
   "cell_type": "code",
   "execution_count": 4,
   "metadata": {},
   "outputs": [],
   "source": [
    "df_acotado = df.loc[df['timestamp'] > pd.to_datetime('2018-05-15'), :]\n",
    "user_features = df[['person']].drop_duplicates().copy().set_index('person')"
   ]
  },
  {
   "cell_type": "code",
   "execution_count": 5,
   "metadata": {},
   "outputs": [],
   "source": [
    "channel_ult_15 = df_acotado.groupby(['person','channel'])['timestamp'].min().to_frame().reset_index()\n",
    "channel_ult_15 = channel_ult_15.sort_values('timestamp', ascending=False).drop_duplicates(['person'])\n",
    "channel_ult_15 = channel_ult_15.pivot_table(index='person', columns='channel', values='timestamp', aggfunc='count').fillna(0)\n",
    "channel_ult_15 = channel_ult_15.add_prefix('fue_primero_en_ult_15_')"
   ]
  },
  {
   "cell_type": "markdown",
   "metadata": {},
   "source": [
    "## csv"
   ]
  },
  {
   "cell_type": "code",
   "execution_count": 6,
   "metadata": {},
   "outputs": [
    {
     "data": {
      "text/plain": [
       "(38829, 7)"
      ]
     },
     "execution_count": 6,
     "metadata": {},
     "output_type": "execute_result"
    }
   ],
   "source": [
    "channel_general = user_features.join(channel_general).fillna(0)\n",
    "channel_general.shape"
   ]
  },
  {
   "cell_type": "code",
   "execution_count": 7,
   "metadata": {},
   "outputs": [],
   "source": [
    "# total\n",
    "channel_general.to_csv(\"../data/feature_tipo_channel_primer_ingreso.csv\", sep=',')"
   ]
  },
  {
   "cell_type": "code",
   "execution_count": 8,
   "metadata": {},
   "outputs": [
    {
     "data": {
      "text/plain": [
       "(38829, 6)"
      ]
     },
     "execution_count": 8,
     "metadata": {},
     "output_type": "execute_result"
    }
   ],
   "source": [
    "# ult 15 días\n",
    "users = df[['person']].drop_duplicates().copy()\n",
    "users.set_index('person', inplace=True)\n",
    "user_features = users.join(channel_ult_15).fillna(0)\n",
    "user_features.shape"
   ]
  },
  {
   "cell_type": "code",
   "execution_count": 9,
   "metadata": {},
   "outputs": [],
   "source": [
    "\n",
    "user_features.to_csv(\"../data/feature_tipo_channel_primer_ingreso_ultimos_15_dias.csv\", sep=',')"
   ]
  }
 ],
 "metadata": {
  "kernelspec": {
   "display_name": "Python 3",
   "language": "python",
   "name": "python3"
  },
  "language_info": {
   "codemirror_mode": {
    "name": "ipython",
    "version": 3
   },
   "file_extension": ".py",
   "mimetype": "text/x-python",
   "name": "python",
   "nbconvert_exporter": "python",
   "pygments_lexer": "ipython3",
   "version": "3.6.6"
  }
 },
 "nbformat": 4,
 "nbformat_minor": 2
}
