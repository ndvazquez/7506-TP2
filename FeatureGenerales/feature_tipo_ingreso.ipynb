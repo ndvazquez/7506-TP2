{
 "cells": [
  {
   "cell_type": "code",
   "execution_count": null,
   "metadata": {},
   "outputs": [],
   "source": [
    "import pandas as pd"
   ]
  },
  {
   "cell_type": "code",
   "execution_count": null,
   "metadata": {},
   "outputs": [],
   "source": [
    "df = pd.read_csv('../data/events.csv', low_memory=False)\n",
    "df['timestamp'] = pd.to_datetime(df['timestamp'])"
   ]
  },
  {
   "cell_type": "markdown",
   "metadata": {},
   "source": [
    "# Primero todo general- Como entraron a la página por primera vez? (con one hot enconding)"
   ]
  },
  {
   "cell_type": "code",
   "execution_count": null,
   "metadata": {},
   "outputs": [],
   "source": [
    "channel_general = df.groupby(['person','channel'])['timestamp'].min().to_frame().reset_index()\n",
    "channel_general = channel_general.sort_values('timestamp', ascending=False).drop_duplicates(['person'])\n",
    "channel_general = channel_general.pivot_table(index='person', columns='channel', values='timestamp', aggfunc='count').fillna(0)\n",
    "channel_general = channel_general.add_prefix('fue_primero_')"
   ]
  },
  {
   "cell_type": "markdown",
   "metadata": {},
   "source": [
    "# Ahora lo mismo para las últimas dos semanas "
   ]
  },
  {
   "cell_type": "code",
   "execution_count": null,
   "metadata": {},
   "outputs": [],
   "source": [
    "df_acotado = df.loc[df['timestamp'] > pd.to_datetime('2018-05-15'), :]"
   ]
  },
  {
   "cell_type": "code",
   "execution_count": null,
   "metadata": {},
   "outputs": [],
   "source": [
    "channel_ult_15 = df_acotado.groupby(['person','channel'])['timestamp'].min().to_frame().reset_index()\n",
    "channel_ult_15 = channel_ult_15.sort_values('timestamp', ascending=False).drop_duplicates(['person'])\n",
    "channel_ult_15 = channel_ult_15.pivot_table(index='person', columns='channel', values='timestamp', aggfunc='count').fillna(0)\n",
    "channel_ult_15 = channel_ult_15.add_prefix('fue_primero_en_ult_15_')"
   ]
  },
  {
   "cell_type": "markdown",
   "metadata": {},
   "source": [
    "## csv"
   ]
  },
  {
   "cell_type": "code",
   "execution_count": null,
   "metadata": {},
   "outputs": [],
   "source": [
    "channel_general.to_csv(\"../data/feature_tipo_channel_primer_ingreso.csv\", sep=',')"
   ]
  },
  {
   "cell_type": "code",
   "execution_count": null,
   "metadata": {},
   "outputs": [],
   "source": [
    "channel_ult_15.to_csv(\"../data/feature_tipo_channel_primer_ingreso_ultimos_15_dias.csv\", sep=',')"
   ]
  }
 ],
 "metadata": {
  "kernelspec": {
   "display_name": "Python 3",
   "language": "python",
   "name": "python3"
  },
  "language_info": {
   "codemirror_mode": {
    "name": "ipython",
    "version": 3
   },
   "file_extension": ".py",
   "mimetype": "text/x-python",
   "name": "python",
   "nbconvert_exporter": "python",
   "pygments_lexer": "ipython3",
   "version": "3.5.2"
  }
 },
 "nbformat": 4,
 "nbformat_minor": 2
}
