{
 "cells": [
  {
   "cell_type": "code",
   "execution_count": null,
   "metadata": {},
   "outputs": [],
   "source": [
    "import pandas as pd\n",
    "df = pd.read_csv('data/events.csv', low_memory=False)"
   ]
  },
  {
   "cell_type": "markdown",
   "metadata": {},
   "source": [
    "# Para último evento realizado"
   ]
  },
  {
   "cell_type": "code",
   "execution_count": null,
   "metadata": {},
   "outputs": [],
   "source": [
    "user_features = df[['person']].drop_duplicates().copy()\n",
    "user_features.set_index('person', inplace=True)"
   ]
  },
  {
   "cell_type": "code",
   "execution_count": null,
   "metadata": {},
   "outputs": [],
   "source": [
    "list = [\n",
    "    ['Preto', 'Negro'],\n",
    "    ['Dourado', 'Dorado'],\n",
    "    ['Branco', 'Blanco'],\n",
    "    ['Prata', 'Plata'],\n",
    "    ['Ouro Rosa','Rosa Claro'],\n",
    "    ['Cinza espacial', 'Gris'],\n",
    "    ['Prateado','Plateado']   \n",
    "]\n",
    "\n",
    "def colores(x):\n",
    "    for color in list:\n",
    "        if str(x) in color[0] or str(x) in color[1]:\n",
    "            return color[1]\n",
    "    return 'No color'\n",
    "\n",
    "df['Color'] = df['color'].map(lambda x: colores(x))"
   ]
  },
  {
   "cell_type": "code",
   "execution_count": null,
   "metadata": {},
   "outputs": [],
   "source": [
    "def asignar_empresa(celular):\n",
    "    try:\n",
    "        celular = celular.lower()\n",
    "    except:\n",
    "        return 'No celular'\n",
    "    if ('samsung' in celular):\n",
    "        return 'Samsung'\n",
    "    if ('iphone' in celular or 'ipad' in celular):\n",
    "        return 'Apple'\n",
    "    if ('sony' in celular):\n",
    "        return 'Sony'\n",
    "    if ('motorola' in celular):\n",
    "        return 'Motorola'\n",
    "    if ('asus' in celular):\n",
    "        return 'Asus'\n",
    "    if ('lg' in celular):\n",
    "        return 'LG'\n",
    "    if ('lenovo' in celular):\n",
    "        return 'Lenovo'\n",
    "    if ('quantum' in celular):\n",
    "        return 'Quantum'\n",
    "    return 'Otros'\n",
    "\n",
    "df['company'] = df['model'].apply(lambda x: asignar_empresa(x))\n",
    "\n"
   ]
  },
  {
   "cell_type": "code",
   "execution_count": null,
   "metadata": {},
   "outputs": [],
   "source": [
    "ultimaConexiondf = df.groupby('person').tail(1)\n",
    "ultimaConexiondf.head(50)"
   ]
  },
  {
   "cell_type": "code",
   "execution_count": null,
   "metadata": {},
   "outputs": [],
   "source": [
    "ultimo_modelo = ultimaConexiondf[['person','model']]\n",
    "ultimo_modelo.set_index('person', inplace=True)\n",
    "ultima_compania = ultimaConexiondf[['person','company']]\n",
    "ultima_compania.set_index('person', inplace=True)\n",
    "ultimo_storage = ultimaConexiondf[['person','storage']]\n",
    "ultimo_storage.set_index('person', inplace=True)\n",
    "ultimo_color = ultimaConexiondf[['person','Color']]\n",
    "ultimo_color.set_index('person', inplace=True)\n",
    "ultima_condicion = ultimaConexiondf[['person','condition']]\n",
    "ultima_condicion.set_index('person', inplace=True)"
   ]
  },
  {
   "cell_type": "markdown",
   "metadata": {},
   "source": [
    "# Para último checkout realizado"
   ]
  },
  {
   "cell_type": "code",
   "execution_count": null,
   "metadata": {},
   "outputs": [],
   "source": [
    "ultimoCheckoutdf = df.loc[df['event'] == 'checkout', :]\n",
    "ultimoCheckoutdf = ultimoCheckoutdf.groupby('person').tail(1)\n",
    "ultimoCheckoutdf.head(5)"
   ]
  },
  {
   "cell_type": "code",
   "execution_count": null,
   "metadata": {},
   "outputs": [],
   "source": [
    "ultimo_modelo_checkout = ultimoCheckoutdf[['person','model']]\n",
    "ultimo_modelo_checkout.set_index('person', inplace=True)\n",
    "ultima_compania_checkout = ultimoCheckoutdf[['person','company']]\n",
    "ultima_compania_checkout.set_index('person', inplace=True)\n",
    "ultima_storage_checkout = ultimoCheckoutdf[['person','storage']]\n",
    "ultima_storage_checkout.set_index('person', inplace=True)\n",
    "ultima_color_checkout = ultimoCheckoutdf[['person','Color']]\n",
    "ultima_color_checkout.set_index('person', inplace=True)\n",
    "ultima_condicion_checkout = ultimoCheckoutdf[['person','condition']]\n",
    "ultima_condicion_checkout.set_index('person', inplace=True)"
   ]
  },
  {
   "cell_type": "markdown",
   "metadata": {},
   "source": [
    "# Uno todo ahora"
   ]
  },
  {
   "cell_type": "markdown",
   "metadata": {},
   "source": [
    "## Este es para último checkout de la persona (este puede servir para mí)"
   ]
  },
  {
   "cell_type": "code",
   "execution_count": null,
   "metadata": {},
   "outputs": [],
   "source": [
    "user_features = user_features.join(ultimo_modelo_checkout)\n",
    "user_features = user_features.join(ultima_compania_checkout)\n",
    "user_features = user_features.join(ultima_storage_checkout)\n",
    "user_features = user_features.join(ultima_color_checkout)\n",
    "user_features = user_features.join(ultima_condicion_checkout)\n"
   ]
  },
  {
   "cell_type": "code",
   "execution_count": null,
   "metadata": {},
   "outputs": [],
   "source": [
    "user_features.head(10)"
   ]
  },
  {
   "cell_type": "code",
   "execution_count": null,
   "metadata": {},
   "outputs": [],
   "source": [
    "user_features.to_csv('../data/features_ultimo_chekout.csv', sep=',')"
   ]
  },
  {
   "cell_type": "markdown",
   "metadata": {},
   "source": [
    "## Este es para último evento de la persona  (este no me parece que sirva)"
   ]
  },
  {
   "cell_type": "code",
   "execution_count": null,
   "metadata": {},
   "outputs": [],
   "source": [
    "user_features = df[['person']].drop_duplicates().copy()\n",
    "user_features.set_index('person', inplace=True)"
   ]
  },
  {
   "cell_type": "code",
   "execution_count": null,
   "metadata": {},
   "outputs": [],
   "source": [
    "user_features = user_features.join(ultimo_modelo)\n",
    "user_features = user_features.join(ultima_compania)\n",
    "user_features = user_features.join(ultimo_storage)\n",
    "user_features = user_features.join(ultimo_color)\n",
    "user_features = user_features.join(ultima_condicion)"
   ]
  },
  {
   "cell_type": "code",
   "execution_count": null,
   "metadata": {},
   "outputs": [],
   "source": [
    "user_features.to_csv('../data/features_ultimo_evento.csv', sep=',')"
   ]
  },
  {
   "cell_type": "code",
   "execution_count": null,
   "metadata": {},
   "outputs": [],
   "source": []
  }
 ],
 "metadata": {
  "kernelspec": {
   "display_name": "Python 3",
   "language": "python",
   "name": "python3"
  },
  "language_info": {
   "codemirror_mode": {
    "name": "ipython",
    "version": 3
   },
   "file_extension": ".py",
   "mimetype": "text/x-python",
   "name": "python",
   "nbconvert_exporter": "python",
   "pygments_lexer": "ipython3",
   "version": "3.5.2"
  }
 },
 "nbformat": 4,
 "nbformat_minor": 2
}
