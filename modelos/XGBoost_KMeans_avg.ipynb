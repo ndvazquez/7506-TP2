{
 "cells": [
  {
   "cell_type": "code",
   "execution_count": 44,
   "metadata": {},
   "outputs": [],
   "source": [
    "import pandas as pd\n",
    "import numpy as np\n",
    "from sklearn.model_selection import GridSearchCV\n",
    "from xgboost import XGBClassifier\n",
    "from sklearn.model_selection import train_test_split\n",
    "from sklearn.metrics import classification_report, roc_auc_score\n",
    "from sklearn.preprocessing import normalize\n",
    "from sklearn.model_selection import cross_val_score\n",
    "\n",
    "from sklearn.cluster import KMeans"
   ]
  },
  {
   "cell_type": "code",
   "execution_count": 45,
   "metadata": {},
   "outputs": [
    {
     "data": {
      "text/plain": [
       "(19414, 93)"
      ]
     },
     "execution_count": 45,
     "metadata": {},
     "output_type": "execute_result"
    }
   ],
   "source": [
    "df1 = pd.read_csv('../data/features_basicas.csv', low_memory=False, index_col='person')\n",
    "df2 = pd.read_csv('../data/features_checkouts.csv', low_memory=False, index_col='person')\n",
    "df3 = pd.read_csv('../data/features_vistos.csv', low_memory=False, index_col='person')\n",
    "df4 = pd.read_csv('../data/feature_dispositivo_mas_usado.csv', low_memory=False, index_col='person')\n",
    "df5 = pd.read_csv('../data/feature_dia_mas_activo.csv', low_memory=False, index_col='person')\n",
    "df6 = pd.read_csv('../data/feature_compra_onsite.csv', low_memory=False, index_col='person')\n",
    "df7 = pd.read_csv('../data/feature_cantidad_de_eventos_en_intervalos.csv', low_memory=False, index_col='person')\n",
    "df8 = pd.read_csv('../data/feature_dispositivos_storage.csv', low_memory=False, index_col='person')\n",
    "df9 = pd.read_csv('../data/featureUsuarioSonDeSaoPablo.csv', low_memory=False, index_col='person')\n",
    "df10 = pd.read_csv('../data/featureCantidadMaximaPersonaVeUnProducto.csv', low_memory=False, index_col='person')\n",
    "df11 = pd.read_csv('../data/featureUltimaConexion.csv', low_memory=False, index_col='person')\n",
    "df12 = pd.read_csv('../data/features_basicas_ult_quin.csv', low_memory=False, index_col='person')\n",
    "df14 = pd.read_csv('../data/days_elapsed_from_last_event.csv', low_memory=False, index_col='person')\n",
    "df15 = pd.read_csv('../data/featureUsuarioRealiza30EventosEn20MinsLosUltimos2Dias.csv', low_memory=False, index_col='person')\n",
    "df16 = pd.read_csv('../data/features_ultimo_checkout.csv', low_memory=False, index_col='person')\n",
    "df17 = pd.read_csv('../data/diferencia_de_count_de_eventos.csv', low_memory=False, index_col='person')\n",
    "df18 = pd.read_csv('../data/top_10_celulares.csv', low_memory=False, index_col='person')\n",
    "df19 = pd.read_csv('../data/feature_cantidad_de_eventos_en_intervalos_ult_quin.csv', low_memory=False, index_col='person')\n",
    "\n",
    "labels = pd.read_csv('../data/labels_training_set.csv', low_memory=False, index_col='person')\n",
    "\n",
    "df_unidos = df1.join(df2, how='inner')\n",
    "df_unidos = df_unidos.join(df3, how='inner')\n",
    "df_unidos = df_unidos.join(df4, how='inner')\n",
    "df_unidos = df_unidos.join(df5, how='inner')\n",
    "df_unidos = df_unidos.join(df6, how='inner')\n",
    "df_unidos = df_unidos.join(df7, how='inner')\n",
    "df_unidos = df_unidos.join(df8, how='inner')\n",
    "df_unidos = df_unidos.join(df9, how='inner')\n",
    "df_unidos = df_unidos.join(df10, how='inner')\n",
    "df_unidos = df_unidos.join(df11, how='inner')\n",
    "df_unidos = df_unidos.join(df12, how='inner')\n",
    "df_unidos = df_unidos.join(df14, how='inner')\n",
    "df_unidos = df_unidos.join(df15, how='inner')\n",
    "df_unidos = df_unidos.join(df16, how='inner')\n",
    "df_unidos = df_unidos.join(df17).fillna(0)\n",
    "df_unidos = df_unidos.join(df18, how='inner')\n",
    "df_unidos = df_unidos.join(df19, how='inner')\n",
    "\n",
    "#  Le asigno las features al subset de usuarios que nos da Trocafone para entrenar.\n",
    "df_test = df_unidos.join(labels, on='person', how='inner')\n",
    "df_test.shape"
   ]
  },
  {
   "cell_type": "code",
   "execution_count": 46,
   "metadata": {},
   "outputs": [
    {
     "data": {
      "text/plain": [
       "Index(['tiene_checkouts', 'llegaron_por_ad', 'llegaron_por_search',\n",
       "       'tiene_conversions', 'cant_conversions', 'cant_checkouts',\n",
       "       'cant_viewed_product', 'cant_searched_product', 'cant_visitas',\n",
       "       'cant_leads', 'cant_brand_listings', 'cant_generic_listings',\n",
       "       'cant_entradas_ads', 'cant_entradas_buscador', 'total_sesiones',\n",
       "       'promedio_eventos_por_sesion', 'checkout_Apple', 'checkout_Asus',\n",
       "       'checkout_LG', 'checkout_Lenovo', 'checkout_Motorola',\n",
       "       'checkout_Quantum', 'checkout_Samsung', 'checkout_Sony',\n",
       "       'vio_mas_Apple', 'vio_mas_Asus', 'vio_mas_LG', 'vio_mas_Lenovo',\n",
       "       'vio_mas_Motorola', 'vio_mas_Quantum', 'vio_mas_Samsung',\n",
       "       'vio_mas_Sony', 'dispositivo_Computer', 'dispositivo_Smartphone',\n",
       "       'dispositivo_Tablet', 'dispositivo_Unknown', 'Friday', 'Monday',\n",
       "       'Saturday', 'Sunday', 'Thursday', 'Tuesday', 'Wednesday',\n",
       "       'compro_onsite', 'cant_eventos_4_a_10hs', 'cant_eventos_11_a_14hs',\n",
       "       'cant_eventos_15_a_20hs', 'cant_eventos_21_a_3hs', 'storage_mas_visto',\n",
       "       'storage_mas_checkout', 'storage_mas_eventos', 'suma_total',\n",
       "       'EsDeSaoPablo', 'cantidadMaximaQueVeUnMismoProducto', 'primeraConexion',\n",
       "       'ultimaConexion', 'vida_del_usuario', 'ult_quin_cant_conversions',\n",
       "       'ult_quin_cant_checkouts', 'ult_quin_cant_viewed_product',\n",
       "       'ult_quin_cant_searched_product', 'ult_quin_cant_visitas',\n",
       "       'ult_quin_cant_leads', 'ult_quin_cant_brand_listings',\n",
       "       'ult_quin_cant_generic_listings', 'ult_quin_cant_entradas_ads',\n",
       "       'ult_quin_cant_entradas_buscador', 'tasa_ult_quin_cant_checkouts',\n",
       "       'tasa_ult_quin_cant_conversions', 'tasa_ult_quin_cant_viewed_product',\n",
       "       'tasa_ult_quin_cant_searched_product', 'tasa_ult_quin_cant_visitas',\n",
       "       'tasa_ult_quin_cant_leads', 'tasa_ult_quin_cant_brand_listings',\n",
       "       'tasa_ult_quin_cant_generic_listings',\n",
       "       'tasa_ult_quin_cant_entradas_ads',\n",
       "       'tasa_ult_quin_cant_entradas_buscador', 'ult_quin_total_sesiones',\n",
       "       'ult_quin_promedio_eventos_por_sesion', 'days_elapsed',\n",
       "       'realiza30EventosEn20MinsLosUltimos2Dias', 'model_encoding',\n",
       "       'diff_checkouts_15_dias', 'diff_visited_site_15_dias',\n",
       "       'diff_searched_products_15_dias', 'diff_viewed_products_15_dias',\n",
       "       'total_top_10_phones_checkout', 'different_top_10_phones_checkout',\n",
       "       'ult_quin_cant_eventos_4_a_10hs', 'ult_quin_cant_eventos_11_a_14hs',\n",
       "       'ult_quin_cant_eventos_15_a_20hs', 'ult_quin_cant_eventos_21_a_3hs'],\n",
       "      dtype='object')"
      ]
     },
     "execution_count": 46,
     "metadata": {},
     "output_type": "execute_result"
    }
   ],
   "source": [
    "df_unidos.columns"
   ]
  },
  {
   "cell_type": "markdown",
   "metadata": {},
   "source": [
    "### Voy a clusterizar en 2 clases todos los puntos del set\n",
    "\n",
    "Para luego de predecir la proba con el XGB hacer un avg (o ponderar) con las clases del kmeans"
   ]
  },
  {
   "cell_type": "code",
   "execution_count": 47,
   "metadata": {},
   "outputs": [],
   "source": [
    "puntos = df_unidos\n",
    "\n",
    "puntos_norm = (puntos - puntos.mean()) / puntos.std()\n",
    "\n",
    "kmeans = KMeans(n_clusters=2, verbose=10, n_jobs=-1)\n",
    "df_unidos['clases_kmeans'] = kmeans.fit_predict(puntos_norm)"
   ]
  },
  {
   "cell_type": "code",
   "execution_count": 48,
   "metadata": {},
   "outputs": [
    {
     "data": {
      "text/plain": [
       "(19414, 93)"
      ]
     },
     "execution_count": 48,
     "metadata": {},
     "output_type": "execute_result"
    }
   ],
   "source": [
    "df_kmeans = df_unidos.reset_index()[['person', 'clases_kmeans']]\n",
    "df_unidos.drop('clases_kmeans', inplace=True, axis=1)\n",
    "\n",
    "\n",
    "#  Vuelvo a armar el dataframe con las labels\n",
    "df_test = df_unidos.join(labels, on='person', how='inner')\n",
    "df_test.shape"
   ]
  },
  {
   "cell_type": "code",
   "execution_count": 21,
   "metadata": {},
   "outputs": [
    {
     "data": {
      "text/plain": [
       "(19414, 93)"
      ]
     },
     "execution_count": 21,
     "metadata": {},
     "output_type": "execute_result"
    }
   ],
   "source": [
    "df_test.shape"
   ]
  },
  {
   "cell_type": "code",
   "execution_count": 22,
   "metadata": {},
   "outputs": [],
   "source": [
    "features = df_test.columns.tolist()\n",
    "features.remove('label')"
   ]
  },
  {
   "cell_type": "code",
   "execution_count": 23,
   "metadata": {},
   "outputs": [],
   "source": [
    "X = df_test[features]\n",
    "Y = df_test['label']\n",
    "\n",
    "X_train, X_test, y_train, y_test = train_test_split(X, Y, test_size=0.20, random_state=311)"
   ]
  },
  {
   "cell_type": "code",
   "execution_count": 24,
   "metadata": {},
   "outputs": [],
   "source": [
    "param_grid = { \n",
    "    'gamma': [0.1, 0.01, 0.3],\n",
    "    'scale_pos_weight': [1, 3, 5]\n",
    "}"
   ]
  },
  {
   "cell_type": "code",
   "execution_count": 25,
   "metadata": {},
   "outputs": [
    {
     "name": "stdout",
     "output_type": "stream",
     "text": [
      "Fitting 5 folds for each of 9 candidates, totalling 45 fits\n"
     ]
    },
    {
     "name": "stderr",
     "output_type": "stream",
     "text": [
      "[Parallel(n_jobs=4)]: Done   5 tasks      | elapsed:   36.5s\n",
      "[Parallel(n_jobs=4)]: Done  10 tasks      | elapsed:   57.1s\n",
      "[Parallel(n_jobs=4)]: Done  17 tasks      | elapsed:  1.4min\n",
      "[Parallel(n_jobs=4)]: Done  24 tasks      | elapsed:  1.9min\n",
      "[Parallel(n_jobs=4)]: Done  33 tasks      | elapsed:  2.6min\n",
      "[Parallel(n_jobs=4)]: Done  43 out of  45 | elapsed:  3.5min remaining:    9.7s\n",
      "[Parallel(n_jobs=4)]: Done  45 out of  45 | elapsed:  3.6min finished\n"
     ]
    },
    {
     "data": {
      "text/plain": [
       "GridSearchCV(cv=5, error_score='raise',\n",
       "       estimator=XGBClassifier(base_score=0.5, booster='gbtree', colsample_bylevel=1,\n",
       "       colsample_bytree=1, gamma=0, learning_rate=0.1, max_delta_step=0,\n",
       "       max_depth=3, min_child_weight=1, missing=None, n_estimators=100,\n",
       "       n_jobs=1, nthread=None, objective='binary:logistic',\n",
       "       random_state=80, reg_alpha=0, reg_lambda=1, scale_pos_weight=1,\n",
       "       seed=None, silent=True, subsample=1),\n",
       "       fit_params=None, iid=True, n_jobs=4,\n",
       "       param_grid={'gamma': [0.1, 0.01, 0.3], 'scale_pos_weight': [1, 3, 5]},\n",
       "       pre_dispatch='2*n_jobs', refit=True, return_train_score='warn',\n",
       "       scoring='roc_auc', verbose=10)"
      ]
     },
     "execution_count": 25,
     "metadata": {},
     "output_type": "execute_result"
    }
   ],
   "source": [
    "xgb = XGBClassifier(random_state=80)\n",
    "CV_xgb = GridSearchCV(estimator=xgb, param_grid=param_grid, cv= 5, scoring='roc_auc', n_jobs=4, verbose=10)\n",
    "CV_xgb.fit(X_train, y_train)"
   ]
  },
  {
   "cell_type": "code",
   "execution_count": 26,
   "metadata": {},
   "outputs": [
    {
     "data": {
      "text/plain": [
       "{'gamma': 0.3, 'scale_pos_weight': 1}"
      ]
     },
     "execution_count": 26,
     "metadata": {},
     "output_type": "execute_result"
    }
   ],
   "source": [
    "CV_xgb.best_params_"
   ]
  },
  {
   "cell_type": "code",
   "execution_count": 27,
   "metadata": {},
   "outputs": [
    {
     "data": {
      "text/plain": [
       "0.8719351893611731"
      ]
     },
     "execution_count": 27,
     "metadata": {},
     "output_type": "execute_result"
    }
   ],
   "source": [
    "CV_xgb.best_score_"
   ]
  },
  {
   "cell_type": "markdown",
   "metadata": {},
   "source": [
    "### Combinando ambos\n",
    "\n",
    "Ahora voy a hacer una ponderación entre el resultado del XGB y el KMeans"
   ]
  },
  {
   "cell_type": "code",
   "execution_count": 49,
   "metadata": {},
   "outputs": [],
   "source": [
    "df_submit = pd.read_csv('../data/trocafone_kaggle_test.csv', low_memory=False, index_col='person')\n",
    "df_events = df_submit.join(df_unidos, how='inner')"
   ]
  },
  {
   "cell_type": "code",
   "execution_count": 50,
   "metadata": {},
   "outputs": [],
   "source": [
    "kaggle_pred = CV_xgb.predict_proba(df_events)"
   ]
  },
  {
   "cell_type": "code",
   "execution_count": 53,
   "metadata": {},
   "outputs": [],
   "source": [
    "df_kmeans.set_index('person', inplace=True)"
   ]
  },
  {
   "cell_type": "code",
   "execution_count": 54,
   "metadata": {},
   "outputs": [],
   "source": [
    "df_kmeans = df_submit.join(df_kmeans, how='inner')"
   ]
  },
  {
   "cell_type": "code",
   "execution_count": 56,
   "metadata": {},
   "outputs": [],
   "source": [
    "proba_xgb = [x[1] for x in kaggle_pred]\n",
    "pred_xgb = [x[0] for x in kaggle_pred]\n",
    "\n",
    "df_kmeans['proba_de_comprar'] = proba_xgb\n",
    "df_kmeans['clases_xgb'] = pred_xgb "
   ]
  },
  {
   "cell_type": "markdown",
   "metadata": {},
   "source": [
    "### Clases del KMeans"
   ]
  },
  {
   "cell_type": "code",
   "execution_count": 58,
   "metadata": {},
   "outputs": [
    {
     "data": {
      "text/plain": [
       "1    17685\n",
       "0     1730\n",
       "Name: clases_kmeans, dtype: int64"
      ]
     },
     "execution_count": 58,
     "metadata": {},
     "output_type": "execute_result"
    }
   ],
   "source": [
    "df_kmeans['clases_kmeans'].value_counts()"
   ]
  },
  {
   "cell_type": "code",
   "execution_count": 64,
   "metadata": {},
   "outputs": [],
   "source": [
    "df_kmeans['proba_final'] = df_kmeans['proba_de_comprar'] + ((1-df_kmeans['clases_kmeans']) * 0.05)"
   ]
  },
  {
   "cell_type": "code",
   "execution_count": 65,
   "metadata": {},
   "outputs": [
    {
     "data": {
      "text/html": [
       "<div>\n",
       "<style scoped>\n",
       "    .dataframe tbody tr th:only-of-type {\n",
       "        vertical-align: middle;\n",
       "    }\n",
       "\n",
       "    .dataframe tbody tr th {\n",
       "        vertical-align: top;\n",
       "    }\n",
       "\n",
       "    .dataframe thead th {\n",
       "        text-align: right;\n",
       "    }\n",
       "</style>\n",
       "<table border=\"1\" class=\"dataframe\">\n",
       "  <thead>\n",
       "    <tr style=\"text-align: right;\">\n",
       "      <th></th>\n",
       "      <th>clases_kmeans</th>\n",
       "      <th>proba_de_comprar</th>\n",
       "      <th>clases_xgb</th>\n",
       "      <th>proba_final</th>\n",
       "    </tr>\n",
       "    <tr>\n",
       "      <th>person</th>\n",
       "      <th></th>\n",
       "      <th></th>\n",
       "      <th></th>\n",
       "      <th></th>\n",
       "    </tr>\n",
       "  </thead>\n",
       "  <tbody>\n",
       "    <tr>\n",
       "      <th>4886f805</th>\n",
       "      <td>1</td>\n",
       "      <td>0.003501</td>\n",
       "      <td>0.996499</td>\n",
       "      <td>0.003501</td>\n",
       "    </tr>\n",
       "    <tr>\n",
       "      <th>0297fc1e</th>\n",
       "      <td>0</td>\n",
       "      <td>0.027697</td>\n",
       "      <td>0.972303</td>\n",
       "      <td>0.077697</td>\n",
       "    </tr>\n",
       "    <tr>\n",
       "      <th>2d681dd8</th>\n",
       "      <td>1</td>\n",
       "      <td>0.009686</td>\n",
       "      <td>0.990314</td>\n",
       "      <td>0.009686</td>\n",
       "    </tr>\n",
       "    <tr>\n",
       "      <th>cccea85e</th>\n",
       "      <td>0</td>\n",
       "      <td>0.198066</td>\n",
       "      <td>0.801934</td>\n",
       "      <td>0.248066</td>\n",
       "    </tr>\n",
       "    <tr>\n",
       "      <th>4c8a8b93</th>\n",
       "      <td>0</td>\n",
       "      <td>0.014895</td>\n",
       "      <td>0.985105</td>\n",
       "      <td>0.064895</td>\n",
       "    </tr>\n",
       "  </tbody>\n",
       "</table>\n",
       "</div>"
      ],
      "text/plain": [
       "          clases_kmeans  proba_de_comprar  clases_xgb  proba_final\n",
       "person                                                            \n",
       "4886f805              1          0.003501    0.996499     0.003501\n",
       "0297fc1e              0          0.027697    0.972303     0.077697\n",
       "2d681dd8              1          0.009686    0.990314     0.009686\n",
       "cccea85e              0          0.198066    0.801934     0.248066\n",
       "4c8a8b93              0          0.014895    0.985105     0.064895"
      ]
     },
     "execution_count": 65,
     "metadata": {},
     "output_type": "execute_result"
    }
   ],
   "source": [
    "df_kmeans.head(5)"
   ]
  },
  {
   "cell_type": "code",
   "execution_count": 66,
   "metadata": {},
   "outputs": [
    {
     "data": {
      "text/plain": [
       "(19415, 92)"
      ]
     },
     "execution_count": 66,
     "metadata": {},
     "output_type": "execute_result"
    }
   ],
   "source": [
    "df_events.shape"
   ]
  },
  {
   "cell_type": "code",
   "execution_count": 67,
   "metadata": {},
   "outputs": [],
   "source": [
    "series = pd.Series(df_kmeans['proba_final'])\n",
    "df_submit['label'] = series.values"
   ]
  },
  {
   "cell_type": "code",
   "execution_count": 68,
   "metadata": {},
   "outputs": [],
   "source": [
    "df_submit.to_csv('../submit_kmeans_avg_v1.csv')"
   ]
  },
  {
   "cell_type": "code",
   "execution_count": null,
   "metadata": {},
   "outputs": [],
   "source": []
  }
 ],
 "metadata": {
  "kernelspec": {
   "display_name": "Python 3",
   "language": "python",
   "name": "python3"
  },
  "language_info": {
   "codemirror_mode": {
    "name": "ipython",
    "version": 3
   },
   "file_extension": ".py",
   "mimetype": "text/x-python",
   "name": "python",
   "nbconvert_exporter": "python",
   "pygments_lexer": "ipython3",
   "version": "3.6.5"
  }
 },
 "nbformat": 4,
 "nbformat_minor": 2
}
