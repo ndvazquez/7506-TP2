{
 "cells": [
  {
   "cell_type": "code",
   "execution_count": 1,
   "metadata": {},
   "outputs": [],
   "source": [
    "import pandas as pd\n",
    "import numpy as np\n",
    "from sklearn.model_selection import GridSearchCV\n",
    "import lightgbm as lgb\n",
    "from sklearn.model_selection import train_test_split\n",
    "from sklearn.metrics import classification_report, roc_auc_score"
   ]
  },
  {
   "cell_type": "code",
   "execution_count": 2,
   "metadata": {},
   "outputs": [
    {
     "data": {
      "text/plain": [
       "(19414, 101)"
      ]
     },
     "execution_count": 2,
     "metadata": {},
     "output_type": "execute_result"
    }
   ],
   "source": [
    "df1 = pd.read_csv('../data/features_basicas.csv', low_memory=False, index_col='person')\n",
    "df2 = pd.read_csv('../data/features_checkouts.csv', low_memory=False, index_col='person')\n",
    "df3 = pd.read_csv('../data/features_vistos.csv', low_memory=False, index_col='person')\n",
    "df4 = pd.read_csv('../data/feature_dispositivo_mas_usado.csv', low_memory=False, index_col='person')\n",
    "df5 = pd.read_csv('../data/feature_dia_mas_activo.csv', low_memory=False, index_col='person')\n",
    "df6 = pd.read_csv('../data/feature_compra_onsite.csv', low_memory=False, index_col='person')\n",
    "df7 = pd.read_csv('../data/feature_cantidad_de_eventos_en_intervalos.csv', low_memory=False, index_col='person')\n",
    "df8 = pd.read_csv('../data/feature_dispositivos_storage.csv', low_memory=False, index_col='person')\n",
    "df9 = pd.read_csv('../data/featureUsuarioSonDeSaoPablo.csv', low_memory=False, index_col='person')\n",
    "df10 = pd.read_csv('../data/featureCantidadMaximaPersonaVeUnProducto.csv', low_memory=False, index_col='person')\n",
    "df11 = pd.read_csv('../data/features_basicas_ult_quin.csv', low_memory=False, index_col='person')\n",
    "df12 = pd.read_csv('../data/features_ultima_ocurrencia_cada_evento.csv', low_memory=False, index_col='person')\n",
    "df13 = pd.read_csv('../data/days_elapsed_from_last_event.csv', low_memory=False, index_col='person')\n",
    "df14 = pd.read_csv('../data/featureUsuarioRealiza30EventosEn20MinsLosUltimos2Dias.csv', low_memory=False, index_col='person')\n",
    "df15 = pd.read_csv('../data/features_ultimo_checkout.csv', low_memory=False, index_col='person')\n",
    "df16 = pd.read_csv('../data/diferencia_de_count_de_eventos.csv', low_memory=False, index_col='person')\n",
    "df17 = pd.read_csv('../data/top_10_celulares.csv', low_memory=False, index_col='person')\n",
    "df18 = pd.read_csv('../data/feature_cantidad_de_eventos_en_intervalos_ult_quin.csv', low_memory=False, index_col='person')\n",
    "df19 = pd.read_csv('../data/feature_color_checkout_ult15dias.csv', low_memory=False, index_col='person')\n",
    "\n",
    "labels = pd.read_csv('../data/labels_training_set.csv', low_memory=False, index_col='person')\n",
    "\n",
    "df_unidos = df1.join(df2, how='inner')\n",
    "df_unidos = df_unidos.join(df3, how='inner')\n",
    "df_unidos = df_unidos.join(df4, how='inner')\n",
    "df_unidos = df_unidos.join(df5, how='inner')\n",
    "df_unidos = df_unidos.join(df6, how='inner')\n",
    "df_unidos = df_unidos.join(df7, how='inner')\n",
    "df_unidos = df_unidos.join(df8, how='inner')\n",
    "df_unidos = df_unidos.join(df9, how='inner')\n",
    "df_unidos = df_unidos.join(df10, how='inner')\n",
    "df_unidos = df_unidos.join(df11, how='inner')\n",
    "df_unidos = df_unidos.join(df12, how='inner')\n",
    "df_unidos = df_unidos.join(df13, how='inner')\n",
    "df_unidos = df_unidos.join(df14, how='inner')\n",
    "df_unidos = df_unidos.join(df15, how='inner')\n",
    "# Al que tenga \"diferencia_de_count_de_eventos.csv\" hay que rellenarlo\n",
    "df_unidos = df_unidos.join(df16).fillna(0)\n",
    "df_unidos = df_unidos.join(df17, how='inner')\n",
    "df_unidos = df_unidos.join(df18, how='inner')\n",
    "df_unidos = df_unidos.join(df19, how='inner')\n",
    "\n",
    "#  Le asigno las features al subset de usuarios que nos da Trocafone para entrenar.\n",
    "df_test = df_unidos.join(labels, on='person', how='inner')\n",
    "df_test.shape"
   ]
  },
  {
   "cell_type": "code",
   "execution_count": 3,
   "metadata": {},
   "outputs": [],
   "source": [
    "features = df_test.columns.tolist()\n",
    "features.remove('label')"
   ]
  },
  {
   "cell_type": "code",
   "execution_count": 4,
   "metadata": {},
   "outputs": [],
   "source": [
    "X = df_test[features]\n",
    "Y = df_test['label']\n",
    "\n",
    "X_train, X_test, y_train, y_test = train_test_split(X, Y, test_size=0.20, random_state=311)"
   ]
  },
  {
   "cell_type": "code",
   "execution_count": 14,
   "metadata": {},
   "outputs": [],
   "source": [
    "param_grid = { \n",
    "    'num_leaves': [1000, 500, 100],\n",
    "    'max_depth': [3,5, 7, 10],\n",
    "    'reg_lambda': [0.1, 1, 10]\n",
    "}"
   ]
  },
  {
   "cell_type": "code",
   "execution_count": 15,
   "metadata": {},
   "outputs": [
    {
     "data": {
      "text/plain": [
       "GridSearchCV(cv=10, error_score='raise-deprecating',\n",
       "       estimator=LGBMClassifier(boosting_type='gbdt', class_weight='balanced',\n",
       "        colsample_bytree=0.9, importance_type='split', learning_rate=0.1,\n",
       "        max_depth=-1, min_child_samples=20, min_child_weight=0.001,\n",
       "        min_split_gain=0.0, n_estimators=100, n_jobs=-1, num_leaves=31,\n",
       "        objective=None, random_state=80, reg_alpha=0.0, reg_lambda=0.0,\n",
       "        silent=True, subsample=1.0, subsample_for_bin=200000,\n",
       "        subsample_freq=0),\n",
       "       fit_params=None, iid='warn', n_jobs=4,\n",
       "       param_grid={'num_leaves': [1000, 500, 100], 'max_depth': [3, 5, 7, 10], 'reg_lambda': [0.1, 1, 10]},\n",
       "       pre_dispatch='2*n_jobs', refit=True, return_train_score='warn',\n",
       "       scoring='roc_auc', verbose=0)"
      ]
     },
     "execution_count": 15,
     "metadata": {},
     "output_type": "execute_result"
    }
   ],
   "source": [
    "_lgb = lgb.LGBMClassifier(random_state=80, class_weight='balanced', colsample_bytree=0.9)\n",
    "CV_lgb = GridSearchCV(estimator=_lgb, param_grid=param_grid, cv=10, scoring='roc_auc', n_jobs=4)\n",
    "CV_lgb.fit(X_train, y_train)"
   ]
  },
  {
   "cell_type": "code",
   "execution_count": 16,
   "metadata": {},
   "outputs": [
    {
     "data": {
      "text/plain": [
       "{'max_depth': 3, 'num_leaves': 1000, 'reg_lambda': 10}"
      ]
     },
     "execution_count": 16,
     "metadata": {},
     "output_type": "execute_result"
    }
   ],
   "source": [
    "CV_lgb.best_params_"
   ]
  },
  {
   "cell_type": "code",
   "execution_count": 17,
   "metadata": {},
   "outputs": [
    {
     "data": {
      "text/plain": [
       "0.8731341905903864"
      ]
     },
     "execution_count": 17,
     "metadata": {},
     "output_type": "execute_result"
    }
   ],
   "source": [
    "CV_lgb.best_score_"
   ]
  },
  {
   "cell_type": "code",
   "execution_count": 18,
   "metadata": {},
   "outputs": [
    {
     "name": "stdout",
     "output_type": "stream",
     "text": [
      "0.8530402930402929\n"
     ]
    }
   ],
   "source": [
    "#model_lgb = lgb.LGBMClassifier(random_state=80,\\\n",
    "#                               n_estimators=1000, learning_rate=0.01, max_depth=4, gamma=1)\n",
    "#model_lgb.fit(X_train, y_train)\n",
    "#y_pred = model_lgb.predict_proba(X_test)\n",
    "y_pred = CV_lgb.predict_proba(X_test)\n",
    "y_pred_proba = [p[1] for p in y_pred]\n",
    "print(roc_auc_score(y_test, y_pred_proba))"
   ]
  },
  {
   "cell_type": "code",
   "execution_count": 19,
   "metadata": {},
   "outputs": [],
   "source": [
    "df_submit = pd.read_csv('../data/trocafone_kaggle_test.csv', low_memory=False, index_col='person')\n",
    "df_events = df_submit.join(df_unidos[features], how='inner')"
   ]
  },
  {
   "cell_type": "code",
   "execution_count": 20,
   "metadata": {},
   "outputs": [
    {
     "data": {
      "text/plain": [
       "(19415, 100)"
      ]
     },
     "execution_count": 20,
     "metadata": {},
     "output_type": "execute_result"
    }
   ],
   "source": [
    "df_events.shape"
   ]
  },
  {
   "cell_type": "code",
   "execution_count": 21,
   "metadata": {},
   "outputs": [],
   "source": [
    "kaggle_pred = CV_lgb.predict_proba(df_events)\n",
    "proba_de_comprar = [x[1] for x in kaggle_pred]\n",
    "series = pd.Series(proba_de_comprar)\n",
    "df_submit['label'] = series.values"
   ]
  },
  {
   "cell_type": "code",
   "execution_count": 22,
   "metadata": {},
   "outputs": [],
   "source": [
    "df_submit.to_csv('../submit_lgbm_v5.csv')"
   ]
  },
  {
   "cell_type": "code",
   "execution_count": null,
   "metadata": {},
   "outputs": [],
   "source": []
  }
 ],
 "metadata": {
  "kernelspec": {
   "display_name": "Python 3",
   "language": "python",
   "name": "python3"
  },
  "language_info": {
   "codemirror_mode": {
    "name": "ipython",
    "version": 3
   },
   "file_extension": ".py",
   "mimetype": "text/x-python",
   "name": "python",
   "nbconvert_exporter": "python",
   "pygments_lexer": "ipython3",
   "version": "3.6.6"
  }
 },
 "nbformat": 4,
 "nbformat_minor": 2
}
