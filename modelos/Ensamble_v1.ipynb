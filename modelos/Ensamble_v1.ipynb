{
 "cells": [
  {
   "cell_type": "code",
   "execution_count": 1,
   "metadata": {},
   "outputs": [],
   "source": [
    "import pandas as pd\n",
    "import numpy as np\n",
    "from sklearn.ensemble import RandomForestClassifier\n",
    "import lightgbm as lgb\n",
    "from xgboost import XGBClassifier\n",
    "from sklearn.model_selection import train_test_split\n",
    "from sklearn.metrics import roc_auc_score"
   ]
  },
  {
   "cell_type": "code",
   "execution_count": 2,
   "metadata": {},
   "outputs": [
    {
     "data": {
      "text/plain": [
       "(19414, 93)"
      ]
     },
     "execution_count": 2,
     "metadata": {},
     "output_type": "execute_result"
    }
   ],
   "source": [
    "df1 = pd.read_csv('../data/features_basicas.csv', low_memory=False, index_col='person')\n",
    "df2 = pd.read_csv('../data/features_checkouts.csv', low_memory=False, index_col='person')\n",
    "df3 = pd.read_csv('../data/features_vistos.csv', low_memory=False, index_col='person')\n",
    "df4 = pd.read_csv('../data/feature_dispositivo_mas_usado.csv', low_memory=False, index_col='person')\n",
    "df5 = pd.read_csv('../data/feature_dia_mas_activo.csv', low_memory=False, index_col='person')\n",
    "df6 = pd.read_csv('../data/feature_compra_onsite.csv', low_memory=False, index_col='person')\n",
    "df7 = pd.read_csv('../data/feature_cantidad_de_eventos_en_intervalos.csv', low_memory=False, index_col='person')\n",
    "df8 = pd.read_csv('../data/feature_dispositivos_storage.csv', low_memory=False, index_col='person')\n",
    "df9 = pd.read_csv('../data/featureUsuarioSonDeSaoPablo.csv', low_memory=False, index_col='person')\n",
    "df10 = pd.read_csv('../data/featureCantidadMaximaPersonaVeUnProducto.csv', low_memory=False, index_col='person')\n",
    "df11 = pd.read_csv('../data/featureUltimaConexion.csv', low_memory=False, index_col='person')\n",
    "df12 = pd.read_csv('../data/features_basicas_ult_quin.csv', low_memory=False, index_col='person')\n",
    "df14 = pd.read_csv('../data/days_elapsed_from_last_event.csv', low_memory=False, index_col='person')\n",
    "df15 = pd.read_csv('../data/featureUsuarioRealiza30EventosEn20MinsLosUltimos2Dias.csv', low_memory=False, index_col='person')\n",
    "df16 = pd.read_csv('../data/features_ultimo_checkout.csv', low_memory=False, index_col='person')\n",
    "df17 = pd.read_csv('../data/diferencia_de_count_de_eventos.csv', low_memory=False, index_col='person')\n",
    "df18 = pd.read_csv('../data/top_10_celulares.csv', low_memory=False, index_col='person')\n",
    "df19 = pd.read_csv('../data/feature_cantidad_de_eventos_en_intervalos_ult_quin.csv', low_memory=False, index_col='person')\n",
    "\n",
    "labels = pd.read_csv('../data/labels_training_set.csv', low_memory=False, index_col='person')\n",
    "\n",
    "df_unidos = df1.join(df2, how='inner')\n",
    "df_unidos = df_unidos.join(df3, how='inner')\n",
    "df_unidos = df_unidos.join(df4, how='inner')\n",
    "df_unidos = df_unidos.join(df5, how='inner')\n",
    "df_unidos = df_unidos.join(df6, how='inner')\n",
    "df_unidos = df_unidos.join(df7, how='inner')\n",
    "df_unidos = df_unidos.join(df8, how='inner')\n",
    "df_unidos = df_unidos.join(df9, how='inner')\n",
    "df_unidos = df_unidos.join(df10, how='inner')\n",
    "df_unidos = df_unidos.join(df11, how='inner')\n",
    "df_unidos = df_unidos.join(df12, how='inner')\n",
    "df_unidos = df_unidos.join(df14, how='inner')\n",
    "df_unidos = df_unidos.join(df15, how='inner')\n",
    "df_unidos = df_unidos.join(df16, how='inner')\n",
    "df_unidos = df_unidos.join(df17).fillna(0)\n",
    "df_unidos = df_unidos.join(df18, how='inner')\n",
    "df_unidos = df_unidos.join(df19, how='inner')\n",
    "\n",
    "#  Le asigno las features al subset de usuarios que nos da Trocafone para entrenar.\n",
    "df_test = df_unidos.join(labels, on='person', how='inner')\n",
    "df_ensamble = df_unidos.reset_index()[['person']].set_index('person')\n",
    "df_test.shape"
   ]
  },
  {
   "cell_type": "code",
   "execution_count": 3,
   "metadata": {},
   "outputs": [
    {
     "data": {
      "text/plain": [
       "(38829, 92)"
      ]
     },
     "execution_count": 3,
     "metadata": {},
     "output_type": "execute_result"
    }
   ],
   "source": [
    "df_unidos.shape"
   ]
  },
  {
   "cell_type": "code",
   "execution_count": 4,
   "metadata": {},
   "outputs": [
    {
     "data": {
      "text/plain": [
       "(38829, 0)"
      ]
     },
     "execution_count": 4,
     "metadata": {},
     "output_type": "execute_result"
    }
   ],
   "source": [
    "df_ensamble.shape"
   ]
  },
  {
   "cell_type": "code",
   "execution_count": 5,
   "metadata": {},
   "outputs": [],
   "source": [
    "features = df_test.columns.tolist()\n",
    "features.remove('label')"
   ]
  },
  {
   "cell_type": "code",
   "execution_count": 6,
   "metadata": {},
   "outputs": [],
   "source": [
    "#  Partimos los datos que tenemos para entrenar en dos partes, una para entrenar el modelo (80% de los datos)\n",
    "#  y la otra parte se usará para probar el modelo (el 20% restante)\n",
    "X_train, X_test, Y_train, Y_test = train_test_split(df_test[features],\\\n",
    "                                                    df_test['label'], test_size=0.20, random_state=80)"
   ]
  },
  {
   "cell_type": "markdown",
   "metadata": {},
   "source": [
    "## RandomForest"
   ]
  },
  {
   "cell_type": "code",
   "execution_count": 7,
   "metadata": {},
   "outputs": [],
   "source": [
    "rf = RandomForestClassifier(n_estimators=3000, n_jobs=-1, min_samples_split=300,\\\n",
    "                            max_depth=7, random_state=80, class_weight='balanced')\n",
    "rf.fit(X_train,Y_train)\n",
    "Y_pred_rf = rf.predict_proba(df_unidos)\n",
    "feature_rf = pd.Series([x[1] for x in Y_pred_rf])\n",
    "df_ensamble['pred_rf'] = feature_rf.values"
   ]
  },
  {
   "cell_type": "markdown",
   "metadata": {},
   "source": [
    "## LightGBM_v1"
   ]
  },
  {
   "cell_type": "code",
   "execution_count": 8,
   "metadata": {},
   "outputs": [],
   "source": [
    "model_lgbm_v1 = lgb.LGBMClassifier(random_state=80, num_leaves=1000,\\\n",
    "                               n_estimators=500, learning_rate=0.01, max_depth=5)\n",
    "model_lgbm_v1.fit(X_train, Y_train)\n",
    "Y_pred_lgbm_v1 = model_lgbm_v1.predict_proba(df_unidos)\n",
    "feature_lgbm_v1 = pd.Series([x[1] for x in Y_pred_lgbm_v1])\n",
    "df_ensamble['pred_lgbm_v1'] = feature_lgbm_v1.values"
   ]
  },
  {
   "cell_type": "markdown",
   "metadata": {},
   "source": [
    "## LightGBM_v2"
   ]
  },
  {
   "cell_type": "code",
   "execution_count": 9,
   "metadata": {},
   "outputs": [],
   "source": [
    "model_lgbm_v2 = lgb.LGBMClassifier(random_state=80,\\\n",
    "                               n_estimators=1000, learning_rate=0.01, max_depth=4, gamma=1)\n",
    "model_lgbm_v2.fit(X_train, Y_train)\n",
    "Y_pred_lgbm_v2 = model_lgbm_v2.predict_proba(df_unidos)\n",
    "feature_lgbm_v2 = pd.Series([x[1] for x in Y_pred_lgbm_v2])\n",
    "df_ensamble['pred_lgbm_v2'] = feature_lgbm_v2.values"
   ]
  },
  {
   "cell_type": "markdown",
   "metadata": {},
   "source": [
    "## XGBoost_v2"
   ]
  },
  {
   "cell_type": "code",
   "execution_count": 10,
   "metadata": {},
   "outputs": [],
   "source": [
    "model_xgb_v2 = XGBClassifier(scale_pos_weight=1, n_estimators=100, random_state=80, max_depth=3)\n",
    "model_xgb_v2.fit(X_train, Y_train)\n",
    "Y_pred_xgb_v2 = model_xgb_v2.predict_proba(df_unidos)\n",
    "feature_xgb_v2 = pd.Series([x[1] for x in Y_pred_xgb_v2])\n",
    "df_ensamble['pred_xgb_v2'] = feature_xgb_v2.values"
   ]
  },
  {
   "cell_type": "code",
   "execution_count": 11,
   "metadata": {},
   "outputs": [],
   "source": [
    "df_ensamble = df_ensamble.join(df_unidos, how='inner')"
   ]
  },
  {
   "cell_type": "code",
   "execution_count": 12,
   "metadata": {},
   "outputs": [
    {
     "data": {
      "text/plain": [
       "(38829, 96)"
      ]
     },
     "execution_count": 12,
     "metadata": {},
     "output_type": "execute_result"
    }
   ],
   "source": [
    "df_ensamble.shape"
   ]
  },
  {
   "cell_type": "markdown",
   "metadata": {},
   "source": [
    "## Ensamble de los 4 modelos usando XGBoost_v2"
   ]
  },
  {
   "cell_type": "code",
   "execution_count": 13,
   "metadata": {},
   "outputs": [],
   "source": [
    "df_test_ensamble = df_ensamble.join(labels, on='person', how='inner')\n",
    "features_ensamble = df_test_ensamble.columns.tolist()\n",
    "features_ensamble.remove('label')\n",
    "X_train_ens, X_test_ens, Y_train_ens, Y_test_ens = train_test_split(df_test_ensamble[features_ensamble],\\\n",
    "                                                    df_test_ensamble['label'], test_size=0.20, random_state=80)"
   ]
  },
  {
   "cell_type": "code",
   "execution_count": 14,
   "metadata": {},
   "outputs": [
    {
     "name": "stdout",
     "output_type": "stream",
     "text": [
      "0.8603099414681029\n"
     ]
    }
   ],
   "source": [
    "ensamble = RandomForestClassifier(n_estimators=3000, n_jobs=-1, min_samples_split=300,\\\n",
    "                            max_depth=7, random_state=80, class_weight='balanced')\n",
    "ensamble.fit(X_train_ens, Y_train_ens)\n",
    "y_pred = ensamble.predict_proba(X_test_ens)\n",
    "y_pred_proba = [p[1] for p in y_pred]\n",
    "print(roc_auc_score(Y_test_ens, y_pred_proba))"
   ]
  },
  {
   "cell_type": "code",
   "execution_count": 15,
   "metadata": {},
   "outputs": [
    {
     "data": {
      "text/html": [
       "<div>\n",
       "<style scoped>\n",
       "    .dataframe tbody tr th:only-of-type {\n",
       "        vertical-align: middle;\n",
       "    }\n",
       "\n",
       "    .dataframe tbody tr th {\n",
       "        vertical-align: top;\n",
       "    }\n",
       "\n",
       "    .dataframe thead th {\n",
       "        text-align: right;\n",
       "    }\n",
       "</style>\n",
       "<table border=\"1\" class=\"dataframe\">\n",
       "  <thead>\n",
       "    <tr style=\"text-align: right;\">\n",
       "      <th></th>\n",
       "      <th>importance</th>\n",
       "    </tr>\n",
       "  </thead>\n",
       "  <tbody>\n",
       "    <tr>\n",
       "      <th>pred_lgbm_v1</th>\n",
       "      <td>0.222612</td>\n",
       "    </tr>\n",
       "    <tr>\n",
       "      <th>pred_lgbm_v2</th>\n",
       "      <td>0.179526</td>\n",
       "    </tr>\n",
       "    <tr>\n",
       "      <th>pred_xgb_v2</th>\n",
       "      <td>0.120616</td>\n",
       "    </tr>\n",
       "    <tr>\n",
       "      <th>pred_rf</th>\n",
       "      <td>0.115302</td>\n",
       "    </tr>\n",
       "    <tr>\n",
       "      <th>storage_mas_checkout</th>\n",
       "      <td>0.049296</td>\n",
       "    </tr>\n",
       "  </tbody>\n",
       "</table>\n",
       "</div>"
      ],
      "text/plain": [
       "                      importance\n",
       "pred_lgbm_v1            0.222612\n",
       "pred_lgbm_v2            0.179526\n",
       "pred_xgb_v2             0.120616\n",
       "pred_rf                 0.115302\n",
       "storage_mas_checkout    0.049296"
      ]
     },
     "execution_count": 15,
     "metadata": {},
     "output_type": "execute_result"
    }
   ],
   "source": [
    "#  Acá quedan ordenadas las features por importancia para el modelo, aparentemente la marca más vista y la marca\n",
    "#  que más compró cada usuario no es tan importante.\n",
    "feature_importances = pd.DataFrame(ensamble.feature_importances_,\\\n",
    "                                   index = df_test_ensamble[features_ensamble].columns,\\\n",
    "                                    columns=['importance']).sort_values('importance',ascending=False)\n",
    "\n",
    "feature_importances.head(5)"
   ]
  },
  {
   "cell_type": "code",
   "execution_count": 16,
   "metadata": {},
   "outputs": [],
   "source": [
    "df_submit = pd.read_csv('../data/trocafone_kaggle_test.csv', low_memory=False, index_col='person')\n",
    "df_events = df_submit.join(df_ensamble, how='inner')"
   ]
  },
  {
   "cell_type": "code",
   "execution_count": 17,
   "metadata": {},
   "outputs": [
    {
     "data": {
      "text/plain": [
       "(19415, 96)"
      ]
     },
     "execution_count": 17,
     "metadata": {},
     "output_type": "execute_result"
    }
   ],
   "source": [
    "df_events.shape"
   ]
  },
  {
   "cell_type": "code",
   "execution_count": 18,
   "metadata": {},
   "outputs": [],
   "source": [
    "kaggle_pred = ensamble.predict_proba(df_events)\n",
    "proba_de_comprar = [x[1] for x in kaggle_pred]\n",
    "series = pd.Series(proba_de_comprar)\n",
    "df_submit['label'] = series.values"
   ]
  },
  {
   "cell_type": "code",
   "execution_count": 19,
   "metadata": {},
   "outputs": [],
   "source": [
    "df_submit.to_csv('../submit_ensamble.csv')"
   ]
  },
  {
   "cell_type": "code",
   "execution_count": 20,
   "metadata": {},
   "outputs": [
    {
     "data": {
      "text/html": [
       "<div>\n",
       "<style scoped>\n",
       "    .dataframe tbody tr th:only-of-type {\n",
       "        vertical-align: middle;\n",
       "    }\n",
       "\n",
       "    .dataframe tbody tr th {\n",
       "        vertical-align: top;\n",
       "    }\n",
       "\n",
       "    .dataframe thead th {\n",
       "        text-align: right;\n",
       "    }\n",
       "</style>\n",
       "<table border=\"1\" class=\"dataframe\">\n",
       "  <thead>\n",
       "    <tr style=\"text-align: right;\">\n",
       "      <th></th>\n",
       "      <th>pred_rf</th>\n",
       "      <th>pred_lgbm_v1</th>\n",
       "      <th>pred_lgbm_v2</th>\n",
       "      <th>pred_xgb_v2</th>\n",
       "      <th>tiene_checkouts</th>\n",
       "      <th>llegaron_por_ad</th>\n",
       "      <th>llegaron_por_search</th>\n",
       "      <th>tiene_conversions</th>\n",
       "      <th>cant_conversions</th>\n",
       "      <th>cant_checkouts</th>\n",
       "      <th>...</th>\n",
       "      <th>diff_checkouts_15_dias</th>\n",
       "      <th>diff_visited_site_15_dias</th>\n",
       "      <th>diff_searched_products_15_dias</th>\n",
       "      <th>diff_viewed_products_15_dias</th>\n",
       "      <th>total_top_10_phones_checkout</th>\n",
       "      <th>different_top_10_phones_checkout</th>\n",
       "      <th>ult_quin_cant_eventos_4_a_10hs</th>\n",
       "      <th>ult_quin_cant_eventos_11_a_14hs</th>\n",
       "      <th>ult_quin_cant_eventos_15_a_20hs</th>\n",
       "      <th>ult_quin_cant_eventos_21_a_3hs</th>\n",
       "    </tr>\n",
       "    <tr>\n",
       "      <th>person</th>\n",
       "      <th></th>\n",
       "      <th></th>\n",
       "      <th></th>\n",
       "      <th></th>\n",
       "      <th></th>\n",
       "      <th></th>\n",
       "      <th></th>\n",
       "      <th></th>\n",
       "      <th></th>\n",
       "      <th></th>\n",
       "      <th></th>\n",
       "      <th></th>\n",
       "      <th></th>\n",
       "      <th></th>\n",
       "      <th></th>\n",
       "      <th></th>\n",
       "      <th></th>\n",
       "      <th></th>\n",
       "      <th></th>\n",
       "      <th></th>\n",
       "      <th></th>\n",
       "    </tr>\n",
       "  </thead>\n",
       "  <tbody>\n",
       "    <tr>\n",
       "      <th>4886f805</th>\n",
       "      <td>0.047171</td>\n",
       "      <td>0.003316</td>\n",
       "      <td>0.003194</td>\n",
       "      <td>0.004160</td>\n",
       "      <td>True</td>\n",
       "      <td>False</td>\n",
       "      <td>True</td>\n",
       "      <td>False</td>\n",
       "      <td>0.0</td>\n",
       "      <td>1.0</td>\n",
       "      <td>...</td>\n",
       "      <td>0.0</td>\n",
       "      <td>0.0</td>\n",
       "      <td>0.0</td>\n",
       "      <td>0.0</td>\n",
       "      <td>0.0</td>\n",
       "      <td>0.0</td>\n",
       "      <td>0.0</td>\n",
       "      <td>0.0</td>\n",
       "      <td>0.0</td>\n",
       "      <td>9.0</td>\n",
       "    </tr>\n",
       "    <tr>\n",
       "      <th>ad93850f</th>\n",
       "      <td>0.362707</td>\n",
       "      <td>0.091421</td>\n",
       "      <td>0.075257</td>\n",
       "      <td>0.087732</td>\n",
       "      <td>True</td>\n",
       "      <td>True</td>\n",
       "      <td>True</td>\n",
       "      <td>False</td>\n",
       "      <td>0.0</td>\n",
       "      <td>1.0</td>\n",
       "      <td>...</td>\n",
       "      <td>0.0</td>\n",
       "      <td>0.0</td>\n",
       "      <td>0.0</td>\n",
       "      <td>0.0</td>\n",
       "      <td>1.0</td>\n",
       "      <td>1.0</td>\n",
       "      <td>0.0</td>\n",
       "      <td>0.0</td>\n",
       "      <td>0.0</td>\n",
       "      <td>65.0</td>\n",
       "    </tr>\n",
       "    <tr>\n",
       "      <th>0297fc1e</th>\n",
       "      <td>0.377176</td>\n",
       "      <td>0.009888</td>\n",
       "      <td>0.009313</td>\n",
       "      <td>0.017897</td>\n",
       "      <td>True</td>\n",
       "      <td>True</td>\n",
       "      <td>False</td>\n",
       "      <td>False</td>\n",
       "      <td>0.0</td>\n",
       "      <td>7.0</td>\n",
       "      <td>...</td>\n",
       "      <td>0.0</td>\n",
       "      <td>21.0</td>\n",
       "      <td>0.0</td>\n",
       "      <td>73.0</td>\n",
       "      <td>1.0</td>\n",
       "      <td>1.0</td>\n",
       "      <td>3.0</td>\n",
       "      <td>31.0</td>\n",
       "      <td>74.0</td>\n",
       "      <td>27.0</td>\n",
       "    </tr>\n",
       "    <tr>\n",
       "      <th>2d681dd8</th>\n",
       "      <td>0.097846</td>\n",
       "      <td>0.010542</td>\n",
       "      <td>0.009956</td>\n",
       "      <td>0.008807</td>\n",
       "      <td>True</td>\n",
       "      <td>True</td>\n",
       "      <td>True</td>\n",
       "      <td>False</td>\n",
       "      <td>0.0</td>\n",
       "      <td>1.0</td>\n",
       "      <td>...</td>\n",
       "      <td>0.0</td>\n",
       "      <td>0.0</td>\n",
       "      <td>0.0</td>\n",
       "      <td>0.0</td>\n",
       "      <td>1.0</td>\n",
       "      <td>1.0</td>\n",
       "      <td>0.0</td>\n",
       "      <td>0.0</td>\n",
       "      <td>16.0</td>\n",
       "      <td>10.0</td>\n",
       "    </tr>\n",
       "    <tr>\n",
       "      <th>cccea85e</th>\n",
       "      <td>0.681406</td>\n",
       "      <td>0.122966</td>\n",
       "      <td>0.045670</td>\n",
       "      <td>0.107495</td>\n",
       "      <td>True</td>\n",
       "      <td>True</td>\n",
       "      <td>True</td>\n",
       "      <td>False</td>\n",
       "      <td>0.0</td>\n",
       "      <td>1.0</td>\n",
       "      <td>...</td>\n",
       "      <td>-1.0</td>\n",
       "      <td>12.0</td>\n",
       "      <td>1.0</td>\n",
       "      <td>311.0</td>\n",
       "      <td>0.0</td>\n",
       "      <td>0.0</td>\n",
       "      <td>0.0</td>\n",
       "      <td>77.0</td>\n",
       "      <td>215.0</td>\n",
       "      <td>297.0</td>\n",
       "    </tr>\n",
       "  </tbody>\n",
       "</table>\n",
       "<p>5 rows × 96 columns</p>\n",
       "</div>"
      ],
      "text/plain": [
       "           pred_rf  pred_lgbm_v1  pred_lgbm_v2  pred_xgb_v2  tiene_checkouts  \\\n",
       "person                                                                         \n",
       "4886f805  0.047171      0.003316      0.003194     0.004160             True   \n",
       "ad93850f  0.362707      0.091421      0.075257     0.087732             True   \n",
       "0297fc1e  0.377176      0.009888      0.009313     0.017897             True   \n",
       "2d681dd8  0.097846      0.010542      0.009956     0.008807             True   \n",
       "cccea85e  0.681406      0.122966      0.045670     0.107495             True   \n",
       "\n",
       "          llegaron_por_ad  llegaron_por_search  tiene_conversions  \\\n",
       "person                                                              \n",
       "4886f805            False                 True              False   \n",
       "ad93850f             True                 True              False   \n",
       "0297fc1e             True                False              False   \n",
       "2d681dd8             True                 True              False   \n",
       "cccea85e             True                 True              False   \n",
       "\n",
       "          cant_conversions  cant_checkouts               ...                \\\n",
       "person                                                   ...                 \n",
       "4886f805               0.0             1.0               ...                 \n",
       "ad93850f               0.0             1.0               ...                 \n",
       "0297fc1e               0.0             7.0               ...                 \n",
       "2d681dd8               0.0             1.0               ...                 \n",
       "cccea85e               0.0             1.0               ...                 \n",
       "\n",
       "          diff_checkouts_15_dias  diff_visited_site_15_dias  \\\n",
       "person                                                        \n",
       "4886f805                     0.0                        0.0   \n",
       "ad93850f                     0.0                        0.0   \n",
       "0297fc1e                     0.0                       21.0   \n",
       "2d681dd8                     0.0                        0.0   \n",
       "cccea85e                    -1.0                       12.0   \n",
       "\n",
       "          diff_searched_products_15_dias  diff_viewed_products_15_dias  \\\n",
       "person                                                                   \n",
       "4886f805                             0.0                           0.0   \n",
       "ad93850f                             0.0                           0.0   \n",
       "0297fc1e                             0.0                          73.0   \n",
       "2d681dd8                             0.0                           0.0   \n",
       "cccea85e                             1.0                         311.0   \n",
       "\n",
       "          total_top_10_phones_checkout  different_top_10_phones_checkout  \\\n",
       "person                                                                     \n",
       "4886f805                           0.0                               0.0   \n",
       "ad93850f                           1.0                               1.0   \n",
       "0297fc1e                           1.0                               1.0   \n",
       "2d681dd8                           1.0                               1.0   \n",
       "cccea85e                           0.0                               0.0   \n",
       "\n",
       "          ult_quin_cant_eventos_4_a_10hs  ult_quin_cant_eventos_11_a_14hs  \\\n",
       "person                                                                      \n",
       "4886f805                             0.0                              0.0   \n",
       "ad93850f                             0.0                              0.0   \n",
       "0297fc1e                             3.0                             31.0   \n",
       "2d681dd8                             0.0                              0.0   \n",
       "cccea85e                             0.0                             77.0   \n",
       "\n",
       "          ult_quin_cant_eventos_15_a_20hs  ult_quin_cant_eventos_21_a_3hs  \n",
       "person                                                                     \n",
       "4886f805                              0.0                             9.0  \n",
       "ad93850f                              0.0                            65.0  \n",
       "0297fc1e                             74.0                            27.0  \n",
       "2d681dd8                             16.0                            10.0  \n",
       "cccea85e                            215.0                           297.0  \n",
       "\n",
       "[5 rows x 96 columns]"
      ]
     },
     "execution_count": 20,
     "metadata": {},
     "output_type": "execute_result"
    }
   ],
   "source": [
    "df_ensamble.head()"
   ]
  },
  {
   "cell_type": "code",
   "execution_count": null,
   "metadata": {},
   "outputs": [],
   "source": []
  }
 ],
 "metadata": {
  "kernelspec": {
   "display_name": "Python 3",
   "language": "python",
   "name": "python3"
  },
  "language_info": {
   "codemirror_mode": {
    "name": "ipython",
    "version": 3
   },
   "file_extension": ".py",
   "mimetype": "text/x-python",
   "name": "python",
   "nbconvert_exporter": "python",
   "pygments_lexer": "ipython3",
   "version": "3.6.6"
  }
 },
 "nbformat": 4,
 "nbformat_minor": 2
}
