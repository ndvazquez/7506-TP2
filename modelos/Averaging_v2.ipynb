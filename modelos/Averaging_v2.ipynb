{
 "cells": [
  {
   "cell_type": "code",
   "execution_count": 1,
   "metadata": {},
   "outputs": [],
   "source": [
    "import pandas as pd\n",
    "import numpy as np"
   ]
  },
  {
   "cell_type": "code",
   "execution_count": 2,
   "metadata": {},
   "outputs": [],
   "source": [
    "##  Reemplazar por los mejores submits o los que ustedes crean copados.\n",
    "df1 = pd.read_csv('../submit_xgboost_v2.csv', low_memory=False, index_col='person')\n",
    "df2 = pd.read_csv('../weird_submit.csv', low_memory=False, index_col='person')\n",
    "df3 = pd.read_csv('../submit_casimiro.csv', index_col='person')"
   ]
  },
  {
   "cell_type": "code",
   "execution_count": 3,
   "metadata": {},
   "outputs": [],
   "source": [
    "df1.rename(columns={'label':'label_1'}, inplace=True)"
   ]
  },
  {
   "cell_type": "code",
   "execution_count": 4,
   "metadata": {},
   "outputs": [],
   "source": [
    "df2.rename(columns={'label':'label_2'}, inplace=True)"
   ]
  },
  {
   "cell_type": "code",
   "execution_count": 5,
   "metadata": {},
   "outputs": [],
   "source": [
    "df3.rename(columns={'label':'label_3'}, inplace=True)"
   ]
  },
  {
   "cell_type": "code",
   "execution_count": 6,
   "metadata": {},
   "outputs": [],
   "source": [
    "merge = df1.join(df2)\n",
    "merge = merge.join(df3)"
   ]
  },
  {
   "cell_type": "code",
   "execution_count": 7,
   "metadata": {},
   "outputs": [],
   "source": [
    "##  Le di más peso al que mejor score sacó, that's about it.\n",
    "merge['label'] = merge['label_1'] * 0.15 + merge['label_2'] * 0.7 + merge['label_3'] * 0.15"
   ]
  },
  {
   "cell_type": "code",
   "execution_count": 8,
   "metadata": {},
   "outputs": [],
   "source": [
    "merge[['label']].to_csv('../weird_submit_v3.csv', sep=',')"
   ]
  },
  {
   "cell_type": "code",
   "execution_count": 9,
   "metadata": {},
   "outputs": [
    {
     "data": {
      "text/html": [
       "<div>\n",
       "<style scoped>\n",
       "    .dataframe tbody tr th:only-of-type {\n",
       "        vertical-align: middle;\n",
       "    }\n",
       "\n",
       "    .dataframe tbody tr th {\n",
       "        vertical-align: top;\n",
       "    }\n",
       "\n",
       "    .dataframe thead th {\n",
       "        text-align: right;\n",
       "    }\n",
       "</style>\n",
       "<table border=\"1\" class=\"dataframe\">\n",
       "  <thead>\n",
       "    <tr style=\"text-align: right;\">\n",
       "      <th></th>\n",
       "      <th>label_1</th>\n",
       "      <th>label_2</th>\n",
       "      <th>label_3</th>\n",
       "      <th>label</th>\n",
       "    </tr>\n",
       "    <tr>\n",
       "      <th>person</th>\n",
       "      <th></th>\n",
       "      <th></th>\n",
       "      <th></th>\n",
       "      <th></th>\n",
       "    </tr>\n",
       "  </thead>\n",
       "  <tbody>\n",
       "    <tr>\n",
       "      <th>4886f805</th>\n",
       "      <td>0.003787</td>\n",
       "      <td>0.003802</td>\n",
       "      <td>0.003875</td>\n",
       "      <td>0.003811</td>\n",
       "    </tr>\n",
       "    <tr>\n",
       "      <th>0297fc1e</th>\n",
       "      <td>0.026261</td>\n",
       "      <td>0.032701</td>\n",
       "      <td>0.039644</td>\n",
       "      <td>0.032777</td>\n",
       "    </tr>\n",
       "    <tr>\n",
       "      <th>2d681dd8</th>\n",
       "      <td>0.011454</td>\n",
       "      <td>0.009249</td>\n",
       "      <td>0.008686</td>\n",
       "      <td>0.009495</td>\n",
       "    </tr>\n",
       "    <tr>\n",
       "      <th>cccea85e</th>\n",
       "      <td>0.199903</td>\n",
       "      <td>0.176679</td>\n",
       "      <td>0.257446</td>\n",
       "      <td>0.192278</td>\n",
       "    </tr>\n",
       "    <tr>\n",
       "      <th>4c8a8b93</th>\n",
       "      <td>0.022498</td>\n",
       "      <td>0.038761</td>\n",
       "      <td>0.044798</td>\n",
       "      <td>0.037227</td>\n",
       "    </tr>\n",
       "  </tbody>\n",
       "</table>\n",
       "</div>"
      ],
      "text/plain": [
       "           label_1   label_2   label_3     label\n",
       "person                                          \n",
       "4886f805  0.003787  0.003802  0.003875  0.003811\n",
       "0297fc1e  0.026261  0.032701  0.039644  0.032777\n",
       "2d681dd8  0.011454  0.009249  0.008686  0.009495\n",
       "cccea85e  0.199903  0.176679  0.257446  0.192278\n",
       "4c8a8b93  0.022498  0.038761  0.044798  0.037227"
      ]
     },
     "execution_count": 9,
     "metadata": {},
     "output_type": "execute_result"
    }
   ],
   "source": [
    "merge.head()"
   ]
  },
  {
   "cell_type": "code",
   "execution_count": null,
   "metadata": {},
   "outputs": [],
   "source": []
  }
 ],
 "metadata": {
  "kernelspec": {
   "display_name": "Python 3",
   "language": "python",
   "name": "python3"
  },
  "language_info": {
   "codemirror_mode": {
    "name": "ipython",
    "version": 3
   },
   "file_extension": ".py",
   "mimetype": "text/x-python",
   "name": "python",
   "nbconvert_exporter": "python",
   "pygments_lexer": "ipython3",
   "version": "3.6.6"
  }
 },
 "nbformat": 4,
 "nbformat_minor": 2
}
