{
 "cells": [
  {
   "cell_type": "code",
   "execution_count": 1,
   "metadata": {},
   "outputs": [],
   "source": [
    "import pandas as pd\n",
    "import numpy as np\n",
    "from sklearn.model_selection import GridSearchCV\n",
    "import lightgbm as lgb\n",
    "from sklearn.model_selection import train_test_split\n",
    "from sklearn.metrics import classification_report, roc_auc_score"
   ]
  },
  {
   "cell_type": "code",
   "execution_count": 2,
   "metadata": {},
   "outputs": [
    {
     "data": {
      "text/plain": [
       "(19414, 116)"
      ]
     },
     "execution_count": 2,
     "metadata": {},
     "output_type": "execute_result"
    }
   ],
   "source": [
    "df1 = pd.read_csv('../data/features_basicas.csv', low_memory=False, index_col='person')\n",
    "df2 = pd.read_csv('../data/features_checkouts.csv', low_memory=False, index_col='person')\n",
    "df3 = pd.read_csv('../data/features_vistos.csv', low_memory=False, index_col='person')\n",
    "df4 = pd.read_csv('../data/feature_dispositivo_mas_usado.csv', low_memory=False, index_col='person')\n",
    "df5 = pd.read_csv('../data/feature_dia_mas_activo.csv', low_memory=False, index_col='person')\n",
    "df6 = pd.read_csv('../data/feature_compra_onsite.csv', low_memory=False, index_col='person')\n",
    "df7 = pd.read_csv('../data/feature_cantidad_de_eventos_en_intervalos.csv', low_memory=False, index_col='person')\n",
    "df8 = pd.read_csv('../data/feature_dispositivos_storage.csv', low_memory=False, index_col='person')\n",
    "df9 = pd.read_csv('../data/featureUsuarioSonDeSaoPablo.csv', low_memory=False, index_col='person')\n",
    "df10 = pd.read_csv('../data/featureCantidadMaximaPersonaVeUnProducto.csv', low_memory=False, index_col='person')\n",
    "df11 = pd.read_csv('../data/features_basicas_ult_quin.csv', low_memory=False, index_col='person')\n",
    "df12 = pd.read_csv('../data/features_ultima_ocurrencia_cada_evento.csv', low_memory=False, index_col='person')\n",
    "df13 = pd.read_csv('../data/days_elapsed_from_last_event.csv', low_memory=False, index_col='person')\n",
    "df14 = pd.read_csv('../data/featureUsuarioRealiza30EventosEn20MinsLosUltimos2Dias.csv', low_memory=False, index_col='person')\n",
    "df15 = pd.read_csv('../data/features_ultimo_checkout.csv', low_memory=False, index_col='person')\n",
    "df16 = pd.read_csv('../data/diferencia_de_count_de_eventos.csv', low_memory=False, index_col='person')\n",
    "df17 = pd.read_csv('../data/top_10_celulares.csv', low_memory=False, index_col='person')\n",
    "df18 = pd.read_csv('../data/feature_cantidad_de_eventos_en_intervalos_ult_quin.csv', low_memory=False, index_col='person')\n",
    "df19 = pd.read_csv('../data/feature_tipo_channel_primer_ingreso.csv', low_memory=False, index_col='person')\n",
    "df20 = pd.read_csv('../data/feature_tipo_channel_primer_ingreso_ultimos_15_dias.csv', low_memory=False, index_col='person')\n",
    "df21 = pd.read_csv('../data/feature_color_ult15dias.csv', low_memory=False, index_col='person')\n",
    "\n",
    "labels = pd.read_csv('../data/labels_training_set.csv', low_memory=False, index_col='person')\n",
    "\n",
    "df_unidos = df1.join(df2, how='inner')\n",
    "df_unidos = df_unidos.join(df3, how='inner')\n",
    "df_unidos = df_unidos.join(df4, how='inner')\n",
    "df_unidos = df_unidos.join(df5, how='inner')\n",
    "df_unidos = df_unidos.join(df6, how='inner')\n",
    "df_unidos = df_unidos.join(df7, how='inner')\n",
    "df_unidos = df_unidos.join(df8, how='inner')\n",
    "df_unidos = df_unidos.join(df9, how='inner')\n",
    "df_unidos = df_unidos.join(df10, how='inner')\n",
    "df_unidos = df_unidos.join(df11, how='inner')\n",
    "df_unidos = df_unidos.join(df12, how='inner')\n",
    "df_unidos = df_unidos.join(df13, how='inner')\n",
    "df_unidos = df_unidos.join(df14, how='inner')\n",
    "df_unidos = df_unidos.join(df15, how='inner')\n",
    "# Al que tenga \"diferencia_de_count_de_eventos.csv\" hay que rellenarlo\n",
    "df_unidos = df_unidos.join(df16).fillna(0)\n",
    "df_unidos = df_unidos.join(df17, how='inner')\n",
    "df_unidos = df_unidos.join(df18, how='inner')\n",
    "df_unidos = df_unidos.join(df19, how='inner')\n",
    "df_unidos = df_unidos.join(df20, how='inner')\n",
    "df_unidos = df_unidos.join(df21, how='inner')\n",
    "\n",
    "#  Le asigno las features al subset de usuarios que nos da Trocafone para entrenar.\n",
    "df_test = df_unidos.join(labels, on='person', how='inner')\n",
    "df_test.shape"
   ]
  },
  {
   "cell_type": "code",
   "execution_count": 3,
   "metadata": {},
   "outputs": [],
   "source": [
    "features = df_test.columns.tolist()\n",
    "features.remove('label')"
   ]
  },
  {
   "cell_type": "code",
   "execution_count": 4,
   "metadata": {},
   "outputs": [],
   "source": [
    "X = df_test[features]\n",
    "Y = df_test['label']\n",
    "\n",
    "X_train, X_test, y_train, y_test = train_test_split(X, Y, test_size=0.20, random_state=311)"
   ]
  },
  {
   "cell_type": "code",
   "execution_count": 5,
   "metadata": {},
   "outputs": [],
   "source": [
    "param_grid = { \n",
    "    'n_estimators': [x for x in range(100, 500, 100)],\n",
    "    'max_depth': [3,7,10],\n",
    "    'learning_rate': [0.1, 0.01]\n",
    "}"
   ]
  },
  {
   "cell_type": "code",
   "execution_count": 6,
   "metadata": {},
   "outputs": [
    {
     "data": {
      "text/plain": [
       "GridSearchCV(cv=5, error_score='raise-deprecating',\n",
       "       estimator=LGBMClassifier(boosting_type='gbdt', class_weight=None, colsample_bytree=1.0,\n",
       "        importance_type='split', learning_rate=0.1, max_depth=-1,\n",
       "        min_child_samples=20, min_child_weight=0.001, min_split_gain=0.0,\n",
       "        n_estimators=100, n_jobs=-1, num_leaves=1000, objective=None,\n",
       "        random_state=80, reg_alpha=0.0, reg_lambda=0.0, silent=True,\n",
       "        subsample=1.0, subsample_for_bin=200000, subsample_freq=0),\n",
       "       fit_params=None, iid='warn', n_jobs=4,\n",
       "       param_grid={'n_estimators': [100, 200, 300, 400], 'max_depth': [3, 7, 10], 'learning_rate': [0.1, 0.01]},\n",
       "       pre_dispatch='2*n_jobs', refit=True, return_train_score='warn',\n",
       "       scoring='roc_auc', verbose=0)"
      ]
     },
     "execution_count": 6,
     "metadata": {},
     "output_type": "execute_result"
    }
   ],
   "source": [
    "_lgb = lgb.LGBMClassifier(random_state=80, num_leaves=1000)\n",
    "CV_lgb = GridSearchCV(estimator=_lgb, param_grid=param_grid, cv= 5, scoring='roc_auc', n_jobs=4)\n",
    "CV_lgb.fit(X_train, y_train)"
   ]
  },
  {
   "cell_type": "code",
   "execution_count": 7,
   "metadata": {},
   "outputs": [
    {
     "data": {
      "text/plain": [
       "{'learning_rate': 0.01, 'max_depth': 3, 'n_estimators': 400}"
      ]
     },
     "execution_count": 7,
     "metadata": {},
     "output_type": "execute_result"
    }
   ],
   "source": [
    "CV_lgb.best_params_"
   ]
  },
  {
   "cell_type": "code",
   "execution_count": 8,
   "metadata": {},
   "outputs": [
    {
     "data": {
      "text/plain": [
       "0.8751432574560045"
      ]
     },
     "execution_count": 8,
     "metadata": {},
     "output_type": "execute_result"
    }
   ],
   "source": [
    "CV_lgb.best_score_"
   ]
  },
  {
   "cell_type": "code",
   "execution_count": 9,
   "metadata": {},
   "outputs": [
    {
     "name": "stdout",
     "output_type": "stream",
     "text": [
      "0.8530337519623233\n"
     ]
    }
   ],
   "source": [
    "#model_lgb = lgb.LGBMClassifier(random_state=80,\\\n",
    "#                               n_estimators=1000, learning_rate=0.01, max_depth=4, gamma=1)\n",
    "#model_lgb.fit(X_train, y_train)\n",
    "#y_pred = model_lgb.predict_proba(X_test)\n",
    "y_pred = CV_lgb.predict_proba(X_test)\n",
    "y_pred_proba = [p[1] for p in y_pred]\n",
    "print(roc_auc_score(y_test, y_pred_proba))"
   ]
  },
  {
   "cell_type": "code",
   "execution_count": 10,
   "metadata": {},
   "outputs": [],
   "source": [
    "#  Acá quedan ordenadas las features por importancia para el modelo, aparentemente la marca más vista y la marca\n",
    "#  que más compró cada usuario no es tan importante.\n",
    "feature_importances = pd.DataFrame(CV_lgb.best_estimator_.feature_importances_,\\\n",
    "                                   index = X.columns,\\\n",
    "                                    columns=['importance']).sort_values('importance',ascending=False)\n",
    "\n",
    "top_40_features = feature_importances.head(40).index.tolist()"
   ]
  },
  {
   "cell_type": "code",
   "execution_count": 11,
   "metadata": {},
   "outputs": [],
   "source": [
    "X = df_test[top_40_features]\n",
    "Y = df_test['label']\n",
    "\n",
    "X_train, X_test, y_train, y_test = train_test_split(X, Y, test_size=0.20, random_state=311)"
   ]
  },
  {
   "cell_type": "code",
   "execution_count": 12,
   "metadata": {},
   "outputs": [
    {
     "data": {
      "text/plain": [
       "GridSearchCV(cv=5, error_score='raise-deprecating',\n",
       "       estimator=LGBMClassifier(boosting_type='gbdt', class_weight=None, colsample_bytree=1.0,\n",
       "        importance_type='split', learning_rate=0.1, max_depth=-1,\n",
       "        min_child_samples=20, min_child_weight=0.001, min_split_gain=0.0,\n",
       "        n_estimators=100, n_jobs=-1, num_leaves=1000, objective=None,\n",
       "        random_state=80, reg_alpha=0.0, reg_lambda=0.0, silent=True,\n",
       "        subsample=1.0, subsample_for_bin=200000, subsample_freq=0),\n",
       "       fit_params=None, iid='warn', n_jobs=4,\n",
       "       param_grid={'n_estimators': [100, 200, 300, 400], 'max_depth': [3, 7, 10], 'learning_rate': [0.1, 0.01]},\n",
       "       pre_dispatch='2*n_jobs', refit=True, return_train_score='warn',\n",
       "       scoring='roc_auc', verbose=0)"
      ]
     },
     "execution_count": 12,
     "metadata": {},
     "output_type": "execute_result"
    }
   ],
   "source": [
    "_lgb_2 = lgb.LGBMClassifier(random_state=80, num_leaves=1000)\n",
    "CV_lgb_2 = GridSearchCV(estimator=_lgb_2, param_grid=param_grid, cv= 5, scoring='roc_auc', n_jobs=4)\n",
    "CV_lgb_2.fit(X_train, y_train)"
   ]
  },
  {
   "cell_type": "code",
   "execution_count": 13,
   "metadata": {},
   "outputs": [
    {
     "data": {
      "text/plain": [
       "{'learning_rate': 0.01, 'max_depth': 3, 'n_estimators': 400}"
      ]
     },
     "execution_count": 13,
     "metadata": {},
     "output_type": "execute_result"
    }
   ],
   "source": [
    "CV_lgb_2.best_params_"
   ]
  },
  {
   "cell_type": "code",
   "execution_count": 14,
   "metadata": {},
   "outputs": [
    {
     "data": {
      "text/plain": [
       "0.8763251436102553"
      ]
     },
     "execution_count": 14,
     "metadata": {},
     "output_type": "execute_result"
    }
   ],
   "source": [
    "CV_lgb_2.best_score_"
   ]
  },
  {
   "cell_type": "code",
   "execution_count": 15,
   "metadata": {},
   "outputs": [
    {
     "name": "stdout",
     "output_type": "stream",
     "text": [
      "0.8528963893249608\n"
     ]
    }
   ],
   "source": [
    "y_pred = CV_lgb_2.predict_proba(X_test)\n",
    "y_pred_proba = [p[1] for p in y_pred]\n",
    "print(roc_auc_score(y_test, y_pred_proba))"
   ]
  },
  {
   "cell_type": "code",
   "execution_count": 16,
   "metadata": {},
   "outputs": [],
   "source": [
    "df_submit = pd.read_csv('../data/trocafone_kaggle_test.csv', low_memory=False, index_col='person')\n",
    "df_events = df_submit.join(df_unidos[top_40_features], how='inner')"
   ]
  },
  {
   "cell_type": "code",
   "execution_count": 17,
   "metadata": {},
   "outputs": [
    {
     "data": {
      "text/plain": [
       "(19415, 40)"
      ]
     },
     "execution_count": 17,
     "metadata": {},
     "output_type": "execute_result"
    }
   ],
   "source": [
    "df_events.shape"
   ]
  },
  {
   "cell_type": "code",
   "execution_count": 18,
   "metadata": {},
   "outputs": [],
   "source": [
    "kaggle_pred = CV_lgb_2.predict_proba(df_events)\n",
    "proba_de_comprar = [x[1] for x in kaggle_pred]\n",
    "series = pd.Series(proba_de_comprar)\n",
    "df_submit['label'] = series.values"
   ]
  },
  {
   "cell_type": "code",
   "execution_count": 19,
   "metadata": {},
   "outputs": [],
   "source": [
    "df_submit.to_csv('../submit_lgbm_v7_less_features.csv')"
   ]
  },
  {
   "cell_type": "code",
   "execution_count": null,
   "metadata": {},
   "outputs": [],
   "source": []
  }
 ],
 "metadata": {
  "kernelspec": {
   "display_name": "Python 3",
   "language": "python",
   "name": "python3"
  },
  "language_info": {
   "codemirror_mode": {
    "name": "ipython",
    "version": 3
   },
   "file_extension": ".py",
   "mimetype": "text/x-python",
   "name": "python",
   "nbconvert_exporter": "python",
   "pygments_lexer": "ipython3",
   "version": "3.6.6"
  }
 },
 "nbformat": 4,
 "nbformat_minor": 2
}
