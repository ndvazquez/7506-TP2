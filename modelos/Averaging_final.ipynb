{
 "cells": [
  {
   "cell_type": "code",
   "execution_count": 1,
   "metadata": {},
   "outputs": [],
   "source": [
    "import pandas as pd\n",
    "import numpy as np"
   ]
  },
  {
   "cell_type": "markdown",
   "metadata": {},
   "source": [
    "## Resultados\n",
    "Your submission scored 0.87739, which is an improvement of your previous score of 0.87718. Great job!"
   ]
  },
  {
   "cell_type": "code",
   "execution_count": 2,
   "metadata": {},
   "outputs": [],
   "source": [
    "##  Reemplazar por los mejores submits o los que ustedes crean copados.\n",
    "df1 = pd.read_csv('../submit_xgb_v7_ndv.csv', low_memory=False, index_col='person')\n",
    "df2 = pd.read_csv('../submit_20180412.csv', low_memory=False, index_col='person')\n",
    "df3 = pd.read_csv('../submit_lgbm_v3_less_features.csv', low_memory=False, index_col='person')"
   ]
  },
  {
   "cell_type": "code",
   "execution_count": 3,
   "metadata": {},
   "outputs": [],
   "source": [
    "df1.rename(columns={'label':'label_1'}, inplace=True)"
   ]
  },
  {
   "cell_type": "code",
   "execution_count": 4,
   "metadata": {},
   "outputs": [],
   "source": [
    "df2.rename(columns={'label':'label_2'}, inplace=True)"
   ]
  },
  {
   "cell_type": "code",
   "execution_count": 5,
   "metadata": {},
   "outputs": [],
   "source": [
    "df3.rename(columns={'label':'label_3'}, inplace=True)"
   ]
  },
  {
   "cell_type": "code",
   "execution_count": 6,
   "metadata": {},
   "outputs": [],
   "source": [
    "merge = df1.join(df2)\n",
    "merge = merge.join(df3)"
   ]
  },
  {
   "cell_type": "code",
   "execution_count": 7,
   "metadata": {},
   "outputs": [],
   "source": [
    "##  Le di más peso al que mejor score sacó, that's about it.\n",
    "merge['label'] = merge['label_1'] * 0.4 + merge['label_2'] * 0.3 + merge['label_3'] * 0.3"
   ]
  },
  {
   "cell_type": "code",
   "execution_count": 8,
   "metadata": {},
   "outputs": [],
   "source": [
    "merge[['label']].to_csv('../submit_averaging.csv', sep=',')"
   ]
  },
  {
   "cell_type": "code",
   "execution_count": 9,
   "metadata": {},
   "outputs": [
    {
     "data": {
      "text/html": [
       "<div>\n",
       "<style scoped>\n",
       "    .dataframe tbody tr th:only-of-type {\n",
       "        vertical-align: middle;\n",
       "    }\n",
       "\n",
       "    .dataframe tbody tr th {\n",
       "        vertical-align: top;\n",
       "    }\n",
       "\n",
       "    .dataframe thead th {\n",
       "        text-align: right;\n",
       "    }\n",
       "</style>\n",
       "<table border=\"1\" class=\"dataframe\">\n",
       "  <thead>\n",
       "    <tr style=\"text-align: right;\">\n",
       "      <th></th>\n",
       "      <th>label_1</th>\n",
       "      <th>label_2</th>\n",
       "      <th>label_3</th>\n",
       "      <th>label</th>\n",
       "    </tr>\n",
       "    <tr>\n",
       "      <th>person</th>\n",
       "      <th></th>\n",
       "      <th></th>\n",
       "      <th></th>\n",
       "      <th></th>\n",
       "    </tr>\n",
       "  </thead>\n",
       "  <tbody>\n",
       "    <tr>\n",
       "      <th>4886f805</th>\n",
       "      <td>0.003983</td>\n",
       "      <td>0.396714</td>\n",
       "      <td>0.005384</td>\n",
       "      <td>0.122223</td>\n",
       "    </tr>\n",
       "    <tr>\n",
       "      <th>0297fc1e</th>\n",
       "      <td>0.024131</td>\n",
       "      <td>0.424735</td>\n",
       "      <td>0.015361</td>\n",
       "      <td>0.141681</td>\n",
       "    </tr>\n",
       "    <tr>\n",
       "      <th>2d681dd8</th>\n",
       "      <td>0.011377</td>\n",
       "      <td>0.409064</td>\n",
       "      <td>0.015356</td>\n",
       "      <td>0.131877</td>\n",
       "    </tr>\n",
       "    <tr>\n",
       "      <th>cccea85e</th>\n",
       "      <td>0.276346</td>\n",
       "      <td>0.501771</td>\n",
       "      <td>0.279438</td>\n",
       "      <td>0.344901</td>\n",
       "    </tr>\n",
       "    <tr>\n",
       "      <th>4c8a8b93</th>\n",
       "      <td>0.021917</td>\n",
       "      <td>0.427053</td>\n",
       "      <td>0.032428</td>\n",
       "      <td>0.146611</td>\n",
       "    </tr>\n",
       "  </tbody>\n",
       "</table>\n",
       "</div>"
      ],
      "text/plain": [
       "           label_1   label_2   label_3     label\n",
       "person                                          \n",
       "4886f805  0.003983  0.396714  0.005384  0.122223\n",
       "0297fc1e  0.024131  0.424735  0.015361  0.141681\n",
       "2d681dd8  0.011377  0.409064  0.015356  0.131877\n",
       "cccea85e  0.276346  0.501771  0.279438  0.344901\n",
       "4c8a8b93  0.021917  0.427053  0.032428  0.146611"
      ]
     },
     "execution_count": 9,
     "metadata": {},
     "output_type": "execute_result"
    }
   ],
   "source": [
    "merge.head()"
   ]
  },
  {
   "cell_type": "code",
   "execution_count": null,
   "metadata": {},
   "outputs": [],
   "source": []
  }
 ],
 "metadata": {
  "kernelspec": {
   "display_name": "Python 3",
   "language": "python",
   "name": "python3"
  },
  "language_info": {
   "codemirror_mode": {
    "name": "ipython",
    "version": 3
   },
   "file_extension": ".py",
   "mimetype": "text/x-python",
   "name": "python",
   "nbconvert_exporter": "python",
   "pygments_lexer": "ipython3",
   "version": "3.6.6"
  }
 },
 "nbformat": 4,
 "nbformat_minor": 2
}
