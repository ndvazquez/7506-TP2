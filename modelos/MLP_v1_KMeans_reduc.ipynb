{
 "cells": [
  {
   "cell_type": "code",
   "execution_count": 15,
   "metadata": {},
   "outputs": [],
   "source": [
    "import pandas as pd\n",
    "import numpy as np\n",
    "from sklearn.model_selection import GridSearchCV\n",
    "from sklearn.ensemble import RandomForestClassifier\n",
    "from xgboost import XGBClassifier\n",
    "from sklearn.model_selection import train_test_split\n",
    "from sklearn.metrics import classification_report, roc_auc_score\n",
    "from sklearn.preprocessing import normalize\n",
    "from sklearn.model_selection import cross_val_score\n",
    "\n",
    "from sklearn.neural_network import MLPRegressor\n",
    "from sklearn.cluster import KMeans"
   ]
  },
  {
   "cell_type": "code",
   "execution_count": 4,
   "metadata": {},
   "outputs": [
    {
     "data": {
      "text/plain": [
       "(19414, 102)"
      ]
     },
     "execution_count": 4,
     "metadata": {},
     "output_type": "execute_result"
    }
   ],
   "source": [
    "df1 = pd.read_csv('../data/features_basicas.csv', low_memory=False, index_col='person')\n",
    "df2 = pd.read_csv('../data/features_checkouts.csv', low_memory=False, index_col='person')\n",
    "df3 = pd.read_csv('../data/features_vistos.csv', low_memory=False, index_col='person')\n",
    "df4 = pd.read_csv('../data/feature_dispositivo_mas_usado.csv', low_memory=False, index_col='person')\n",
    "df5 = pd.read_csv('../data/feature_dia_mas_activo.csv', low_memory=False, index_col='person')\n",
    "df6 = pd.read_csv('../data/feature_compra_onsite.csv', low_memory=False, index_col='person')\n",
    "df7 = pd.read_csv('../data/feature_cantidad_de_eventos_en_intervalos.csv', low_memory=False, index_col='person')\n",
    "df8 = pd.read_csv('../data/feature_dispositivos_storage.csv', low_memory=False, index_col='person')\n",
    "df9 = pd.read_csv('../data/featureUsuarioSonDeSaoPablo.csv', low_memory=False, index_col='person')\n",
    "df10 = pd.read_csv('../data/featureCantidadMaximaPersonaVeUnProducto.csv', low_memory=False, index_col='person')\n",
    "df11 = pd.read_csv('../data/features_basicas_ult_quin.csv', low_memory=False, index_col='person')\n",
    "df12 = pd.read_csv('../data/features_ultima_ocurrencia_cada_evento.csv', low_memory=False, index_col='person')\n",
    "df13 = pd.read_csv('../data/days_elapsed_from_last_event.csv', low_memory=False, index_col='person')\n",
    "df14 = pd.read_csv('../data/featureUsuarioRealiza30EventosEn20MinsLosUltimos2Dias.csv', low_memory=False, index_col='person')\n",
    "df15 = pd.read_csv('../data/features_ultimo_checkout.csv', low_memory=False, index_col='person')\n",
    "df16 = pd.read_csv('../data/diferencia_de_count_de_eventos.csv', low_memory=False, index_col='person')\n",
    "df17 = pd.read_csv('../data/top_10_celulares.csv', low_memory=False, index_col='person')\n",
    "df18 = pd.read_csv('../data/feature_cantidad_de_eventos_en_intervalos_ult_quin.csv', low_memory=False, index_col='person')\n",
    "df19 = pd.read_csv('../data/semana_3_dias_antes_features.csv', low_memory=False, index_col='person')\n",
    "\n",
    "labels = pd.read_csv('../data/labels_training_set.csv', low_memory=False, index_col='person')\n",
    "\n",
    "df_unidos = df1.join(df2, how='inner')\n",
    "df_unidos = df_unidos.join(df3, how='inner')\n",
    "df_unidos = df_unidos.join(df4, how='inner')\n",
    "df_unidos = df_unidos.join(df5, how='inner')\n",
    "df_unidos = df_unidos.join(df6, how='inner')\n",
    "df_unidos = df_unidos.join(df7, how='inner')\n",
    "df_unidos = df_unidos.join(df8, how='inner')\n",
    "df_unidos = df_unidos.join(df9, how='inner')\n",
    "df_unidos = df_unidos.join(df10, how='inner')\n",
    "df_unidos = df_unidos.join(df11, how='inner')\n",
    "df_unidos = df_unidos.join(df12, how='inner')\n",
    "df_unidos = df_unidos.join(df13, how='inner')\n",
    "df_unidos = df_unidos.join(df14, how='inner')\n",
    "df_unidos = df_unidos.join(df15, how='inner')\n",
    "# Al que tenga \"diferencia_de_count_de_eventos.csv\" hay que rellenarlo\n",
    "df_unidos = df_unidos.join(df16).fillna(0)\n",
    "df_unidos = df_unidos.join(df17, how='inner')\n",
    "df_unidos = df_unidos.join(df18, how='inner')\n",
    "df_unidos = df_unidos.join(df19, how='inner')\n",
    "\n",
    "#  Le asigno las features al subset de usuarios que nos da Trocafone para entrenar.\n",
    "df_test = df_unidos.join(labels, on='person', how='inner')\n",
    "df_test.shape"
   ]
  },
  {
   "cell_type": "code",
   "execution_count": 5,
   "metadata": {},
   "outputs": [],
   "source": [
    "features = df_test.columns.tolist()\n",
    "features.remove('label')"
   ]
  },
  {
   "cell_type": "code",
   "execution_count": 6,
   "metadata": {},
   "outputs": [],
   "source": [
    "X = df_test[features]\n",
    "Y = df_test['label']\n",
    "\n",
    "X_train, X_test, y_train, y_test = train_test_split(X, Y, test_size=0.20, random_state=311)"
   ]
  },
  {
   "cell_type": "code",
   "execution_count": 7,
   "metadata": {},
   "outputs": [],
   "source": [
    "param_grid = { \n",
    "    'n_estimators': [x for x in range(100, 1000, 100)],\n",
    "    'gamma' : [1,2,3,4,5],\n",
    "}"
   ]
  },
  {
   "cell_type": "code",
   "execution_count": 8,
   "metadata": {},
   "outputs": [],
   "source": [
    "rf_param_grid = {\n",
    "    'n_estimators': [x for x in range(1000, 3000, 500)],\n",
    "    'max_depth': [3,5,7],\n",
    "    'min_samples_split': [100,200,300]\n",
    "}"
   ]
  },
  {
   "cell_type": "code",
   "execution_count": 9,
   "metadata": {},
   "outputs": [
    {
     "name": "stdout",
     "output_type": "stream",
     "text": [
      "Fitting 5 folds for each of 36 candidates, totalling 180 fits\n"
     ]
    },
    {
     "name": "stderr",
     "output_type": "stream",
     "text": [
      "[Parallel(n_jobs=-1)]: Done   5 tasks      | elapsed:  1.5min\n",
      "[Parallel(n_jobs=-1)]: Done  10 tasks      | elapsed:  3.0min\n",
      "[Parallel(n_jobs=-1)]: Done  17 tasks      | elapsed:  5.8min\n",
      "[Parallel(n_jobs=-1)]: Done  24 tasks      | elapsed:  7.3min\n",
      "[Parallel(n_jobs=-1)]: Done  33 tasks      | elapsed: 10.1min\n",
      "[Parallel(n_jobs=-1)]: Done  42 tasks      | elapsed: 13.3min\n",
      "[Parallel(n_jobs=-1)]: Done  53 tasks      | elapsed: 16.5min\n",
      "[Parallel(n_jobs=-1)]: Done  64 tasks      | elapsed: 20.2min\n",
      "[Parallel(n_jobs=-1)]: Done  77 tasks      | elapsed: 26.6min\n",
      "[Parallel(n_jobs=-1)]: Done  90 tasks      | elapsed: 31.7min\n",
      "[Parallel(n_jobs=-1)]: Done 105 tasks      | elapsed: 38.1min\n",
      "[Parallel(n_jobs=-1)]: Done 120 tasks      | elapsed: 45.4min\n",
      "[Parallel(n_jobs=-1)]: Done 137 tasks      | elapsed: 54.6min\n",
      "[Parallel(n_jobs=-1)]: Done 154 tasks      | elapsed: 63.3min\n",
      "[Parallel(n_jobs=-1)]: Done 173 tasks      | elapsed: 72.9min\n",
      "[Parallel(n_jobs=-1)]: Done 180 out of 180 | elapsed: 78.3min finished\n"
     ]
    },
    {
     "data": {
      "text/plain": [
       "GridSearchCV(cv=5, error_score='raise',\n",
       "       estimator=RandomForestClassifier(bootstrap=True, class_weight='balanced',\n",
       "            criterion='gini', max_depth=None, max_features='auto',\n",
       "            max_leaf_nodes=None, min_impurity_decrease=0.0,\n",
       "            min_impurity_split=None, min_samples_leaf=1,\n",
       "            min_samples_split=2, min_weight_fraction_leaf=0.0,\n",
       "            n_estimators=10, n_jobs=1, oob_score=False, random_state=80,\n",
       "            verbose=0, warm_start=False),\n",
       "       fit_params=None, iid=True, n_jobs=-1,\n",
       "       param_grid={'n_estimators': [1000, 1500, 2000, 2500], 'max_depth': [3, 5, 7], 'min_samples_split': [100, 200, 300]},\n",
       "       pre_dispatch='2*n_jobs', refit=True, return_train_score='warn',\n",
       "       scoring='roc_auc', verbose=10)"
      ]
     },
     "execution_count": 9,
     "metadata": {},
     "output_type": "execute_result"
    }
   ],
   "source": [
    "rfc = RandomForestClassifier(class_weight='balanced', random_state=80)\n",
    "CV_rfc = GridSearchCV(estimator=rfc, param_grid=rf_param_grid, cv= 5, scoring='roc_auc', n_jobs=-1, verbose=10)\n",
    "CV_rfc.fit(X_train, y_train)"
   ]
  },
  {
   "cell_type": "code",
   "execution_count": 10,
   "metadata": {},
   "outputs": [
    {
     "data": {
      "text/plain": [
       "{'max_depth': 7, 'min_samples_split': 300, 'n_estimators': 2500}"
      ]
     },
     "execution_count": 10,
     "metadata": {},
     "output_type": "execute_result"
    }
   ],
   "source": [
    "CV_rfc.best_params_"
   ]
  },
  {
   "cell_type": "code",
   "execution_count": 11,
   "metadata": {},
   "outputs": [
    {
     "data": {
      "text/plain": [
       "0.8686724575620235"
      ]
     },
     "execution_count": 11,
     "metadata": {},
     "output_type": "execute_result"
    }
   ],
   "source": [
    "CV_rfc.best_score_"
   ]
  },
  {
   "cell_type": "code",
   "execution_count": 12,
   "metadata": {},
   "outputs": [
    {
     "data": {
      "text/html": [
       "<div>\n",
       "<style scoped>\n",
       "    .dataframe tbody tr th:only-of-type {\n",
       "        vertical-align: middle;\n",
       "    }\n",
       "\n",
       "    .dataframe tbody tr th {\n",
       "        vertical-align: top;\n",
       "    }\n",
       "\n",
       "    .dataframe thead th {\n",
       "        text-align: right;\n",
       "    }\n",
       "</style>\n",
       "<table border=\"1\" class=\"dataframe\">\n",
       "  <thead>\n",
       "    <tr style=\"text-align: right;\">\n",
       "      <th></th>\n",
       "      <th>importance</th>\n",
       "    </tr>\n",
       "  </thead>\n",
       "  <tbody>\n",
       "    <tr>\n",
       "      <th>storage_mas_checkout</th>\n",
       "      <td>0.120287</td>\n",
       "    </tr>\n",
       "    <tr>\n",
       "      <th>tasa_ult_quin_cant_checkouts</th>\n",
       "      <td>0.118731</td>\n",
       "    </tr>\n",
       "    <tr>\n",
       "      <th>ult_quin_cant_checkouts</th>\n",
       "      <td>0.109777</td>\n",
       "    </tr>\n",
       "    <tr>\n",
       "      <th>cant_checkouts</th>\n",
       "      <td>0.059362</td>\n",
       "    </tr>\n",
       "    <tr>\n",
       "      <th>tiene_checkouts</th>\n",
       "      <td>0.051270</td>\n",
       "    </tr>\n",
       "    <tr>\n",
       "      <th>model_encoding</th>\n",
       "      <td>0.048941</td>\n",
       "    </tr>\n",
       "    <tr>\n",
       "      <th>ult_checkout</th>\n",
       "      <td>0.042395</td>\n",
       "    </tr>\n",
       "    <tr>\n",
       "      <th>cant_viewed_product</th>\n",
       "      <td>0.031098</td>\n",
       "    </tr>\n",
       "    <tr>\n",
       "      <th>suma_total</th>\n",
       "      <td>0.030407</td>\n",
       "    </tr>\n",
       "    <tr>\n",
       "      <th>days_elapsed</th>\n",
       "      <td>0.030153</td>\n",
       "    </tr>\n",
       "    <tr>\n",
       "      <th>ult_quin_cant_viewed_product</th>\n",
       "      <td>0.018825</td>\n",
       "    </tr>\n",
       "    <tr>\n",
       "      <th>cantidadMaximaQueVeUnMismoProducto</th>\n",
       "      <td>0.017451</td>\n",
       "    </tr>\n",
       "    <tr>\n",
       "      <th>cant_visitas</th>\n",
       "      <td>0.016080</td>\n",
       "    </tr>\n",
       "    <tr>\n",
       "      <th>total_sesiones</th>\n",
       "      <td>0.015862</td>\n",
       "    </tr>\n",
       "    <tr>\n",
       "      <th>storage_mas_eventos</th>\n",
       "      <td>0.013019</td>\n",
       "    </tr>\n",
       "    <tr>\n",
       "      <th>ult_quin_total_sesiones</th>\n",
       "      <td>0.012227</td>\n",
       "    </tr>\n",
       "    <tr>\n",
       "      <th>cant_eventos_21_a_3hs</th>\n",
       "      <td>0.012070</td>\n",
       "    </tr>\n",
       "    <tr>\n",
       "      <th>cant_eventos_15_a_20hs</th>\n",
       "      <td>0.011780</td>\n",
       "    </tr>\n",
       "    <tr>\n",
       "      <th>cant_generic_listings</th>\n",
       "      <td>0.011473</td>\n",
       "    </tr>\n",
       "    <tr>\n",
       "      <th>tasa_ult_quin_cant_visitas</th>\n",
       "      <td>0.010980</td>\n",
       "    </tr>\n",
       "    <tr>\n",
       "      <th>ult_quin_promedio_eventos_por_sesion</th>\n",
       "      <td>0.010298</td>\n",
       "    </tr>\n",
       "    <tr>\n",
       "      <th>tasa_ult_quin_cant_viewed_product</th>\n",
       "      <td>0.010153</td>\n",
       "    </tr>\n",
       "    <tr>\n",
       "      <th>total_top_10_phones_checkout</th>\n",
       "      <td>0.009967</td>\n",
       "    </tr>\n",
       "    <tr>\n",
       "      <th>cant_brand_listings</th>\n",
       "      <td>0.009643</td>\n",
       "    </tr>\n",
       "    <tr>\n",
       "      <th>ult_quin_cant_eventos_21_a_3hs</th>\n",
       "      <td>0.008997</td>\n",
       "    </tr>\n",
       "    <tr>\n",
       "      <th>cant_conversions</th>\n",
       "      <td>0.008562</td>\n",
       "    </tr>\n",
       "    <tr>\n",
       "      <th>tasa_ult_quin_cant_conversions</th>\n",
       "      <td>0.008233</td>\n",
       "    </tr>\n",
       "    <tr>\n",
       "      <th>ult_quin_cant_visitas</th>\n",
       "      <td>0.007833</td>\n",
       "    </tr>\n",
       "    <tr>\n",
       "      <th>tasa_ult_quin_cant_brand_listings</th>\n",
       "      <td>0.007787</td>\n",
       "    </tr>\n",
       "    <tr>\n",
       "      <th>different_top_10_phones_checkout</th>\n",
       "      <td>0.007239</td>\n",
       "    </tr>\n",
       "    <tr>\n",
       "      <th>entro_3_dias_anterior</th>\n",
       "      <td>0.007234</td>\n",
       "    </tr>\n",
       "    <tr>\n",
       "      <th>ult_conversion</th>\n",
       "      <td>0.007071</td>\n",
       "    </tr>\n",
       "    <tr>\n",
       "      <th>tiene_conversions</th>\n",
       "      <td>0.006103</td>\n",
       "    </tr>\n",
       "    <tr>\n",
       "      <th>cant_eventos_11_a_14hs</th>\n",
       "      <td>0.005503</td>\n",
       "    </tr>\n",
       "    <tr>\n",
       "      <th>promedio_eventos_por_sesion</th>\n",
       "      <td>0.005390</td>\n",
       "    </tr>\n",
       "    <tr>\n",
       "      <th>tasa_ult_quin_cant_entradas_buscador</th>\n",
       "      <td>0.005300</td>\n",
       "    </tr>\n",
       "    <tr>\n",
       "      <th>dispositivo_Computer</th>\n",
       "      <td>0.005092</td>\n",
       "    </tr>\n",
       "    <tr>\n",
       "      <th>ult_brand listing</th>\n",
       "      <td>0.004724</td>\n",
       "    </tr>\n",
       "    <tr>\n",
       "      <th>storage_mas_visto</th>\n",
       "      <td>0.004711</td>\n",
       "    </tr>\n",
       "    <tr>\n",
       "      <th>ult_quin_cant_eventos_15_a_20hs</th>\n",
       "      <td>0.004293</td>\n",
       "    </tr>\n",
       "  </tbody>\n",
       "</table>\n",
       "</div>"
      ],
      "text/plain": [
       "                                      importance\n",
       "storage_mas_checkout                    0.120287\n",
       "tasa_ult_quin_cant_checkouts            0.118731\n",
       "ult_quin_cant_checkouts                 0.109777\n",
       "cant_checkouts                          0.059362\n",
       "tiene_checkouts                         0.051270\n",
       "model_encoding                          0.048941\n",
       "ult_checkout                            0.042395\n",
       "cant_viewed_product                     0.031098\n",
       "suma_total                              0.030407\n",
       "days_elapsed                            0.030153\n",
       "ult_quin_cant_viewed_product            0.018825\n",
       "cantidadMaximaQueVeUnMismoProducto      0.017451\n",
       "cant_visitas                            0.016080\n",
       "total_sesiones                          0.015862\n",
       "storage_mas_eventos                     0.013019\n",
       "ult_quin_total_sesiones                 0.012227\n",
       "cant_eventos_21_a_3hs                   0.012070\n",
       "cant_eventos_15_a_20hs                  0.011780\n",
       "cant_generic_listings                   0.011473\n",
       "tasa_ult_quin_cant_visitas              0.010980\n",
       "ult_quin_promedio_eventos_por_sesion    0.010298\n",
       "tasa_ult_quin_cant_viewed_product       0.010153\n",
       "total_top_10_phones_checkout            0.009967\n",
       "cant_brand_listings                     0.009643\n",
       "ult_quin_cant_eventos_21_a_3hs          0.008997\n",
       "cant_conversions                        0.008562\n",
       "tasa_ult_quin_cant_conversions          0.008233\n",
       "ult_quin_cant_visitas                   0.007833\n",
       "tasa_ult_quin_cant_brand_listings       0.007787\n",
       "different_top_10_phones_checkout        0.007239\n",
       "entro_3_dias_anterior                   0.007234\n",
       "ult_conversion                          0.007071\n",
       "tiene_conversions                       0.006103\n",
       "cant_eventos_11_a_14hs                  0.005503\n",
       "promedio_eventos_por_sesion             0.005390\n",
       "tasa_ult_quin_cant_entradas_buscador    0.005300\n",
       "dispositivo_Computer                    0.005092\n",
       "ult_brand listing                       0.004724\n",
       "storage_mas_visto                       0.004711\n",
       "ult_quin_cant_eventos_15_a_20hs         0.004293"
      ]
     },
     "execution_count": 12,
     "metadata": {},
     "output_type": "execute_result"
    }
   ],
   "source": [
    "#  Acá quedan ordenadas las features por importancia para el modelo, aparentemente la marca más vista y la marca\n",
    "#  que más compró cada usuario no es tan importante.\n",
    "feature_importances = pd.DataFrame(CV_rfc.best_estimator_.feature_importances_,\\\n",
    "                                   index = X.columns,\\\n",
    "                                    columns=['importance']).sort_values('importance',ascending=False)\n",
    "\n",
    "feature_importances.head(40)"
   ]
  },
  {
   "cell_type": "code",
   "execution_count": 13,
   "metadata": {},
   "outputs": [],
   "source": [
    "top_40_features = feature_importances.index.tolist()[:40]"
   ]
  },
  {
   "cell_type": "markdown",
   "metadata": {},
   "source": [
    "### Reducción con K-Means\n",
    "\n",
    "Voy a reducir las dimensiones de las 40 features usando kmeans y veremos que pasa..."
   ]
  },
  {
   "cell_type": "code",
   "execution_count": 126,
   "metadata": {},
   "outputs": [],
   "source": [
    "k_means = KMeans(n_clusters=30, random_state=420)"
   ]
  },
  {
   "cell_type": "code",
   "execution_count": 127,
   "metadata": {},
   "outputs": [],
   "source": [
    "top_40_features_reduced = k_means.fit_transform(df_test[top_40_features])"
   ]
  },
  {
   "cell_type": "code",
   "execution_count": 128,
   "metadata": {},
   "outputs": [],
   "source": [
    "top_40_features_reduced = pd.DataFrame(top_40_features_reduced)"
   ]
  },
  {
   "cell_type": "code",
   "execution_count": 129,
   "metadata": {},
   "outputs": [],
   "source": [
    "top_40_features_reduced['person'] = df_test.reset_index()['person']"
   ]
  },
  {
   "cell_type": "code",
   "execution_count": 130,
   "metadata": {},
   "outputs": [],
   "source": [
    "top_40_features_reduced.set_index('person', inplace=True)"
   ]
  },
  {
   "cell_type": "code",
   "execution_count": 131,
   "metadata": {},
   "outputs": [],
   "source": [
    "df_test_new =  (top_40_features_reduced - top_40_features_reduced.mean()) / top_40_features_reduced.std()"
   ]
  },
  {
   "cell_type": "code",
   "execution_count": 132,
   "metadata": {},
   "outputs": [],
   "source": [
    "df_test_new['label'] = df_test['label']"
   ]
  },
  {
   "cell_type": "markdown",
   "metadata": {},
   "source": [
    "Queda comentada la parte que reseteo el set de test al top 40 directo sin el K-Means."
   ]
  },
  {
   "cell_type": "code",
   "execution_count": 110,
   "metadata": {},
   "outputs": [],
   "source": [
    "# df_test_new = df_test[top_40_features]\n",
    "# df_test_new = (df_test_new - df_test_new.mean()) / df_test_new.std()\n",
    "# df_test_new['person'] = df_test.reset_index()['person']\n",
    "# df_test_new['label'] = df_test['label']"
   ]
  },
  {
   "cell_type": "code",
   "execution_count": 119,
   "metadata": {},
   "outputs": [],
   "source": [
    "# df_test_new.fillna(0, inplace=True)"
   ]
  },
  {
   "cell_type": "code",
   "execution_count": 133,
   "metadata": {},
   "outputs": [],
   "source": [
    "features = df_test_new.columns.tolist()\n",
    "features.remove('label')\n",
    "\n",
    "X = df_test_new[features]\n",
    "Y = df_test_new['label']\n",
    "\n",
    "X_train, X_test, y_train, y_test = train_test_split(X, Y, test_size=0.20, random_state=311)"
   ]
  },
  {
   "cell_type": "code",
   "execution_count": 134,
   "metadata": {},
   "outputs": [],
   "source": [
    "params = {\n",
    "    'hidden_layer_sizes': [(20, 11, 1), (21, 10, 1), (25, 50, 25)],\n",
    "    'alpha': [0.0001, 0.001],\n",
    "    'activation': ['logistic', 'relu']\n",
    "}"
   ]
  },
  {
   "cell_type": "code",
   "execution_count": 135,
   "metadata": {
    "scrolled": true
   },
   "outputs": [
    {
     "name": "stdout",
     "output_type": "stream",
     "text": [
      "Fitting 5 folds for each of 12 candidates, totalling 60 fits\n"
     ]
    },
    {
     "name": "stderr",
     "output_type": "stream",
     "text": [
      "[Parallel(n_jobs=-1)]: Done   5 tasks      | elapsed:   18.5s\n",
      "[Parallel(n_jobs=-1)]: Done  10 tasks      | elapsed:   22.6s\n",
      "[Parallel(n_jobs=-1)]: Done  17 tasks      | elapsed:   30.3s\n",
      "[Parallel(n_jobs=-1)]: Done  24 tasks      | elapsed:   36.1s\n",
      "[Parallel(n_jobs=-1)]: Done  33 tasks      | elapsed:   46.6s\n",
      "[Parallel(n_jobs=-1)]: Done  42 tasks      | elapsed:  1.0min\n",
      "[Parallel(n_jobs=-1)]: Done  53 tasks      | elapsed:  1.3min\n",
      "[Parallel(n_jobs=-1)]: Done  60 out of  60 | elapsed:  1.4min remaining:    0.0s\n",
      "[Parallel(n_jobs=-1)]: Done  60 out of  60 | elapsed:  1.4min finished\n"
     ]
    },
    {
     "data": {
      "text/plain": [
       "GridSearchCV(cv=5, error_score='raise',\n",
       "       estimator=MLPRegressor(activation='relu', alpha=0.0001, batch_size='auto', beta_1=0.9,\n",
       "       beta_2=0.999, early_stopping=False, epsilon=1e-08,\n",
       "       hidden_layer_sizes=(100,), learning_rate='constant',\n",
       "       learning_rate_init=0.001, max_iter=200, momentum=0.9,\n",
       "       nesterovs_momentum=True, power_t=0.5, random_state=420,\n",
       "       shuffle=True, solver='adam', tol=0.0001, validation_fraction=0.1,\n",
       "       verbose=False, warm_start=False),\n",
       "       fit_params=None, iid=True, n_jobs=-1,\n",
       "       param_grid={'hidden_layer_sizes': [(20, 11, 1), (21, 10, 1), (25, 50, 25)], 'alpha': [0.0001, 0.001], 'activation': ['logistic', 'relu']},\n",
       "       pre_dispatch='2*n_jobs', refit=True, return_train_score='warn',\n",
       "       scoring='roc_auc', verbose=10)"
      ]
     },
     "execution_count": 135,
     "metadata": {},
     "output_type": "execute_result"
    }
   ],
   "source": [
    "mlp = MLPRegressor(random_state=420)\n",
    "CV_mlp = GridSearchCV(estimator=mlp, param_grid=params, cv=5, scoring='roc_auc', n_jobs=-1, verbose=10)\n",
    "CV_mlp.fit(X_train, y_train)"
   ]
  },
  {
   "cell_type": "code",
   "execution_count": 136,
   "metadata": {},
   "outputs": [
    {
     "data": {
      "text/plain": [
       "{'activation': 'logistic', 'alpha': 0.001, 'hidden_layer_sizes': (25, 50, 25)}"
      ]
     },
     "execution_count": 136,
     "metadata": {},
     "output_type": "execute_result"
    }
   ],
   "source": [
    "CV_mlp.best_params_"
   ]
  },
  {
   "cell_type": "code",
   "execution_count": 137,
   "metadata": {},
   "outputs": [
    {
     "data": {
      "text/plain": [
       "0.81321157961314"
      ]
     },
     "execution_count": 137,
     "metadata": {},
     "output_type": "execute_result"
    }
   ],
   "source": [
    "CV_mlp.best_score_"
   ]
  },
  {
   "cell_type": "code",
   "execution_count": 138,
   "metadata": {},
   "outputs": [
    {
     "name": "stdout",
     "output_type": "stream",
     "text": [
      "0.7925104657247515\n"
     ]
    }
   ],
   "source": [
    "print(roc_auc_score(y_test, CV_mlp.predict(X_test)))"
   ]
  },
  {
   "cell_type": "code",
   "execution_count": 139,
   "metadata": {},
   "outputs": [
    {
     "ename": "NameError",
     "evalue": "name 'df_submit' is not defined",
     "output_type": "error",
     "traceback": [
      "\u001b[1;31m---------------------------------------------------------------------------\u001b[0m",
      "\u001b[1;31mNameError\u001b[0m                                 Traceback (most recent call last)",
      "\u001b[1;32m<ipython-input-139-24300dfecdc8>\u001b[0m in \u001b[0;36m<module>\u001b[1;34m()\u001b[0m\n\u001b[1;32m----> 1\u001b[1;33m \u001b[0mdf_submit\u001b[0m\u001b[1;33m.\u001b[0m\u001b[0mto_csv\u001b[0m\u001b[1;33m(\u001b[0m\u001b[1;34m'../submit_mlp_kmeans_reduccion.csv'\u001b[0m\u001b[1;33m)\u001b[0m\u001b[1;33m\u001b[0m\u001b[0m\n\u001b[0m",
      "\u001b[1;31mNameError\u001b[0m: name 'df_submit' is not defined"
     ]
    }
   ],
   "source": [
    "df_submit.to_csv('../submit_mlp_kmeans_reduccion.csv')"
   ]
  }
 ],
 "metadata": {
  "kernelspec": {
   "display_name": "Python 3",
   "language": "python",
   "name": "python3"
  },
  "language_info": {
   "codemirror_mode": {
    "name": "ipython",
    "version": 3
   },
   "file_extension": ".py",
   "mimetype": "text/x-python",
   "name": "python",
   "nbconvert_exporter": "python",
   "pygments_lexer": "ipython3",
   "version": "3.6.5"
  }
 },
 "nbformat": 4,
 "nbformat_minor": 2
}
