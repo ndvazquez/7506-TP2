{
 "cells": [
  {
   "cell_type": "code",
   "execution_count": 1,
   "metadata": {},
   "outputs": [],
   "source": [
    "import pandas as pd\n",
    "import numpy as np\n",
    "from sklearn.model_selection import GridSearchCV\n",
    "from xgboost import XGBClassifier\n",
    "from sklearn.model_selection import train_test_split\n",
    "from sklearn.metrics import classification_report, roc_auc_score\n",
    "from sklearn.preprocessing import normalize\n",
    "from sklearn.model_selection import cross_val_score\n",
    "\n",
    "from sklearn.manifold import mds\n",
    "from sklearn.decomposition import TruncatedSVD\n",
    "\n",
    "from sklearn.ensemble import RandomForestClassifier"
   ]
  },
  {
   "cell_type": "code",
   "execution_count": 2,
   "metadata": {},
   "outputs": [
    {
     "data": {
      "text/plain": [
       "(19414, 93)"
      ]
     },
     "execution_count": 2,
     "metadata": {},
     "output_type": "execute_result"
    }
   ],
   "source": [
    "df1 = pd.read_csv('../data/features_basicas.csv', low_memory=False, index_col='person')\n",
    "df2 = pd.read_csv('../data/features_checkouts.csv', low_memory=False, index_col='person')\n",
    "df3 = pd.read_csv('../data/features_vistos.csv', low_memory=False, index_col='person')\n",
    "df4 = pd.read_csv('../data/feature_dispositivo_mas_usado.csv', low_memory=False, index_col='person')\n",
    "df5 = pd.read_csv('../data/feature_dia_mas_activo.csv', low_memory=False, index_col='person')\n",
    "df6 = pd.read_csv('../data/feature_compra_onsite.csv', low_memory=False, index_col='person')\n",
    "df7 = pd.read_csv('../data/feature_cantidad_de_eventos_en_intervalos.csv', low_memory=False, index_col='person')\n",
    "df8 = pd.read_csv('../data/feature_dispositivos_storage.csv', low_memory=False, index_col='person')\n",
    "df9 = pd.read_csv('../data/featureUsuarioSonDeSaoPablo.csv', low_memory=False, index_col='person')\n",
    "df10 = pd.read_csv('../data/featureCantidadMaximaPersonaVeUnProducto.csv', low_memory=False, index_col='person')\n",
    "df11 = pd.read_csv('../data/featureUltimaConexion.csv', low_memory=False, index_col='person')\n",
    "df12 = pd.read_csv('../data/features_basicas_ult_quin.csv', low_memory=False, index_col='person')\n",
    "df14 = pd.read_csv('../data/days_elapsed_from_last_event.csv', low_memory=False, index_col='person')\n",
    "df15 = pd.read_csv('../data/featureUsuarioRealiza30EventosEn20MinsLosUltimos2Dias.csv', low_memory=False, index_col='person')\n",
    "df16 = pd.read_csv('../data/features_ultimo_checkout.csv', low_memory=False, index_col='person')\n",
    "df17 = pd.read_csv('../data/diferencia_de_count_de_eventos.csv', low_memory=False, index_col='person')\n",
    "df18 = pd.read_csv('../data/top_10_celulares.csv', low_memory=False, index_col='person')\n",
    "df19 = pd.read_csv('../data/feature_cantidad_de_eventos_en_intervalos_ult_quin.csv', low_memory=False, index_col='person')\n",
    "\n",
    "labels = pd.read_csv('../data/labels_training_set.csv', low_memory=False, index_col='person')\n",
    "\n",
    "df_unidos = df1.join(df2, how='inner')\n",
    "df_unidos = df_unidos.join(df3, how='inner')\n",
    "df_unidos = df_unidos.join(df4, how='inner')\n",
    "df_unidos = df_unidos.join(df5, how='inner')\n",
    "df_unidos = df_unidos.join(df6, how='inner')\n",
    "df_unidos = df_unidos.join(df7, how='inner')\n",
    "df_unidos = df_unidos.join(df8, how='inner')\n",
    "df_unidos = df_unidos.join(df9, how='inner')\n",
    "df_unidos = df_unidos.join(df10, how='inner')\n",
    "df_unidos = df_unidos.join(df11, how='inner')\n",
    "df_unidos = df_unidos.join(df12, how='inner')\n",
    "df_unidos = df_unidos.join(df14, how='inner')\n",
    "df_unidos = df_unidos.join(df15, how='inner')\n",
    "df_unidos = df_unidos.join(df16, how='inner')\n",
    "df_unidos = df_unidos.join(df17).fillna(0)\n",
    "df_unidos = df_unidos.join(df18, how='inner')\n",
    "df_unidos = df_unidos.join(df19, how='inner')\n",
    "\n",
    "#  Le asigno las features al subset de usuarios que nos da Trocafone para entrenar.\n",
    "df_test = df_unidos.join(labels, on='person', how='inner')\n",
    "df_test.shape"
   ]
  },
  {
   "cell_type": "markdown",
   "metadata": {},
   "source": [
    "#### Elegir las mejores features\n",
    "\n",
    "ahora voy a correr un RF y usar el top10 de las features mas importantes"
   ]
  },
  {
   "cell_type": "code",
   "execution_count": 3,
   "metadata": {},
   "outputs": [],
   "source": [
    "rf = RandomForestClassifier(n_estimators=100, criterion='entropy')"
   ]
  },
  {
   "cell_type": "code",
   "execution_count": 4,
   "metadata": {},
   "outputs": [],
   "source": [
    "features = df_test.columns.tolist()\n",
    "features.remove('label')"
   ]
  },
  {
   "cell_type": "code",
   "execution_count": 5,
   "metadata": {},
   "outputs": [],
   "source": [
    "X = df_test[features]\n",
    "Y = df_test['label']\n",
    "\n",
    "X_train, X_test, y_train, y_test = train_test_split(X, Y, test_size=1, random_state=311)"
   ]
  },
  {
   "cell_type": "code",
   "execution_count": 6,
   "metadata": {},
   "outputs": [
    {
     "data": {
      "text/plain": [
       "RandomForestClassifier(bootstrap=True, class_weight=None, criterion='entropy',\n",
       "            max_depth=None, max_features='auto', max_leaf_nodes=None,\n",
       "            min_impurity_decrease=0.0, min_impurity_split=None,\n",
       "            min_samples_leaf=1, min_samples_split=2,\n",
       "            min_weight_fraction_leaf=0.0, n_estimators=100, n_jobs=1,\n",
       "            oob_score=False, random_state=None, verbose=0,\n",
       "            warm_start=False)"
      ]
     },
     "execution_count": 6,
     "metadata": {},
     "output_type": "execute_result"
    }
   ],
   "source": [
    "rf.fit(X_train, y_train)"
   ]
  },
  {
   "cell_type": "markdown",
   "metadata": {},
   "source": [
    "#### Nos quedamos con las 10 features mas importantes"
   ]
  },
  {
   "cell_type": "code",
   "execution_count": 7,
   "metadata": {},
   "outputs": [
    {
     "data": {
      "text/html": [
       "<div>\n",
       "<style scoped>\n",
       "    .dataframe tbody tr th:only-of-type {\n",
       "        vertical-align: middle;\n",
       "    }\n",
       "\n",
       "    .dataframe tbody tr th {\n",
       "        vertical-align: top;\n",
       "    }\n",
       "\n",
       "    .dataframe thead th {\n",
       "        text-align: right;\n",
       "    }\n",
       "</style>\n",
       "<table border=\"1\" class=\"dataframe\">\n",
       "  <thead>\n",
       "    <tr style=\"text-align: right;\">\n",
       "      <th></th>\n",
       "      <th>importance</th>\n",
       "    </tr>\n",
       "  </thead>\n",
       "  <tbody>\n",
       "    <tr>\n",
       "      <th>days_elapsed</th>\n",
       "      <td>0.043111</td>\n",
       "    </tr>\n",
       "    <tr>\n",
       "      <th>tasa_ult_quin_cant_checkouts</th>\n",
       "      <td>0.042461</td>\n",
       "    </tr>\n",
       "    <tr>\n",
       "      <th>ult_quin_cant_checkouts</th>\n",
       "      <td>0.033429</td>\n",
       "    </tr>\n",
       "    <tr>\n",
       "      <th>storage_mas_checkout</th>\n",
       "      <td>0.032370</td>\n",
       "    </tr>\n",
       "    <tr>\n",
       "      <th>cant_viewed_product</th>\n",
       "      <td>0.028243</td>\n",
       "    </tr>\n",
       "    <tr>\n",
       "      <th>promedio_eventos_por_sesion</th>\n",
       "      <td>0.028070</td>\n",
       "    </tr>\n",
       "    <tr>\n",
       "      <th>primeraConexion</th>\n",
       "      <td>0.027116</td>\n",
       "    </tr>\n",
       "    <tr>\n",
       "      <th>model_encoding</th>\n",
       "      <td>0.026644</td>\n",
       "    </tr>\n",
       "    <tr>\n",
       "      <th>cantidadMaximaQueVeUnMismoProducto</th>\n",
       "      <td>0.025089</td>\n",
       "    </tr>\n",
       "    <tr>\n",
       "      <th>ultimaConexion</th>\n",
       "      <td>0.024688</td>\n",
       "    </tr>\n",
       "  </tbody>\n",
       "</table>\n",
       "</div>"
      ],
      "text/plain": [
       "                                    importance\n",
       "days_elapsed                          0.043111\n",
       "tasa_ult_quin_cant_checkouts          0.042461\n",
       "ult_quin_cant_checkouts               0.033429\n",
       "storage_mas_checkout                  0.032370\n",
       "cant_viewed_product                   0.028243\n",
       "promedio_eventos_por_sesion           0.028070\n",
       "primeraConexion                       0.027116\n",
       "model_encoding                        0.026644\n",
       "cantidadMaximaQueVeUnMismoProducto    0.025089\n",
       "ultimaConexion                        0.024688"
      ]
     },
     "execution_count": 7,
     "metadata": {},
     "output_type": "execute_result"
    }
   ],
   "source": [
    "feature_importances = pd.DataFrame(rf.feature_importances_,\\\n",
    "                                   index = X_train.columns,\\\n",
    "                                    columns=['importance']).sort_values('importance',ascending=False)\n",
    "#  Acá quedan ordenadas las features por importancia para el modelo, aparentemente la marca más vista y la marca\n",
    "#  que más compró cada usuario no es tan importante.\n",
    "feature_importances.head(10)"
   ]
  },
  {
   "cell_type": "markdown",
   "metadata": {},
   "source": [
    "#### Ahora vamos a llevar todos los puntos en 10 dimensiones a 2 o 3 dimensiones"
   ]
  },
  {
   "cell_type": "code",
   "execution_count": 8,
   "metadata": {},
   "outputs": [],
   "source": [
    "df_a_reducir = df_test[[\n",
    "    'tasa_ult_quin_cant_checkouts',\n",
    "    'days_elapsed',\n",
    "    'storage_mas_checkout',\n",
    "    'primeraConexion',\n",
    "    'cant_viewed_product',\n",
    "    'ult_quin_cant_checkouts',\n",
    "    'cant_checkouts',\n",
    "    'promedio_eventos_por_sesion',\n",
    "    'ultimaConexion',\n",
    "    'tasa_ult_quin_cant_viewed_product'\n",
    "]]"
   ]
  },
  {
   "cell_type": "code",
   "execution_count": 9,
   "metadata": {},
   "outputs": [],
   "source": [
    "svd = TruncatedSVD(n_components=3, random_state=1)\n",
    "features_reducidas = svd.fit_transform(df_a_reducir)"
   ]
  },
  {
   "cell_type": "code",
   "execution_count": 10,
   "metadata": {},
   "outputs": [],
   "source": [
    "df_reducido = pd.DataFrame(features_reducidas)\n",
    "\n",
    "df_test['svd_d1'] = df_reducido[0]\n",
    "df_test['svd_d2'] = df_reducido[1]\n",
    "df_test['svd_d3'] = df_reducido[2]\n",
    "\n",
    "df_unidos['svd_d1'] = df_reducido[0]\n",
    "df_unidos['svd_d2'] = df_reducido[1]\n",
    "df_unidos['svd_d3'] = df_reducido[2]"
   ]
  },
  {
   "cell_type": "code",
   "execution_count": 11,
   "metadata": {},
   "outputs": [
    {
     "data": {
      "text/plain": [
       "Index(['tiene_checkouts', 'llegaron_por_ad', 'llegaron_por_search',\n",
       "       'tiene_conversions', 'cant_conversions', 'cant_checkouts',\n",
       "       'cant_viewed_product', 'cant_searched_product', 'cant_visitas',\n",
       "       'cant_leads', 'cant_brand_listings', 'cant_generic_listings',\n",
       "       'cant_entradas_ads', 'cant_entradas_buscador', 'total_sesiones',\n",
       "       'promedio_eventos_por_sesion', 'checkout_Apple', 'checkout_Asus',\n",
       "       'checkout_LG', 'checkout_Lenovo', 'checkout_Motorola',\n",
       "       'checkout_Quantum', 'checkout_Samsung', 'checkout_Sony',\n",
       "       'vio_mas_Apple', 'vio_mas_Asus', 'vio_mas_LG', 'vio_mas_Lenovo',\n",
       "       'vio_mas_Motorola', 'vio_mas_Quantum', 'vio_mas_Samsung',\n",
       "       'vio_mas_Sony', 'dispositivo_Computer', 'dispositivo_Smartphone',\n",
       "       'dispositivo_Tablet', 'dispositivo_Unknown', 'Friday', 'Monday',\n",
       "       'Saturday', 'Sunday', 'Thursday', 'Tuesday', 'Wednesday',\n",
       "       'compro_onsite', 'cant_eventos_4_a_10hs', 'cant_eventos_11_a_14hs',\n",
       "       'cant_eventos_15_a_20hs', 'cant_eventos_21_a_3hs', 'storage_mas_visto',\n",
       "       'storage_mas_checkout', 'storage_mas_eventos', 'suma_total',\n",
       "       'EsDeSaoPablo', 'cantidadMaximaQueVeUnMismoProducto', 'primeraConexion',\n",
       "       'ultimaConexion', 'vida_del_usuario', 'ult_quin_cant_conversions',\n",
       "       'ult_quin_cant_checkouts', 'ult_quin_cant_viewed_product',\n",
       "       'ult_quin_cant_searched_product', 'ult_quin_cant_visitas',\n",
       "       'ult_quin_cant_leads', 'ult_quin_cant_brand_listings',\n",
       "       'ult_quin_cant_generic_listings', 'ult_quin_cant_entradas_ads',\n",
       "       'ult_quin_cant_entradas_buscador', 'tasa_ult_quin_cant_checkouts',\n",
       "       'tasa_ult_quin_cant_conversions', 'tasa_ult_quin_cant_viewed_product',\n",
       "       'tasa_ult_quin_cant_searched_product', 'tasa_ult_quin_cant_visitas',\n",
       "       'tasa_ult_quin_cant_leads', 'tasa_ult_quin_cant_brand_listings',\n",
       "       'tasa_ult_quin_cant_generic_listings',\n",
       "       'tasa_ult_quin_cant_entradas_ads',\n",
       "       'tasa_ult_quin_cant_entradas_buscador', 'ult_quin_total_sesiones',\n",
       "       'ult_quin_promedio_eventos_por_sesion', 'days_elapsed',\n",
       "       'realiza30EventosEn20MinsLosUltimos2Dias', 'model_encoding',\n",
       "       'diff_checkouts_15_dias', 'diff_visited_site_15_dias',\n",
       "       'diff_searched_products_15_dias', 'diff_viewed_products_15_dias',\n",
       "       'total_top_10_phones_checkout', 'different_top_10_phones_checkout',\n",
       "       'ult_quin_cant_eventos_4_a_10hs', 'ult_quin_cant_eventos_11_a_14hs',\n",
       "       'ult_quin_cant_eventos_15_a_20hs', 'ult_quin_cant_eventos_21_a_3hs',\n",
       "       'svd_d1', 'svd_d2', 'svd_d3'],\n",
       "      dtype='object')"
      ]
     },
     "execution_count": 11,
     "metadata": {},
     "output_type": "execute_result"
    }
   ],
   "source": [
    "df_unidos.columns"
   ]
  },
  {
   "cell_type": "code",
   "execution_count": 12,
   "metadata": {},
   "outputs": [
    {
     "data": {
      "text/plain": [
       "(19414, 96)"
      ]
     },
     "execution_count": 12,
     "metadata": {},
     "output_type": "execute_result"
    }
   ],
   "source": [
    "df_test.shape"
   ]
  },
  {
   "cell_type": "code",
   "execution_count": 13,
   "metadata": {},
   "outputs": [],
   "source": [
    "features = df_test.columns.tolist()\n",
    "features.remove('label')"
   ]
  },
  {
   "cell_type": "code",
   "execution_count": 14,
   "metadata": {},
   "outputs": [],
   "source": [
    "X = df_test[features]\n",
    "Y = df_test['label']\n",
    "\n",
    "X_train, X_test, y_train, y_test = train_test_split(X, Y, test_size=0.20, random_state=311)"
   ]
  },
  {
   "cell_type": "code",
   "execution_count": 15,
   "metadata": {},
   "outputs": [],
   "source": [
    "param_grid = { \n",
    "    'n_estimators': [100, 300, 500],\n",
    "    'max_depth' : [3,4,5],\n",
    "    'scale_pos_weight': [1, 2, 4]\n",
    "}"
   ]
  },
  {
   "cell_type": "code",
   "execution_count": 16,
   "metadata": {},
   "outputs": [
    {
     "name": "stdout",
     "output_type": "stream",
     "text": [
      "Fitting 10 folds for each of 27 candidates, totalling 270 fits\n"
     ]
    },
    {
     "name": "stderr",
     "output_type": "stream",
     "text": [
      "[Parallel(n_jobs=4)]: Done   5 tasks      | elapsed:   42.1s\n",
      "[Parallel(n_jobs=4)]: Done  10 tasks      | elapsed:  1.1min\n",
      "[Parallel(n_jobs=4)]: Done  17 tasks      | elapsed:  1.6min\n",
      "[Parallel(n_jobs=4)]: Done  24 tasks      | elapsed:  2.0min\n",
      "[Parallel(n_jobs=4)]: Done  33 tasks      | elapsed:  3.3min\n",
      "[Parallel(n_jobs=4)]: Done  42 tasks      | elapsed:  5.0min\n",
      "[Parallel(n_jobs=4)]: Done  53 tasks      | elapsed:  7.4min\n",
      "[Parallel(n_jobs=4)]: Done  64 tasks      | elapsed: 10.4min\n",
      "[Parallel(n_jobs=4)]: Done  77 tasks      | elapsed: 15.1min\n",
      "[Parallel(n_jobs=4)]: Done  90 tasks      | elapsed: 18.8min\n",
      "[Parallel(n_jobs=4)]: Done 105 tasks      | elapsed: 20.3min\n",
      "[Parallel(n_jobs=4)]: Done 120 tasks      | elapsed: 21.8min\n",
      "[Parallel(n_jobs=4)]: Done 137 tasks      | elapsed: 26.7min\n",
      "[Parallel(n_jobs=4)]: Done 154 tasks      | elapsed: 31.6min\n",
      "[Parallel(n_jobs=4)]: Done 173 tasks      | elapsed: 40.3min\n",
      "[Parallel(n_jobs=4)]: Done 192 tasks      | elapsed: 44.0min\n",
      "[Parallel(n_jobs=4)]: Done 213 tasks      | elapsed: 47.6min\n",
      "[Parallel(n_jobs=4)]: Done 234 tasks      | elapsed: 54.2min\n",
      "[Parallel(n_jobs=4)]: Done 257 tasks      | elapsed: 66.2min\n",
      "[Parallel(n_jobs=4)]: Done 270 out of 270 | elapsed: 72.2min finished\n"
     ]
    },
    {
     "data": {
      "text/plain": [
       "GridSearchCV(cv=10, error_score='raise',\n",
       "       estimator=XGBClassifier(base_score=0.5, booster='gbtree', colsample_bylevel=1,\n",
       "       colsample_bytree=1, gamma=0, learning_rate=0.1, max_delta_step=0,\n",
       "       max_depth=3, min_child_weight=1, missing=None, n_estimators=100,\n",
       "       n_jobs=1, nthread=None, objective='binary:logistic',\n",
       "       random_state=80, reg_alpha=0, reg_lambda=1, scale_pos_weight=1,\n",
       "       seed=None, silent=True, subsample=1),\n",
       "       fit_params=None, iid=True, n_jobs=4,\n",
       "       param_grid={'n_estimators': [100, 300, 500], 'max_depth': [3, 4, 5], 'scale_pos_weight': [1, 2, 4]},\n",
       "       pre_dispatch='2*n_jobs', refit=True, return_train_score='warn',\n",
       "       scoring='roc_auc', verbose=10)"
      ]
     },
     "execution_count": 16,
     "metadata": {},
     "output_type": "execute_result"
    }
   ],
   "source": [
    "xgb = XGBClassifier(random_state=80)\n",
    "CV_xgb = GridSearchCV(estimator=xgb, param_grid=param_grid, cv= 10, scoring='roc_auc', n_jobs=4, verbose=10)\n",
    "CV_xgb.fit(X_train, y_train)"
   ]
  },
  {
   "cell_type": "code",
   "execution_count": 25,
   "metadata": {},
   "outputs": [
    {
     "data": {
      "text/plain": [
       "{'max_depth': 3, 'n_estimators': 100, 'scale_pos_weight': 1}"
      ]
     },
     "execution_count": 25,
     "metadata": {},
     "output_type": "execute_result"
    }
   ],
   "source": [
    "CV_xgb.best_params_"
   ]
  },
  {
   "cell_type": "code",
   "execution_count": 26,
   "metadata": {},
   "outputs": [
    {
     "data": {
      "text/plain": [
       "0.8732316017270474"
      ]
     },
     "execution_count": 26,
     "metadata": {},
     "output_type": "execute_result"
    }
   ],
   "source": [
    "CV_xgb.best_score_"
   ]
  },
  {
   "cell_type": "code",
   "execution_count": 27,
   "metadata": {},
   "outputs": [
    {
     "name": "stdout",
     "output_type": "stream",
     "text": [
      "0.8579604918890633\n"
     ]
    }
   ],
   "source": [
    "model_xgb = XGBClassifier(scale_pos_weight=1, n_estimators=100, random_state=80, max_depth=3)\n",
    "model_xgb.fit(X_train, y_train)\n",
    "y_pred = model_xgb.predict_proba(X_test)\n",
    "y_pred_proba = [p[1] for p in y_pred]\n",
    "print(roc_auc_score(y_test, y_pred_proba))"
   ]
  },
  {
   "cell_type": "code",
   "execution_count": 28,
   "metadata": {},
   "outputs": [
    {
     "data": {
      "text/html": [
       "<div>\n",
       "<style scoped>\n",
       "    .dataframe tbody tr th:only-of-type {\n",
       "        vertical-align: middle;\n",
       "    }\n",
       "\n",
       "    .dataframe tbody tr th {\n",
       "        vertical-align: top;\n",
       "    }\n",
       "\n",
       "    .dataframe thead th {\n",
       "        text-align: right;\n",
       "    }\n",
       "</style>\n",
       "<table border=\"1\" class=\"dataframe\">\n",
       "  <thead>\n",
       "    <tr style=\"text-align: right;\">\n",
       "      <th></th>\n",
       "      <th>importance</th>\n",
       "    </tr>\n",
       "  </thead>\n",
       "  <tbody>\n",
       "    <tr>\n",
       "      <th>days_elapsed</th>\n",
       "      <td>0.068285</td>\n",
       "    </tr>\n",
       "    <tr>\n",
       "      <th>cant_viewed_product</th>\n",
       "      <td>0.066768</td>\n",
       "    </tr>\n",
       "    <tr>\n",
       "      <th>storage_mas_checkout</th>\n",
       "      <td>0.065250</td>\n",
       "    </tr>\n",
       "    <tr>\n",
       "      <th>tasa_ult_quin_cant_checkouts</th>\n",
       "      <td>0.054628</td>\n",
       "    </tr>\n",
       "    <tr>\n",
       "      <th>ultimaConexion</th>\n",
       "      <td>0.047041</td>\n",
       "    </tr>\n",
       "    <tr>\n",
       "      <th>cant_eventos_21_a_3hs</th>\n",
       "      <td>0.037936</td>\n",
       "    </tr>\n",
       "    <tr>\n",
       "      <th>dispositivo_Computer</th>\n",
       "      <td>0.031866</td>\n",
       "    </tr>\n",
       "    <tr>\n",
       "      <th>tasa_ult_quin_cant_entradas_ads</th>\n",
       "      <td>0.027314</td>\n",
       "    </tr>\n",
       "    <tr>\n",
       "      <th>tasa_ult_quin_cant_conversions</th>\n",
       "      <td>0.025797</td>\n",
       "    </tr>\n",
       "    <tr>\n",
       "      <th>tiene_conversions</th>\n",
       "      <td>0.025797</td>\n",
       "    </tr>\n",
       "    <tr>\n",
       "      <th>tasa_ult_quin_cant_brand_listings</th>\n",
       "      <td>0.024279</td>\n",
       "    </tr>\n",
       "    <tr>\n",
       "      <th>tasa_ult_quin_cant_searched_product</th>\n",
       "      <td>0.024279</td>\n",
       "    </tr>\n",
       "    <tr>\n",
       "      <th>cant_brand_listings</th>\n",
       "      <td>0.022762</td>\n",
       "    </tr>\n",
       "    <tr>\n",
       "      <th>total_sesiones</th>\n",
       "      <td>0.021244</td>\n",
       "    </tr>\n",
       "    <tr>\n",
       "      <th>cant_eventos_15_a_20hs</th>\n",
       "      <td>0.019727</td>\n",
       "    </tr>\n",
       "    <tr>\n",
       "      <th>storage_mas_eventos</th>\n",
       "      <td>0.018209</td>\n",
       "    </tr>\n",
       "    <tr>\n",
       "      <th>ult_quin_cant_eventos_4_a_10hs</th>\n",
       "      <td>0.018209</td>\n",
       "    </tr>\n",
       "    <tr>\n",
       "      <th>cant_eventos_11_a_14hs</th>\n",
       "      <td>0.018209</td>\n",
       "    </tr>\n",
       "    <tr>\n",
       "      <th>vio_mas_Apple</th>\n",
       "      <td>0.018209</td>\n",
       "    </tr>\n",
       "    <tr>\n",
       "      <th>llegaron_por_search</th>\n",
       "      <td>0.016692</td>\n",
       "    </tr>\n",
       "    <tr>\n",
       "      <th>cant_conversions</th>\n",
       "      <td>0.016692</td>\n",
       "    </tr>\n",
       "    <tr>\n",
       "      <th>diff_viewed_products_15_dias</th>\n",
       "      <td>0.016692</td>\n",
       "    </tr>\n",
       "    <tr>\n",
       "      <th>cant_generic_listings</th>\n",
       "      <td>0.015175</td>\n",
       "    </tr>\n",
       "    <tr>\n",
       "      <th>cant_checkouts</th>\n",
       "      <td>0.015175</td>\n",
       "    </tr>\n",
       "    <tr>\n",
       "      <th>model_encoding</th>\n",
       "      <td>0.015175</td>\n",
       "    </tr>\n",
       "    <tr>\n",
       "      <th>ult_quin_total_sesiones</th>\n",
       "      <td>0.013657</td>\n",
       "    </tr>\n",
       "    <tr>\n",
       "      <th>cant_entradas_ads</th>\n",
       "      <td>0.013657</td>\n",
       "    </tr>\n",
       "    <tr>\n",
       "      <th>ult_quin_cant_eventos_11_a_14hs</th>\n",
       "      <td>0.013657</td>\n",
       "    </tr>\n",
       "    <tr>\n",
       "      <th>ult_quin_cant_eventos_21_a_3hs</th>\n",
       "      <td>0.013657</td>\n",
       "    </tr>\n",
       "    <tr>\n",
       "      <th>primeraConexion</th>\n",
       "      <td>0.012140</td>\n",
       "    </tr>\n",
       "  </tbody>\n",
       "</table>\n",
       "</div>"
      ],
      "text/plain": [
       "                                     importance\n",
       "days_elapsed                           0.068285\n",
       "cant_viewed_product                    0.066768\n",
       "storage_mas_checkout                   0.065250\n",
       "tasa_ult_quin_cant_checkouts           0.054628\n",
       "ultimaConexion                         0.047041\n",
       "cant_eventos_21_a_3hs                  0.037936\n",
       "dispositivo_Computer                   0.031866\n",
       "tasa_ult_quin_cant_entradas_ads        0.027314\n",
       "tasa_ult_quin_cant_conversions         0.025797\n",
       "tiene_conversions                      0.025797\n",
       "tasa_ult_quin_cant_brand_listings      0.024279\n",
       "tasa_ult_quin_cant_searched_product    0.024279\n",
       "cant_brand_listings                    0.022762\n",
       "total_sesiones                         0.021244\n",
       "cant_eventos_15_a_20hs                 0.019727\n",
       "storage_mas_eventos                    0.018209\n",
       "ult_quin_cant_eventos_4_a_10hs         0.018209\n",
       "cant_eventos_11_a_14hs                 0.018209\n",
       "vio_mas_Apple                          0.018209\n",
       "llegaron_por_search                    0.016692\n",
       "cant_conversions                       0.016692\n",
       "diff_viewed_products_15_dias           0.016692\n",
       "cant_generic_listings                  0.015175\n",
       "cant_checkouts                         0.015175\n",
       "model_encoding                         0.015175\n",
       "ult_quin_total_sesiones                0.013657\n",
       "cant_entradas_ads                      0.013657\n",
       "ult_quin_cant_eventos_11_a_14hs        0.013657\n",
       "ult_quin_cant_eventos_21_a_3hs         0.013657\n",
       "primeraConexion                        0.012140"
      ]
     },
     "execution_count": 28,
     "metadata": {},
     "output_type": "execute_result"
    }
   ],
   "source": [
    "#  Acá quedan ordenadas las features por importancia para el modelo, aparentemente la marca más vista y la marca\n",
    "#  que más compró cada usuario no es tan importante.\n",
    "feature_importances = pd.DataFrame(model_xgb.feature_importances_,\\\n",
    "                                   index = X.columns,\\\n",
    "                                    columns=['importance']).sort_values('importance',ascending=False)\n",
    "\n",
    "feature_importances.head(30)"
   ]
  },
  {
   "cell_type": "code",
   "execution_count": 29,
   "metadata": {},
   "outputs": [],
   "source": [
    "df_submit = pd.read_csv('../data/trocafone_kaggle_test.csv', low_memory=False, index_col='person')\n",
    "df_events = df_submit.join(df_unidos, how='inner')"
   ]
  },
  {
   "cell_type": "code",
   "execution_count": 30,
   "metadata": {},
   "outputs": [
    {
     "data": {
      "text/plain": [
       "(19415, 95)"
      ]
     },
     "execution_count": 30,
     "metadata": {},
     "output_type": "execute_result"
    }
   ],
   "source": [
    "df_events.shape"
   ]
  },
  {
   "cell_type": "code",
   "execution_count": 32,
   "metadata": {},
   "outputs": [],
   "source": [
    "kaggle_pred = CV_xgb.predict_proba(df_events)\n",
    "proba_de_comprar = [x[1] for x in kaggle_pred]\n",
    "series = pd.Series(proba_de_comprar)\n",
    "df_submit['label'] = series.values"
   ]
  },
  {
   "cell_type": "code",
   "execution_count": 33,
   "metadata": {},
   "outputs": [],
   "source": [
    "df_submit.to_csv('../submit_svd_kfolds10.csv')"
   ]
  },
  {
   "cell_type": "code",
   "execution_count": null,
   "metadata": {},
   "outputs": [],
   "source": []
  }
 ],
 "metadata": {
  "kernelspec": {
   "display_name": "Python 3",
   "language": "python",
   "name": "python3"
  },
  "language_info": {
   "codemirror_mode": {
    "name": "ipython",
    "version": 3
   },
   "file_extension": ".py",
   "mimetype": "text/x-python",
   "name": "python",
   "nbconvert_exporter": "python",
   "pygments_lexer": "ipython3",
   "version": "3.6.5"
  }
 },
 "nbformat": 4,
 "nbformat_minor": 2
}
