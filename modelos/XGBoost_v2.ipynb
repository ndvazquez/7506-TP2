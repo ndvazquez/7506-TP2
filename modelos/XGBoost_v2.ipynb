{
 "cells": [
  {
   "cell_type": "code",
   "execution_count": 73,
   "metadata": {},
   "outputs": [],
   "source": [
    "import pandas as pd\n",
    "import numpy as np\n",
    "from sklearn.model_selection import GridSearchCV\n",
    "from xgboost import XGBClassifier\n",
    "from sklearn.model_selection import train_test_split\n",
    "from sklearn.metrics import classification_report, roc_auc_score\n",
    "from sklearn.preprocessing import normalize\n",
    "from sklearn.model_selection import cross_val_score"
   ]
  },
  {
   "cell_type": "code",
   "execution_count": 74,
   "metadata": {},
   "outputs": [],
   "source": [
    "df1 = pd.read_csv('../data/features_basicas.csv', low_memory=False, index_col='person')\n",
    "df2 = pd.read_csv('../data/features_checkouts.csv', low_memory=False, index_col='person')\n",
    "df3 = pd.read_csv('../data/features_vistos.csv', low_memory=False, index_col='person')\n",
    "df4 = pd.read_csv('../data/feature_dispositivo_mas_usado.csv', low_memory=False, index_col='person')\n",
    "df5 = pd.read_csv('../data/feature_dia_mas_activo.csv', low_memory=False, index_col='person')\n",
    "df6 = pd.read_csv('../data/feature_compra_onsite.csv', low_memory=False, index_col='person')\n",
    "df7 = pd.read_csv('../data/feature_cantidad_de_eventos_en_intervalos.csv', low_memory=False, index_col='person')\n",
    "df8 = pd.read_csv('../data/feature_dispositivos_storage.csv', low_memory=False, index_col='person')\n",
    "df9 = pd.read_csv('../data/featureUsuarioSonDeSaoPablo.csv', low_memory=False, index_col='person')\n",
    "df10 = pd.read_csv('../data/featureCantidadMaximaPersonaVeUnProducto.csv', low_memory=False, index_col='person')\n",
    "df11 = pd.read_csv('../data/featureUltimaConexion.csv', low_memory=False, index_col='person')\n",
    "df12 = pd.read_csv('../data/features_basicas_ult_quin.csv', low_memory=False, index_col='person')\n",
    "df13 = pd.read_csv('../data/eventos_en_los_ultimos_15_dias.csv', low_memory=False, index_col='person')\n",
    "df14 = pd.read_csv('../data/days_elapsed_from_last_event.csv', low_memory=False, index_col='person')\n",
    "df15 = pd.read_csv('../data/featureUsuarioRealiza30EventosEn20MinsLosUltimos2Dias.csv', low_memory=False, index_col='person')\n",
    "\n",
    "labels = pd.read_csv('../data/labels_training_set.csv', low_memory=False, index_col='person')\n",
    "\n",
    "df_unidos = df1.join(df2, how='inner')\n",
    "df_unidos = df_unidos.join(df3, how='inner')\n",
    "df_unidos = df_unidos.join(df4, how='inner')\n",
    "df_unidos = df_unidos.join(df5, how='inner')\n",
    "df_unidos = df_unidos.join(df6, how='inner')\n",
    "df_unidos = df_unidos.join(df7, how='inner')\n",
    "df_unidos = df_unidos.join(df8, how='inner')\n",
    "df_unidos = df_unidos.join(df9, how='inner')\n",
    "df_unidos = df_unidos.join(df10, how='inner')\n",
    "df_unidos = df_unidos.join(df11, how='inner')\n",
    "df_unidos = df_unidos.join(df12, how='inner')\n",
    "df_unidos = df_unidos.join(df13, how='inner')\n",
    "df_unidos = df_unidos.join(df14, how='inner')\n",
    "df_unidos = df_unidos.join(df15, how='inner')\n",
    "\n",
    "#  Le asigno las features al subset de usuarios que nos da Trocafone para entrenar.\n",
    "df_test = df_unidos.join(labels, on='person', how='inner')"
   ]
  },
  {
   "cell_type": "code",
   "execution_count": 75,
   "metadata": {},
   "outputs": [
    {
     "data": {
      "text/plain": [
       "(19414, 81)"
      ]
     },
     "execution_count": 75,
     "metadata": {},
     "output_type": "execute_result"
    }
   ],
   "source": [
    "df_test.shape"
   ]
  },
  {
   "cell_type": "code",
   "execution_count": 76,
   "metadata": {},
   "outputs": [],
   "source": [
    "features = df_test.columns.tolist()\n",
    "features.remove('label')"
   ]
  },
  {
   "cell_type": "code",
   "execution_count": 77,
   "metadata": {},
   "outputs": [],
   "source": [
    "X = df_test[features]\n",
    "Y = df_test['label']\n",
    "\n",
    "X_train, X_test, y_train, y_test = train_test_split(X, Y, test_size=0.20, random_state=311)"
   ]
  },
  {
   "cell_type": "code",
   "execution_count": 78,
   "metadata": {},
   "outputs": [],
   "source": [
    "param_grid = { \n",
    "    'n_estimators': [x for x in range(100, 500, 50)],\n",
    "    'max_depth' : [3,4,5],\n",
    "    'scale_pos_weight': [x for x in range(1, 4, 1)]\n",
    "}"
   ]
  },
  {
   "cell_type": "code",
   "execution_count": 79,
   "metadata": {},
   "outputs": [
    {
     "data": {
      "text/plain": [
       "GridSearchCV(cv=5, error_score='raise',\n",
       "       estimator=XGBClassifier(base_score=0.5, booster='gbtree', colsample_bylevel=1,\n",
       "       colsample_bytree=1, gamma=0, learning_rate=0.1, max_delta_step=0,\n",
       "       max_depth=3, min_child_weight=1, missing=None, n_estimators=100,\n",
       "       n_jobs=1, nthread=None, objective='binary:logistic',\n",
       "       random_state=80, reg_alpha=0, reg_lambda=1, scale_pos_weight=1,\n",
       "       seed=None, silent=True, subsample=1),\n",
       "       fit_params=None, iid=True, n_jobs=4,\n",
       "       param_grid={'n_estimators': [100, 150, 200, 250, 300, 350, 400, 450], 'max_depth': [3, 4, 5], 'scale_pos_weight': [1, 2, 3]},\n",
       "       pre_dispatch='2*n_jobs', refit=True, return_train_score='warn',\n",
       "       scoring='roc_auc', verbose=0)"
      ]
     },
     "execution_count": 79,
     "metadata": {},
     "output_type": "execute_result"
    }
   ],
   "source": [
    "xgb = XGBClassifier(random_state=80)\n",
    "CV_xgb = GridSearchCV(estimator=xgb, param_grid=param_grid, cv= 5, scoring='roc_auc', n_jobs=4,)\n",
    "CV_xgb.fit(X_train, y_train)"
   ]
  },
  {
   "cell_type": "code",
   "execution_count": 80,
   "metadata": {},
   "outputs": [
    {
     "data": {
      "text/plain": [
       "{'max_depth': 3, 'n_estimators': 100, 'scale_pos_weight': 1}"
      ]
     },
     "execution_count": 80,
     "metadata": {},
     "output_type": "execute_result"
    }
   ],
   "source": [
    "CV_xgb.best_params_"
   ]
  },
  {
   "cell_type": "code",
   "execution_count": 81,
   "metadata": {},
   "outputs": [
    {
     "data": {
      "text/plain": [
       "0.8700242951823183"
      ]
     },
     "execution_count": 81,
     "metadata": {},
     "output_type": "execute_result"
    }
   ],
   "source": [
    "CV_xgb.best_score_"
   ]
  },
  {
   "cell_type": "code",
   "execution_count": 84,
   "metadata": {},
   "outputs": [
    {
     "name": "stdout",
     "output_type": "stream",
     "text": [
      "0.8572291993720564\n"
     ]
    }
   ],
   "source": [
    "model_xgb = XGBClassifier(scale_pos_weight=1, n_estimators=100, random_state=80, max_depth=3)\n",
    "model_xgb.fit(X_train, y_train)\n",
    "y_pred = model_xgb.predict_proba(X_test)\n",
    "y_pred_proba = [p[1] for p in y_pred]\n",
    "print(roc_auc_score(y_test, y_pred_proba))"
   ]
  },
  {
   "cell_type": "code",
   "execution_count": 85,
   "metadata": {},
   "outputs": [
    {
     "data": {
      "text/html": [
       "<div>\n",
       "<style scoped>\n",
       "    .dataframe tbody tr th:only-of-type {\n",
       "        vertical-align: middle;\n",
       "    }\n",
       "\n",
       "    .dataframe tbody tr th {\n",
       "        vertical-align: top;\n",
       "    }\n",
       "\n",
       "    .dataframe thead th {\n",
       "        text-align: right;\n",
       "    }\n",
       "</style>\n",
       "<table border=\"1\" class=\"dataframe\">\n",
       "  <thead>\n",
       "    <tr style=\"text-align: right;\">\n",
       "      <th></th>\n",
       "      <th>importance</th>\n",
       "    </tr>\n",
       "  </thead>\n",
       "  <tbody>\n",
       "    <tr>\n",
       "      <th>ult_quin_cant_checkouts</th>\n",
       "      <td>0.107858</td>\n",
       "    </tr>\n",
       "    <tr>\n",
       "      <th>days_elapsed</th>\n",
       "      <td>0.069337</td>\n",
       "    </tr>\n",
       "    <tr>\n",
       "      <th>cant_viewed_product</th>\n",
       "      <td>0.055470</td>\n",
       "    </tr>\n",
       "    <tr>\n",
       "      <th>cant_eventos_21_a_3hs</th>\n",
       "      <td>0.047766</td>\n",
       "    </tr>\n",
       "    <tr>\n",
       "      <th>ultimaConexion</th>\n",
       "      <td>0.043143</td>\n",
       "    </tr>\n",
       "    <tr>\n",
       "      <th>conversions_in_last_15_days</th>\n",
       "      <td>0.033898</td>\n",
       "    </tr>\n",
       "    <tr>\n",
       "      <th>dispositivo_Computer</th>\n",
       "      <td>0.032357</td>\n",
       "    </tr>\n",
       "    <tr>\n",
       "      <th>cant_entradas_ads</th>\n",
       "      <td>0.024653</td>\n",
       "    </tr>\n",
       "    <tr>\n",
       "      <th>tiene_conversions</th>\n",
       "      <td>0.024653</td>\n",
       "    </tr>\n",
       "    <tr>\n",
       "      <th>primeraConexion</th>\n",
       "      <td>0.024653</td>\n",
       "    </tr>\n",
       "    <tr>\n",
       "      <th>storage_mas_visto</th>\n",
       "      <td>0.023112</td>\n",
       "    </tr>\n",
       "    <tr>\n",
       "      <th>cant_eventos_11_a_14hs</th>\n",
       "      <td>0.023112</td>\n",
       "    </tr>\n",
       "    <tr>\n",
       "      <th>cant_brand_listings</th>\n",
       "      <td>0.021572</td>\n",
       "    </tr>\n",
       "    <tr>\n",
       "      <th>total_sesiones</th>\n",
       "      <td>0.021572</td>\n",
       "    </tr>\n",
       "    <tr>\n",
       "      <th>cant_checkouts</th>\n",
       "      <td>0.021572</td>\n",
       "    </tr>\n",
       "    <tr>\n",
       "      <th>cant_eventos_4_a_10hs</th>\n",
       "      <td>0.020031</td>\n",
       "    </tr>\n",
       "    <tr>\n",
       "      <th>cant_eventos_15_a_20hs</th>\n",
       "      <td>0.020031</td>\n",
       "    </tr>\n",
       "    <tr>\n",
       "      <th>brand_listings_in_last_15_days</th>\n",
       "      <td>0.018490</td>\n",
       "    </tr>\n",
       "    <tr>\n",
       "      <th>ult_quin_cant_searched_product</th>\n",
       "      <td>0.018490</td>\n",
       "    </tr>\n",
       "    <tr>\n",
       "      <th>cant_conversions</th>\n",
       "      <td>0.018490</td>\n",
       "    </tr>\n",
       "  </tbody>\n",
       "</table>\n",
       "</div>"
      ],
      "text/plain": [
       "                                importance\n",
       "ult_quin_cant_checkouts           0.107858\n",
       "days_elapsed                      0.069337\n",
       "cant_viewed_product               0.055470\n",
       "cant_eventos_21_a_3hs             0.047766\n",
       "ultimaConexion                    0.043143\n",
       "conversions_in_last_15_days       0.033898\n",
       "dispositivo_Computer              0.032357\n",
       "cant_entradas_ads                 0.024653\n",
       "tiene_conversions                 0.024653\n",
       "primeraConexion                   0.024653\n",
       "storage_mas_visto                 0.023112\n",
       "cant_eventos_11_a_14hs            0.023112\n",
       "cant_brand_listings               0.021572\n",
       "total_sesiones                    0.021572\n",
       "cant_checkouts                    0.021572\n",
       "cant_eventos_4_a_10hs             0.020031\n",
       "cant_eventos_15_a_20hs            0.020031\n",
       "brand_listings_in_last_15_days    0.018490\n",
       "ult_quin_cant_searched_product    0.018490\n",
       "cant_conversions                  0.018490"
      ]
     },
     "execution_count": 85,
     "metadata": {},
     "output_type": "execute_result"
    }
   ],
   "source": [
    "#  Acá quedan ordenadas las features por importancia para el modelo, aparentemente la marca más vista y la marca\n",
    "#  que más compró cada usuario no es tan importante.\n",
    "feature_importances = pd.DataFrame(model_xgb.feature_importances_,\\\n",
    "                                   index = X.columns,\\\n",
    "                                    columns=['importance']).sort_values('importance',ascending=False)\n",
    "\n",
    "feature_importances.head(20)"
   ]
  },
  {
   "cell_type": "code",
   "execution_count": 86,
   "metadata": {},
   "outputs": [],
   "source": [
    "df_submit = pd.read_csv('../data/trocafone_kaggle_test.csv', low_memory=False, index_col='person')\n",
    "df_events = df_submit.join(df_unidos, how='inner')"
   ]
  },
  {
   "cell_type": "code",
   "execution_count": 87,
   "metadata": {},
   "outputs": [
    {
     "data": {
      "text/plain": [
       "(19415, 80)"
      ]
     },
     "execution_count": 87,
     "metadata": {},
     "output_type": "execute_result"
    }
   ],
   "source": [
    "df_events.shape"
   ]
  },
  {
   "cell_type": "code",
   "execution_count": 88,
   "metadata": {},
   "outputs": [],
   "source": [
    "kaggle_pred = model_xgb.predict_proba(df_events)\n",
    "proba_de_comprar = [x[1] for x in kaggle_pred]\n",
    "series = pd.Series(proba_de_comprar)\n",
    "df_submit['label'] = series.values"
   ]
  },
  {
   "cell_type": "code",
   "execution_count": 89,
   "metadata": {},
   "outputs": [],
   "source": [
    "df_submit.to_csv('../submit.csv')"
   ]
  },
  {
   "cell_type": "code",
   "execution_count": null,
   "metadata": {},
   "outputs": [],
   "source": []
  }
 ],
 "metadata": {
  "kernelspec": {
   "display_name": "Python 3",
   "language": "python",
   "name": "python3"
  },
  "language_info": {
   "codemirror_mode": {
    "name": "ipython",
    "version": 3
   },
   "file_extension": ".py",
   "mimetype": "text/x-python",
   "name": "python",
   "nbconvert_exporter": "python",
   "pygments_lexer": "ipython3",
   "version": "3.6.5"
  }
 },
 "nbformat": 4,
 "nbformat_minor": 2
}
