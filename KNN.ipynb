{
 "cells": [
  {
   "cell_type": "code",
   "execution_count": 1,
   "metadata": {},
   "outputs": [],
   "source": [
    "import os  \n",
    "import pandas as pd  \n",
    "import numpy as np  \n",
    "import matplotlib.pyplot as plt  \n",
    "import seaborn as sns  \n",
    "\n",
    "from sklearn.neighbors import KNeighborsClassifier  \n",
    "from sklearn import metrics\n",
    "from sklearn.model_selection import cross_val_score\n",
    "from sklearn.model_selection import train_test_split\n",
    "from sklearn.metrics import classification_report, confusion_matrix, roc_auc_score\n",
    "\n",
    "\n",
    "# basado muy fuertemente en este artículo:\n",
    "#     https://lukesingham.com/whos-going-to-leave-next/"
   ]
  },
  {
   "cell_type": "code",
   "execution_count": 2,
   "metadata": {},
   "outputs": [],
   "source": [
    "df1 = pd.read_csv('data/features_basicas.csv', low_memory=False, index_col='person')\n",
    "labels = pd.read_csv('data/labels_training_set.csv', low_memory=False, index_col='person')\n",
    "\n",
    "df_unidos = df1\n",
    "df_test = df_unidos.join(labels, how='inner', on='person')"
   ]
  },
  {
   "cell_type": "code",
   "execution_count": 3,
   "metadata": {},
   "outputs": [
    {
     "name": "stdout",
     "output_type": "stream",
     "text": [
      "['cant_conversions', 'cant_checkouts', 'cant_viewed_product', 'cant_searched_product', 'total_sesiones', 'promedio_eventos_por_sesion']\n"
     ]
    }
   ],
   "source": [
    "features = df_test.columns.tolist()\n",
    "features.remove('label')\n",
    "print(features)"
   ]
  },
  {
   "cell_type": "markdown",
   "metadata": {},
   "source": [
    "## Entranando el KNN"
   ]
  },
  {
   "cell_type": "code",
   "execution_count": 4,
   "metadata": {},
   "outputs": [],
   "source": [
    "knn = KNeighborsClassifier(n_neighbors=3, weights='distance', n_jobs=-1)\n",
    "\n",
    "x_train, x_test, y_train, y_test = train_test_split(df_test[features], df_test['label'], test_size=0.20)"
   ]
  },
  {
   "cell_type": "code",
   "execution_count": 5,
   "metadata": {},
   "outputs": [
    {
     "data": {
      "text/plain": [
       "0.9454030388874581"
      ]
     },
     "execution_count": 5,
     "metadata": {},
     "output_type": "execute_result"
    }
   ],
   "source": [
    "knn.fit(x_train, y_train)\n",
    "knn.score(x_test, y_test)"
   ]
  },
  {
   "cell_type": "code",
   "execution_count": 6,
   "metadata": {},
   "outputs": [
    {
     "name": "stdout",
     "output_type": "stream",
     "text": [
      "             precision    recall  f1-score   support\n",
      "\n",
      "          0       0.95      0.99      0.97      3705\n",
      "          1       0.03      0.01      0.01       178\n",
      "\n",
      "avg / total       0.91      0.95      0.93      3883\n",
      "\n"
     ]
    }
   ],
   "source": [
    "y_pred = knn.predict(x_test)\n",
    "y_proba = knn.predict_proba(x_test)\n",
    "print(classification_report(y_test, y_pred))"
   ]
  },
  {
   "cell_type": "code",
   "execution_count": 7,
   "metadata": {},
   "outputs": [
    {
     "name": "stdout",
     "output_type": "stream",
     "text": [
      "\n",
      "true 0s: 3705\n",
      "pred 0s: 3847\n",
      "true 1s: 178\n",
      "pred 1s: 36\n"
     ]
    }
   ],
   "source": [
    "cm = confusion_matrix(y_test, y_pred)\n",
    "print()\n",
    "print('true 0s: {}'.format(cm[0][0] + cm[0][1]))\n",
    "print('pred 0s: {}'.format(cm[0][0] + cm[1][0]))\n",
    "print('true 1s: {}'.format(cm[1][0] + cm[1][1]))\n",
    "print('pred 1s: {}'.format(cm[0][1] + cm[1][1]))"
   ]
  },
  {
   "cell_type": "code",
   "execution_count": 8,
   "metadata": {},
   "outputs": [],
   "source": [
    "# y_proba_df = pd.DataFrame(y_proba)\n",
    "# y_proba_df.columns = ['not_buy', 'buy']\n",
    "# y_proba_df.sort_values(ascending=False, by='buy').head()"
   ]
  },
  {
   "cell_type": "markdown",
   "metadata": {},
   "source": [
    "### Levanto todo lo necesario para hacer el submit"
   ]
  },
  {
   "cell_type": "code",
   "execution_count": 9,
   "metadata": {},
   "outputs": [],
   "source": [
    "df_submit = pd.read_csv('data/trocafone_kaggle_test.csv', low_memory=False, index_col='person')\n",
    "df_events = df_submit.join(df_unidos, how='inner')"
   ]
  },
  {
   "cell_type": "code",
   "execution_count": 10,
   "metadata": {},
   "outputs": [],
   "source": [
    "kaggle_pred = knn.predict_proba(df_events)\n",
    "kaggle_proba = [x[1] for x in kaggle_pred]\n",
    "series = pd.Series(kaggle_proba)\n",
    "df_submit['label'] = series.values"
   ]
  },
  {
   "cell_type": "code",
   "execution_count": 11,
   "metadata": {},
   "outputs": [],
   "source": [
    "df_submit.to_csv('submit.csv')"
   ]
  }
 ],
 "metadata": {
  "kernelspec": {
   "display_name": "Python 3",
   "language": "python",
   "name": "python3"
  },
  "language_info": {
   "codemirror_mode": {
    "name": "ipython",
    "version": 3
   },
   "file_extension": ".py",
   "mimetype": "text/x-python",
   "name": "python",
   "nbconvert_exporter": "python",
   "pygments_lexer": "ipython3",
   "version": "3.6.5"
  }
 },
 "nbformat": 4,
 "nbformat_minor": 2
}
