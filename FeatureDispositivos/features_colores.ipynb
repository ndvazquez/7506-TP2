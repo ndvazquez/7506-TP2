{
 "cells": [
  {
   "cell_type": "code",
   "execution_count": 1,
   "metadata": {},
   "outputs": [],
   "source": [
    "import pandas as pd"
   ]
  },
  {
   "cell_type": "code",
   "execution_count": 20,
   "metadata": {},
   "outputs": [],
   "source": [
    "df = pd.read_csv('../data/events.csv', low_memory=False)\n",
    "df['timestamp'] = pd.to_datetime(df['timestamp'])"
   ]
  },
  {
   "cell_type": "code",
   "execution_count": 21,
   "metadata": {},
   "outputs": [],
   "source": [
    "users = df[['person']].drop_duplicates().copy()\n",
    "users.set_index('person', inplace=True)"
   ]
  },
  {
   "cell_type": "code",
   "execution_count": 24,
   "metadata": {},
   "outputs": [],
   "source": [
    "df_ult_quin = df.loc[df['timestamp'] > pd.to_datetime('2018-05-15'), :]"
   ]
  },
  {
   "cell_type": "code",
   "execution_count": 25,
   "metadata": {},
   "outputs": [],
   "source": [
    "def calcular_freq(evento):\n",
    "    df_colores = df_ult_quin.loc[df['event'] == evento, :].groupby('person')['color'].value_counts()\n",
    "    df_col_mas_evento = df_colores.rename(columns={'color':'max'}).reset_index().groupby('person').first()[['color']].reset_index()\n",
    "    df_col_mas_evento.rename(columns={'color':'color_'+evento}, inplace=True)\n",
    "    dict_colores = df_col_mas_evento['color_'+evento].value_counts().to_dict()\n",
    "    df_col_mas_evento.set_index('person', inplace=True)\n",
    "    df_col_mas_evento = df_col_mas_evento.applymap(lambda s: dict_colores.get(s) if s in dict_colores else s)\n",
    "    return df_col_mas_evento"
   ]
  },
  {
   "cell_type": "code",
   "execution_count": 26,
   "metadata": {},
   "outputs": [],
   "source": [
    "df_checkout = calcular_freq('checkout')\n",
    "df_conversion = calcular_freq('conversion')\n",
    "df_viewed_prod = calcular_freq('viewed product')"
   ]
  },
  {
   "cell_type": "code",
   "execution_count": 27,
   "metadata": {},
   "outputs": [],
   "source": [
    "df_final = users.join(df_checkout).fillna(0)\n",
    "df_final = df_final.join(df_conversion).fillna(0)\n",
    "df_final = df_final.join(df_viewed_prod).fillna(0)"
   ]
  },
  {
   "cell_type": "code",
   "execution_count": 28,
   "metadata": {},
   "outputs": [
    {
     "data": {
      "text/plain": [
       "(38829, 3)"
      ]
     },
     "execution_count": 28,
     "metadata": {},
     "output_type": "execute_result"
    }
   ],
   "source": [
    "df_final.shape"
   ]
  },
  {
   "cell_type": "code",
   "execution_count": 29,
   "metadata": {},
   "outputs": [],
   "source": [
    "df_final.to_csv('../data/feature_color_ult15dias.csv')"
   ]
  },
  {
   "cell_type": "code",
   "execution_count": 30,
   "metadata": {},
   "outputs": [
    {
     "data": {
      "text/plain": [
       "(38829, 0)"
      ]
     },
     "execution_count": 30,
     "metadata": {},
     "output_type": "execute_result"
    }
   ],
   "source": [
    "users.shape"
   ]
  },
  {
   "cell_type": "code",
   "execution_count": null,
   "metadata": {},
   "outputs": [],
   "source": []
  }
 ],
 "metadata": {
  "kernelspec": {
   "display_name": "Python 3",
   "language": "python",
   "name": "python3"
  },
  "language_info": {
   "codemirror_mode": {
    "name": "ipython",
    "version": 3
   },
   "file_extension": ".py",
   "mimetype": "text/x-python",
   "name": "python",
   "nbconvert_exporter": "python",
   "pygments_lexer": "ipython3",
   "version": "3.6.6"
  }
 },
 "nbformat": 4,
 "nbformat_minor": 2
}
