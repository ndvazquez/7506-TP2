{
 "cells": [
  {
   "cell_type": "code",
   "execution_count": null,
   "metadata": {},
   "outputs": [],
   "source": [
    "import pandas as pd"
   ]
  },
  {
   "cell_type": "code",
   "execution_count": null,
   "metadata": {},
   "outputs": [],
   "source": [
    "df = pd.read_csv('../data/events.csv', low_memory=False)\n",
    "df['timestamp'] = pd.to_datetime(df['timestamp'])"
   ]
  },
  {
   "cell_type": "code",
   "execution_count": null,
   "metadata": {},
   "outputs": [],
   "source": [
    "users = df[['person']].drop_duplicates().copy()"
   ]
  },
  {
   "cell_type": "code",
   "execution_count": null,
   "metadata": {},
   "outputs": [],
   "source": [
    "#Storage más buscado\n"
   ]
  },
  {
   "cell_type": "code",
   "execution_count": null,
   "metadata": {},
   "outputs": [],
   "source": [
    "df = df.loc[df['timestamp'] > pd.to_datetime('2018-05-15'), :]"
   ]
  },
  {
   "cell_type": "code",
   "execution_count": null,
   "metadata": {},
   "outputs": [],
   "source": [
    "df_maxs = df.groupby('person')['storage'].value_counts()\n",
    "df_most_events = df_maxs.rename(columns={'storage':'max'}).reset_index().groupby('person').first()[['storage']].reset_index()\n",
    "df_most_events.rename(columns={'storage':'storage_mas_eventos'}, inplace=True)"
   ]
  },
  {
   "cell_type": "code",
   "execution_count": null,
   "metadata": {},
   "outputs": [],
   "source": [
    "df_views = df.loc[df['event'] == 'viewed product', :]\n",
    "df_maxs = df_views.groupby('person')['storage'].value_counts()\n",
    "df_mostView = df_maxs.rename(columns={'storage':'max'}).reset_index().groupby('person').first()[['storage']].reset_index()"
   ]
  },
  {
   "cell_type": "code",
   "execution_count": null,
   "metadata": {},
   "outputs": [],
   "source": [
    "df_mostView.head(10)"
   ]
  },
  {
   "cell_type": "code",
   "execution_count": null,
   "metadata": {},
   "outputs": [],
   "source": [
    "df_checkout = df.loc[df['event'] == 'checkout', :]\n",
    "df_maxs = df_checkout.groupby('person')['storage'].value_counts()\n",
    "df_mostCheckout = df_maxs.rename(columns={'storage':'max'}).reset_index().groupby('person').first()[['storage']].reset_index()"
   ]
  },
  {
   "cell_type": "code",
   "execution_count": null,
   "metadata": {},
   "outputs": [],
   "source": [
    "df_mostCheckout.rename(columns={'storage':'storage_mas_checkout'}, inplace=True)"
   ]
  },
  {
   "cell_type": "code",
   "execution_count": null,
   "metadata": {},
   "outputs": [],
   "source": [
    "# res_final = res_final[['storage']]\n",
    "# res_final.fillna('Unknown', inplace=True)\n",
    "storages_info_df = pd.merge(users,df_mostView, left_on = 'person', right_on= 'person', how = 'left').set_index('person')\n",
    "storages_info_df.rename(columns={'storage':'storage_mas_visto'}, inplace=True)"
   ]
  },
  {
   "cell_type": "code",
   "execution_count": null,
   "metadata": {
    "scrolled": true
   },
   "outputs": [],
   "source": [
    "storages_info_df = pd.merge(storages_info_df,df_mostCheckout, left_index=True, right_on= 'person', how = 'left').set_index('person')"
   ]
  },
  {
   "cell_type": "code",
   "execution_count": null,
   "metadata": {},
   "outputs": [],
   "source": [
    "storages_info_df = pd.merge(storages_info_df,df_most_events, left_index=True, right_on= 'person', how = 'left').set_index('person')"
   ]
  },
  {
   "cell_type": "code",
   "execution_count": null,
   "metadata": {},
   "outputs": [],
   "source": [
    "\n",
    "mymap = {'Nan':0, '256GB':1, '128GB':2, '64GB':3, '32GB':4 , '16GB':5, '8GB':6, '4GB':7, '512MB':8}\n",
    "storages_info_df = storages_info_df.applymap(lambda s: mymap.get(s) if s in mymap else s)\n"
   ]
  },
  {
   "cell_type": "code",
   "execution_count": null,
   "metadata": {},
   "outputs": [],
   "source": [
    "storages_info_df.fillna(0, inplace=True)\n",
    "storages_info_df['suma_total'] = storages_info_df['storage_mas_visto'] + storages_info_df['storage_mas_checkout'] + storages_info_df['storage_mas_eventos']\n",
    "storages_info_df.to_csv('../data/feature_dispositivos_storage.csv', sep=',')"
   ]
  },
  {
   "cell_type": "code",
   "execution_count": null,
   "metadata": {},
   "outputs": [],
   "source": []
  }
 ],
 "metadata": {
  "kernelspec": {
   "display_name": "Python 3",
   "language": "python",
   "name": "python3"
  },
  "language_info": {
   "codemirror_mode": {
    "name": "ipython",
    "version": 3
   },
   "file_extension": ".py",
   "mimetype": "text/x-python",
   "name": "python",
   "nbconvert_exporter": "python",
   "pygments_lexer": "ipython3",
   "version": "3.5.2"
  }
 },
 "nbformat": 4,
 "nbformat_minor": 2
}
