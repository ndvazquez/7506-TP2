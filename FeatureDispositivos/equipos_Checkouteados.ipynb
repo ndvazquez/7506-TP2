{
 "cells": [
  {
   "cell_type": "code",
   "execution_count": 1,
   "metadata": {},
   "outputs": [],
   "source": [
    "import pandas as pd\n",
    "df = pd.read_csv('../data/events.csv', low_memory=False)\n",
    "df['timestamp'] = pd.to_datetime(df['timestamp'])\n",
    "# En los últimos 15 días\n",
    "df = df.loc[df['timestamp'] > pd.to_datetime('2018-05-15'), :]"
   ]
  },
  {
   "cell_type": "markdown",
   "metadata": {},
   "source": [
    "# Cant max de veces que le hizo checkout a un mismo modelo"
   ]
  },
  {
   "cell_type": "code",
   "execution_count": 2,
   "metadata": {},
   "outputs": [],
   "source": [
    "user_features = df[['person']].drop_duplicates().copy()\n",
    "user_features.set_index('person', inplace=True)"
   ]
  },
  {
   "cell_type": "code",
   "execution_count": 3,
   "metadata": {},
   "outputs": [],
   "source": [
    "mismo_equipo_checkout = df.loc[df['event'] == 'checkout', :]\n",
    "mismo_equipo_checkout =  mismo_equipo_checkout.groupby(['person','model']).size().rename('checkouts_repetidos').reset_index()\n",
    "mismo_equipo_checkout = mismo_equipo_checkout.groupby('person')['checkouts_repetidos'].max().reset_index()\n",
    "mismo_equipo_checkout.set_index('person', inplace=True)"
   ]
  },
  {
   "cell_type": "code",
   "execution_count": 4,
   "metadata": {},
   "outputs": [],
   "source": [
    "user_features = user_features.join(mismo_equipo_checkout)\n",
    "user_features['checkouts_repetidos'].fillna(0, inplace=True)"
   ]
  },
  {
   "cell_type": "code",
   "execution_count": 5,
   "metadata": {},
   "outputs": [],
   "source": [
    "user_features.to_csv('../data/features_checkouts_repetidos.csv', sep=',')"
   ]
  }
 ],
 "metadata": {
  "kernelspec": {
   "display_name": "Python 3",
   "language": "python",
   "name": "python3"
  },
  "language_info": {
   "codemirror_mode": {
    "name": "ipython",
    "version": 3
   },
   "file_extension": ".py",
   "mimetype": "text/x-python",
   "name": "python",
   "nbconvert_exporter": "python",
   "pygments_lexer": "ipython3",
   "version": "3.5.2"
  }
 },
 "nbformat": 4,
 "nbformat_minor": 2
}
