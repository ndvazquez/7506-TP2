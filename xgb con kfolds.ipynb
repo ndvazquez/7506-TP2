{
 "cells": [
  {
   "cell_type": "code",
   "execution_count": 17,
   "metadata": {},
   "outputs": [],
   "source": [
    "import pandas as pd\n",
    "from numpy import loadtxt\n",
    "from xgboost import XGBClassifier\n",
    "from sklearn.model_selection import train_test_split, KFold, RandomizedSearchCV, GridSearchCV, StratifiedKFold\n",
    "from sklearn.metrics import accuracy_score\n",
    "from sklearn.utils import resample"
   ]
  },
  {
   "cell_type": "code",
   "execution_count": 9,
   "metadata": {},
   "outputs": [],
   "source": [
    "df1 = pd.read_csv('data/encoding_stats_features.csv', index_col='person')\n",
    "df2 = pd.read_csv('data/viewed_product_stats.csv', index_col='person')\n",
    "df3 = pd.read_csv('data/features_basicas.csv', index_col='person')\n",
    "\n",
    "labels = pd.read_csv('data/labels_training_set.csv', index_col='person')"
   ]
  },
  {
   "cell_type": "code",
   "execution_count": 10,
   "metadata": {},
   "outputs": [],
   "source": [
    "# joineando df1 con df3\n",
    "df_final = df3.join(df1, how='left', on='person')\n",
    "df_final = df_final.fillna(df_final.mean())"
   ]
  },
  {
   "cell_type": "code",
   "execution_count": 11,
   "metadata": {},
   "outputs": [],
   "source": [
    "df_final = df_final.join(df2, how='left', on='person')\n",
    "df_final = df_final.fillna(df_final.mean())"
   ]
  },
  {
   "cell_type": "code",
   "execution_count": 12,
   "metadata": {},
   "outputs": [],
   "source": [
    "df_final = df_final.drop(labels=['checked_out'], axis=1)\n",
    "df_features = df_final.copy()\n",
    "df_final = df_final.join(labels, how='inner', on='person')"
   ]
  },
  {
   "cell_type": "markdown",
   "metadata": {},
   "source": [
    "### Balanceamos un poco el set de datos (down-sampling)\n",
    "\n",
    "Usando el resample de sklearn, desechamos cierta cantidad de no-compradores para que se balanceen las clases un poco mas."
   ]
  },
  {
   "cell_type": "code",
   "execution_count": 14,
   "metadata": {},
   "outputs": [],
   "source": [
    "df_no_compradores = df_final[df_final.label==0]\n",
    "df_compradores = df_final[df_final.label==1]\n",
    "\n",
    "proporcion_compradores = 0.1  # el 10% ahora son compradores\n",
    "\n",
    "df_mas_compradores = resample(df_no_compradores, \n",
    "                              replace=True,\n",
    "                              n_samples=int(df_no_compradores.label.value_counts()[0] * (1-proporcion_compradores)),\n",
    "                              random_state=123)\n",
    "df_final = pd.concat([df_mas_compradores, df_no_compradores])"
   ]
  },
  {
   "cell_type": "code",
   "execution_count": 23,
   "metadata": {},
   "outputs": [],
   "source": [
    "features = df_final.columns.tolist()\n",
    "features.remove('label')\n",
    "\n",
    "X_train, X_test, Y_train, Y_test = train_test_split(df_final[features],\n",
    "                                                    df_final['label'], \n",
    "                                                    test_size=0.0, \n",
    "                                                    random_state=123\n",
    "                                                   )"
   ]
  },
  {
   "cell_type": "markdown",
   "metadata": {},
   "source": [
    "### Definimos que parametros vamos a tunear"
   ]
  },
  {
   "cell_type": "code",
   "execution_count": 66,
   "metadata": {},
   "outputs": [],
   "source": [
    "params = {\n",
    "    'min_child_weight': [1, 5, 10, 7],\n",
    "    'gamma': [0.5, 1, 1.5, 2, 5, 0.25],\n",
    "    'subsample': [0.6, 0.4, 1.0, 0.8],\n",
    "    'colsample_bytree': [0.6, 0.8, 1.0, 0.4],\n",
    "    'max_depth': [3, 4, 6, 8, 10]\n",
    "}"
   ]
  },
  {
   "cell_type": "markdown",
   "metadata": {},
   "source": [
    "### Instanciamos el modelo de XGB que vamos a usar"
   ]
  },
  {
   "cell_type": "code",
   "execution_count": 67,
   "metadata": {},
   "outputs": [],
   "source": [
    "xgb = XGBClassifier(learning_rate=0.02, n_estimators=300, silent=True, nthread=4)"
   ]
  },
  {
   "cell_type": "markdown",
   "metadata": {},
   "source": [
    "### Definimos variables necesarias para K-Folds"
   ]
  },
  {
   "cell_type": "code",
   "execution_count": 68,
   "metadata": {},
   "outputs": [],
   "source": [
    "folds = 10\n",
    "param_comb = 5\n",
    "\n",
    "kfolds = StratifiedKFold(n_splits=folds, shuffle=True, random_state=123)"
   ]
  },
  {
   "cell_type": "code",
   "execution_count": 69,
   "metadata": {},
   "outputs": [],
   "source": [
    "random_search = RandomizedSearchCV(\n",
    "    xgb, \n",
    "    param_distributions=params, \n",
    "    n_iter=param_comb, \n",
    "    scoring='roc_auc',\n",
    "    cv=kfolds.split(X_train, Y_train),\n",
    "    random_state=123,\n",
    "    verbose=3,\n",
    "    n_jobs=4\n",
    ")"
   ]
  },
  {
   "cell_type": "code",
   "execution_count": 70,
   "metadata": {
    "scrolled": false
   },
   "outputs": [
    {
     "name": "stdout",
     "output_type": "stream",
     "text": [
      "Fitting 10 folds for each of 5 candidates, totalling 50 fits\n"
     ]
    },
    {
     "name": "stderr",
     "output_type": "stream",
     "text": [
      "[Parallel(n_jobs=4)]: Done  24 tasks      | elapsed:  2.4min\n",
      "[Parallel(n_jobs=4)]: Done  50 out of  50 | elapsed:  6.3min finished\n"
     ]
    },
    {
     "data": {
      "text/plain": [
       "RandomizedSearchCV(cv=<generator object _BaseKFold.split at 0x000001A7019838E0>,\n",
       "          error_score='raise',\n",
       "          estimator=XGBClassifier(base_score=0.5, booster='gbtree', colsample_bylevel=1,\n",
       "       colsample_bytree=1, gamma=0, learning_rate=0.02, max_delta_step=0,\n",
       "       max_depth=3, min_child_weight=1, missing=None, n_estimators=300,\n",
       "       n_jobs=1, nthread=4, objective='binary:logistic', random_state=0,\n",
       "       reg_alpha=0, reg_lambda=1, scale_pos_weight=1, seed=None,\n",
       "       silent=True, subsample=1),\n",
       "          fit_params=None, iid=True, n_iter=5, n_jobs=4,\n",
       "          param_distributions={'min_child_weight': [1, 5, 10, 7], 'gamma': [0.5, 1, 1.5, 2, 5, 0.25], 'subsample': [0.6, 0.4, 1.0, 0.8], 'colsample_bytree': [0.6, 0.8, 1.0, 0.4], 'max_depth': [3, 4, 6, 8, 10]},\n",
       "          pre_dispatch='2*n_jobs', random_state=123, refit=True,\n",
       "          return_train_score='warn', scoring='roc_auc', verbose=3)"
      ]
     },
     "execution_count": 70,
     "metadata": {},
     "output_type": "execute_result"
    }
   ],
   "source": [
    "random_search.fit(X_train, Y_train)"
   ]
  },
  {
   "cell_type": "code",
   "execution_count": 56,
   "metadata": {},
   "outputs": [
    {
     "name": "stdout",
     "output_type": "stream",
     "text": [
      "XGBClassifier(base_score=0.5, booster='gbtree', colsample_bylevel=1,\n",
      "       colsample_bytree=0.6, gamma=1, learning_rate=0.02, max_delta_step=0,\n",
      "       max_depth=4, min_child_weight=10, missing=None, n_estimators=300,\n",
      "       n_jobs=1, nthread=4, objective='binary:logistic', random_state=0,\n",
      "       reg_alpha=0, reg_lambda=1, scale_pos_weight=1, seed=None,\n",
      "       silent=True, subsample=0.6)\n",
      "\n",
      "Best params: {'subsample': 0.6, 'min_child_weight': 10, 'max_depth': 4, 'gamma': 1, 'colsample_bytree': 0.6}\n"
     ]
    }
   ],
   "source": [
    "print(random_search.best_estimator_)\n",
    "print()\n",
    "print('Best params: {}'.format(random_search.best_params_))"
   ]
  },
  {
   "cell_type": "markdown",
   "metadata": {},
   "source": [
    "### Hacer un submit\n",
    "\n",
    "Ahora lo que queda es ver que tan bien le va con el submit de kaggle"
   ]
  },
  {
   "cell_type": "code",
   "execution_count": 63,
   "metadata": {},
   "outputs": [
    {
     "name": "stdout",
     "output_type": "stream",
     "text": [
      "<class 'pandas.core.frame.DataFrame'>\n",
      "Index: 19415 entries, 4886f805 to 80aea0a0\n",
      "Empty DataFrame"
     ]
    }
   ],
   "source": [
    "df_submit = pd.read_csv('data/trocafone_kaggle_test.csv', low_memory=False, index_col='person')\n",
    "df_events = df_submit.join(df_features, how='inner')\n",
    "df_submit.info()"
   ]
  },
  {
   "cell_type": "code",
   "execution_count": 64,
   "metadata": {},
   "outputs": [],
   "source": [
    "kaggle_pred = random_search.predict_proba(df_events)\n",
    "proba_de_comprar = [x[1] for x in kaggle_pred]\n",
    "series = pd.Series(proba_de_comprar)\n",
    "df_submit['label'] = series.values"
   ]
  },
  {
   "cell_type": "code",
   "execution_count": 65,
   "metadata": {},
   "outputs": [],
   "source": [
    "df_submit.to_csv('submit.csv')"
   ]
  }
 ],
 "metadata": {
  "kernelspec": {
   "display_name": "Python 3",
   "language": "python",
   "name": "python3"
  },
  "language_info": {
   "codemirror_mode": {
    "name": "ipython",
    "version": 3
   },
   "file_extension": ".py",
   "mimetype": "text/x-python",
   "name": "python",
   "nbconvert_exporter": "python",
   "pygments_lexer": "ipython3",
   "version": "3.6.5"
  }
 },
 "nbformat": 4,
 "nbformat_minor": 2
}
