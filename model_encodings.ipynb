{
 "cells": [
  {
   "cell_type": "code",
   "execution_count": 1,
   "metadata": {},
   "outputs": [],
   "source": [
    "import pandas as pd\n",
    "import numpy as np"
   ]
  },
  {
   "cell_type": "code",
   "execution_count": 2,
   "metadata": {},
   "outputs": [],
   "source": [
    "df = pd.read_csv('data/events.csv', low_memory=False)\n",
    "df['timestamp'] = pd.to_datetime(df['timestamp'])"
   ]
  },
  {
   "cell_type": "code",
   "execution_count": 3,
   "metadata": {},
   "outputs": [],
   "source": [
    "events_df = df.copy()"
   ]
  },
  {
   "cell_type": "code",
   "execution_count": 4,
   "metadata": {},
   "outputs": [],
   "source": [
    "products = events_df.loc[events_df['event']=='checkout']\n",
    "products = products[['timestamp', 'person', 'model', 'condition', 'color', 'storage']]"
   ]
  },
  {
   "cell_type": "code",
   "execution_count": 5,
   "metadata": {},
   "outputs": [],
   "source": [
    "products = products.sort_values(by=['person', 'timestamp'])"
   ]
  },
  {
   "cell_type": "code",
   "execution_count": 6,
   "metadata": {},
   "outputs": [
    {
     "data": {
      "text/html": [
       "<div>\n",
       "<style scoped>\n",
       "    .dataframe tbody tr th:only-of-type {\n",
       "        vertical-align: middle;\n",
       "    }\n",
       "\n",
       "    .dataframe tbody tr th {\n",
       "        vertical-align: top;\n",
       "    }\n",
       "\n",
       "    .dataframe thead th {\n",
       "        text-align: right;\n",
       "    }\n",
       "</style>\n",
       "<table border=\"1\" class=\"dataframe\">\n",
       "  <thead>\n",
       "    <tr style=\"text-align: right;\">\n",
       "      <th></th>\n",
       "      <th>timestamp</th>\n",
       "      <th>person</th>\n",
       "      <th>model</th>\n",
       "      <th>condition</th>\n",
       "      <th>color</th>\n",
       "      <th>storage</th>\n",
       "    </tr>\n",
       "  </thead>\n",
       "  <tbody>\n",
       "    <tr>\n",
       "      <th>1507286</th>\n",
       "      <td>2018-05-17 12:27:47</td>\n",
       "      <td>0008ed71</td>\n",
       "      <td>Samsung Galaxy S6 Flat</td>\n",
       "      <td>Muito Bom</td>\n",
       "      <td>Dourado</td>\n",
       "      <td>32GB</td>\n",
       "    </tr>\n",
       "    <tr>\n",
       "      <th>1507716</th>\n",
       "      <td>2018-05-17 13:45:00</td>\n",
       "      <td>0008ed71</td>\n",
       "      <td>iPhone SE</td>\n",
       "      <td>Bom</td>\n",
       "      <td>Cinza espacial</td>\n",
       "      <td>64GB</td>\n",
       "    </tr>\n",
       "    <tr>\n",
       "      <th>1505383</th>\n",
       "      <td>2018-05-17 16:28:37</td>\n",
       "      <td>0008ed71</td>\n",
       "      <td>LG G4 H818P</td>\n",
       "      <td>Bom</td>\n",
       "      <td>Preto</td>\n",
       "      <td>32GB</td>\n",
       "    </tr>\n",
       "    <tr>\n",
       "      <th>208585</th>\n",
       "      <td>2018-05-20 00:41:36</td>\n",
       "      <td>00091926</td>\n",
       "      <td>iPhone 6S</td>\n",
       "      <td>Excelente</td>\n",
       "      <td>Dourado</td>\n",
       "      <td>64GB</td>\n",
       "    </tr>\n",
       "    <tr>\n",
       "      <th>213543</th>\n",
       "      <td>2018-05-26 00:30:47</td>\n",
       "      <td>00091926</td>\n",
       "      <td>iPhone 6S</td>\n",
       "      <td>Muito Bom</td>\n",
       "      <td>Ouro Rosa</td>\n",
       "      <td>64GB</td>\n",
       "    </tr>\n",
       "  </tbody>\n",
       "</table>\n",
       "</div>"
      ],
      "text/plain": [
       "                  timestamp    person                   model  condition  \\\n",
       "1507286 2018-05-17 12:27:47  0008ed71  Samsung Galaxy S6 Flat  Muito Bom   \n",
       "1507716 2018-05-17 13:45:00  0008ed71               iPhone SE        Bom   \n",
       "1505383 2018-05-17 16:28:37  0008ed71             LG G4 H818P        Bom   \n",
       "208585  2018-05-20 00:41:36  00091926               iPhone 6S  Excelente   \n",
       "213543  2018-05-26 00:30:47  00091926               iPhone 6S  Muito Bom   \n",
       "\n",
       "                  color storage  \n",
       "1507286         Dourado    32GB  \n",
       "1507716  Cinza espacial    64GB  \n",
       "1505383           Preto    32GB  \n",
       "208585          Dourado    64GB  \n",
       "213543        Ouro Rosa    64GB  "
      ]
     },
     "execution_count": 6,
     "metadata": {},
     "output_type": "execute_result"
    }
   ],
   "source": [
    "products.head()"
   ]
  },
  {
   "cell_type": "code",
   "execution_count": 7,
   "metadata": {},
   "outputs": [],
   "source": [
    "user_fff78145 = events_df.loc[events_df['person']=='ffed0342', :]"
   ]
  },
  {
   "cell_type": "code",
   "execution_count": 8,
   "metadata": {},
   "outputs": [
    {
     "data": {
      "text/html": [
       "<div>\n",
       "<style scoped>\n",
       "    .dataframe tbody tr th:only-of-type {\n",
       "        vertical-align: middle;\n",
       "    }\n",
       "\n",
       "    .dataframe tbody tr th {\n",
       "        vertical-align: top;\n",
       "    }\n",
       "\n",
       "    .dataframe thead th {\n",
       "        text-align: right;\n",
       "    }\n",
       "</style>\n",
       "<table border=\"1\" class=\"dataframe\">\n",
       "  <thead>\n",
       "    <tr style=\"text-align: right;\">\n",
       "      <th></th>\n",
       "      <th>timestamp</th>\n",
       "      <th>event</th>\n",
       "      <th>person</th>\n",
       "      <th>url</th>\n",
       "      <th>sku</th>\n",
       "      <th>model</th>\n",
       "      <th>condition</th>\n",
       "      <th>storage</th>\n",
       "      <th>color</th>\n",
       "      <th>skus</th>\n",
       "      <th>...</th>\n",
       "      <th>search_engine</th>\n",
       "      <th>channel</th>\n",
       "      <th>new_vs_returning</th>\n",
       "      <th>city</th>\n",
       "      <th>region</th>\n",
       "      <th>country</th>\n",
       "      <th>device_type</th>\n",
       "      <th>screen_resolution</th>\n",
       "      <th>operating_system_version</th>\n",
       "      <th>browser_version</th>\n",
       "    </tr>\n",
       "  </thead>\n",
       "  <tbody>\n",
       "    <tr>\n",
       "      <th>624458</th>\n",
       "      <td>2018-03-11 22:55:43</td>\n",
       "      <td>conversion</td>\n",
       "      <td>ffed0342</td>\n",
       "      <td>NaN</td>\n",
       "      <td>423.0</td>\n",
       "      <td>Samsung Galaxy S5 Duos</td>\n",
       "      <td>Muito Bom</td>\n",
       "      <td>16GB</td>\n",
       "      <td>Preto</td>\n",
       "      <td>NaN</td>\n",
       "      <td>...</td>\n",
       "      <td>NaN</td>\n",
       "      <td>NaN</td>\n",
       "      <td>NaN</td>\n",
       "      <td>NaN</td>\n",
       "      <td>NaN</td>\n",
       "      <td>NaN</td>\n",
       "      <td>NaN</td>\n",
       "      <td>NaN</td>\n",
       "      <td>NaN</td>\n",
       "      <td>NaN</td>\n",
       "    </tr>\n",
       "  </tbody>\n",
       "</table>\n",
       "<p>1 rows × 23 columns</p>\n",
       "</div>"
      ],
      "text/plain": [
       "                 timestamp       event    person  url    sku  \\\n",
       "624458 2018-03-11 22:55:43  conversion  ffed0342  NaN  423.0   \n",
       "\n",
       "                         model  condition storage  color skus       ...        \\\n",
       "624458  Samsung Galaxy S5 Duos  Muito Bom    16GB  Preto  NaN       ...         \n",
       "\n",
       "       search_engine channel new_vs_returning city region country device_type  \\\n",
       "624458           NaN     NaN              NaN  NaN    NaN     NaN         NaN   \n",
       "\n",
       "       screen_resolution operating_system_version browser_version  \n",
       "624458               NaN                      NaN             NaN  \n",
       "\n",
       "[1 rows x 23 columns]"
      ]
     },
     "execution_count": 8,
     "metadata": {},
     "output_type": "execute_result"
    }
   ],
   "source": [
    "user_fff78145.loc[user_fff78145['event']=='conversion']"
   ]
  },
  {
   "cell_type": "markdown",
   "metadata": {},
   "source": [
    "### Varianza de productos checkouteados:\n",
    "\n",
    "La idea general con la que encaro esta feature es: \n",
    "\n",
    "    Una persona que esta decidida a comprar un modelo de teléfono, lo que va a querer definir son las características del teléfono que quiere comprar, es decir: el estado, el color y el storage del mismo. \n",
    "    \n",
    "    Mi idea es encodear de alguna manera los modelos y sus características, luego hacer cierta cuenta entre ellos, para que al encontrar la std del resultado de la cuenta nos diga qué tan distintas son las cosas por las que el usuario se interesa. Sienod así un usuario que mira un iPhone 5s de color blanco, con calidad buena, pero cambia unicamente el storage, nos da una noción de interes de compra. \n",
    "    \n",
    "    Otra cosa que nos permite esto, es que el desvío sea bajo también cuándo el usuario esta interesado en distintos modelos pero con las mismas características. Por ejemplo, si esta mirando un iPhone 6s o un iPhone 5s con el mismo color, storage y estado, podríamos entender que tiene interes de compra.\n",
    "    \n",
    "TO DO: \n",
    "\n",
    "    1- Ver como funciona esta idea para sesiones de usuarios. No es lo mismo que vea 5 modelos que parecen distintos a que vea 3 modelos parecidos en una siesión y 2 parecidos en otra\n",
    "    \n",
    "    2- Cambiar el tipo de evento para el cual estamos evaluando. Ahora siempre filtramos por checkout."
   ]
  },
  {
   "cell_type": "markdown",
   "metadata": {},
   "source": [
    "#### Mean encoding de modelos de telefonos"
   ]
  },
  {
   "cell_type": "code",
   "execution_count": 9,
   "metadata": {},
   "outputs": [],
   "source": [
    "events = events_df\n",
    "labels = pd.read_csv('data/labels_training_set.csv', low_memory=False, index_col='person')\n",
    "events_and_labels = events.join(labels, on='person', how='inner')\n",
    "\n",
    "events_and_labels = events_and_labels.loc[events_and_labels['event']=='checkout', :]\n",
    "\n",
    "# events_and_labels\n",
    "\n",
    "## Debería filtrar los eventos para no bajar la probabilidad de compra para cada caracteristica ? "
   ]
  },
  {
   "cell_type": "code",
   "execution_count": 10,
   "metadata": {},
   "outputs": [],
   "source": [
    "def get_encoding_df(df, category):\n",
    "    new_df = df.loc[df[category]!=np.nan, :].groupby(category).agg({'label':['sum', 'count']})\n",
    "    new_df.columns = ['sum', 'count']\n",
    "    new_df['encoding'] = new_df['sum'] / new_df['count']\n",
    "    return new_df[['encoding']]"
   ]
  },
  {
   "cell_type": "code",
   "execution_count": 11,
   "metadata": {},
   "outputs": [],
   "source": [
    "color_encoding = get_encoding_df(events_and_labels, 'color')\n",
    "model_encoding = get_encoding_df(events_and_labels, 'model')\n",
    "storage_encoding = get_encoding_df(events_and_labels, 'storage')\n",
    "condition_encoding = get_encoding_df(events_and_labels, 'condition')"
   ]
  },
  {
   "cell_type": "code",
   "execution_count": 12,
   "metadata": {},
   "outputs": [],
   "source": [
    "condition_encoding.to_csv('data/condition_encoding.csv')\n",
    "storage_encoding.to_csv('data/storage_encoding.csv')\n",
    "model_encoding.to_csv('data/model_encoding.csv')\n",
    "color_encoding.to_csv('data/color_encoding.csv')"
   ]
  },
  {
   "cell_type": "markdown",
   "metadata": {},
   "source": [
    "Ahora que tengo el encoding de las características de los teléfonos. Hay que combinarlas de tal manera que 2 telefonos parecidos nos terminen dando algo parecido. "
   ]
  },
  {
   "cell_type": "code",
   "execution_count": 13,
   "metadata": {},
   "outputs": [
    {
     "data": {
      "text/html": [
       "<div>\n",
       "<style scoped>\n",
       "    .dataframe tbody tr th:only-of-type {\n",
       "        vertical-align: middle;\n",
       "    }\n",
       "\n",
       "    .dataframe tbody tr th {\n",
       "        vertical-align: top;\n",
       "    }\n",
       "\n",
       "    .dataframe thead th {\n",
       "        text-align: right;\n",
       "    }\n",
       "</style>\n",
       "<table border=\"1\" class=\"dataframe\">\n",
       "  <thead>\n",
       "    <tr style=\"text-align: right;\">\n",
       "      <th></th>\n",
       "      <th>timestamp</th>\n",
       "      <th>person</th>\n",
       "      <th>model</th>\n",
       "      <th>condition</th>\n",
       "      <th>color</th>\n",
       "      <th>storage</th>\n",
       "    </tr>\n",
       "  </thead>\n",
       "  <tbody>\n",
       "    <tr>\n",
       "      <th>1507286</th>\n",
       "      <td>2018-05-17 12:27:47</td>\n",
       "      <td>0008ed71</td>\n",
       "      <td>Samsung Galaxy S6 Flat</td>\n",
       "      <td>Muito Bom</td>\n",
       "      <td>Dourado</td>\n",
       "      <td>32GB</td>\n",
       "    </tr>\n",
       "    <tr>\n",
       "      <th>1507716</th>\n",
       "      <td>2018-05-17 13:45:00</td>\n",
       "      <td>0008ed71</td>\n",
       "      <td>iPhone SE</td>\n",
       "      <td>Bom</td>\n",
       "      <td>Cinza espacial</td>\n",
       "      <td>64GB</td>\n",
       "    </tr>\n",
       "    <tr>\n",
       "      <th>1505383</th>\n",
       "      <td>2018-05-17 16:28:37</td>\n",
       "      <td>0008ed71</td>\n",
       "      <td>LG G4 H818P</td>\n",
       "      <td>Bom</td>\n",
       "      <td>Preto</td>\n",
       "      <td>32GB</td>\n",
       "    </tr>\n",
       "    <tr>\n",
       "      <th>208585</th>\n",
       "      <td>2018-05-20 00:41:36</td>\n",
       "      <td>00091926</td>\n",
       "      <td>iPhone 6S</td>\n",
       "      <td>Excelente</td>\n",
       "      <td>Dourado</td>\n",
       "      <td>64GB</td>\n",
       "    </tr>\n",
       "    <tr>\n",
       "      <th>213543</th>\n",
       "      <td>2018-05-26 00:30:47</td>\n",
       "      <td>00091926</td>\n",
       "      <td>iPhone 6S</td>\n",
       "      <td>Muito Bom</td>\n",
       "      <td>Ouro Rosa</td>\n",
       "      <td>64GB</td>\n",
       "    </tr>\n",
       "  </tbody>\n",
       "</table>\n",
       "</div>"
      ],
      "text/plain": [
       "                  timestamp    person                   model  condition  \\\n",
       "1507286 2018-05-17 12:27:47  0008ed71  Samsung Galaxy S6 Flat  Muito Bom   \n",
       "1507716 2018-05-17 13:45:00  0008ed71               iPhone SE        Bom   \n",
       "1505383 2018-05-17 16:28:37  0008ed71             LG G4 H818P        Bom   \n",
       "208585  2018-05-20 00:41:36  00091926               iPhone 6S  Excelente   \n",
       "213543  2018-05-26 00:30:47  00091926               iPhone 6S  Muito Bom   \n",
       "\n",
       "                  color storage  \n",
       "1507286         Dourado    32GB  \n",
       "1507716  Cinza espacial    64GB  \n",
       "1505383           Preto    32GB  \n",
       "208585          Dourado    64GB  \n",
       "213543        Ouro Rosa    64GB  "
      ]
     },
     "execution_count": 13,
     "metadata": {},
     "output_type": "execute_result"
    }
   ],
   "source": [
    "products.head()"
   ]
  },
  {
   "cell_type": "code",
   "execution_count": 14,
   "metadata": {},
   "outputs": [],
   "source": [
    "\n",
    "model_encoding_mean = np.mean(model_encoding['encoding'])\n",
    "\n",
    "model_encodings = {row[0]: row[1]['encoding'] for row in model_encoding.iterrows()}\n",
    "condition_encodings = {row[0]: row[1]['encoding'] for row in condition_encoding.iterrows()}\n",
    "color_encodings = {row[0]: row[1]['encoding'] for row in color_encoding.iterrows()}\n",
    "storage_encodings = {row[0]: row[1]['encoding'] for row in storage_encoding.iterrows()}\n",
    "\n",
    "model_weight = 5\n",
    "condition_weight = 1\n",
    "color_weight = 1\n",
    "storage_weight = 1\n",
    "\n",
    "def encode_model(row):\n",
    "    \n",
    "    model = model_encodings.get(row[2], model_encoding_mean)\n",
    "    condition = condition_encodings.get(row[3])\n",
    "    color = color_encodings.get(row[4])\n",
    "    storage = storage_encodings.get(row[5])\n",
    "    \n",
    "    return (model * model_weight + condition * condition_weight + color * color_weight + storage * storage_weight)"
   ]
  },
  {
   "cell_type": "code",
   "execution_count": 15,
   "metadata": {},
   "outputs": [],
   "source": [
    "# paciencia que tarda un poquito estee...\n",
    "\n",
    "products['encoding'] = products.apply(encode_model, axis=1)"
   ]
  },
  {
   "cell_type": "code",
   "execution_count": 16,
   "metadata": {},
   "outputs": [],
   "source": [
    "std_products_checkedout = products.groupby('person').agg({'encoding':['std', 'mean', 'count', 'max', 'min', 'sum']})\n",
    "\n",
    "mean_fix = np.mean(std_products_checkedout)\n",
    "\n",
    "std_products_checkedout = std_products_checkedout.replace(np.nan, mean_fix)\n",
    "std_products_checkedout.columns = ['encoding_std', 'encoding_mean', \n",
    "                                   'checked_out', 'encoding_max', \n",
    "                                   'encoding_min', 'encoding_sum'\n",
    "]\n",
    "stats = std_products_checkedout.join(labels, on='person', how='inner')\n",
    "\n",
    "# descomentar esta linea para guardar el csv con las features encotradas.\n",
    "\n",
    "# std_products_checkout.to_csv('data/std_checkouted_products.csv')"
   ]
  },
  {
   "cell_type": "code",
   "execution_count": null,
   "metadata": {},
   "outputs": [],
   "source": [
    "from matplotlib import pyplot as plt\n",
    "import seaborn as sns\n",
    "\n",
    "# Aca con el pairplot podemos ver bien cuales son los features que mejor separan a los grupos. \n",
    "# A simple vista usar el encoding_mean y checked_out (cantidad de checkouts) parece juntar bastante a los compradores\n",
    "# hacia abajo a la izquierda.\n",
    "# Otra que vale la pena mencionar es encoding_std con checked_out que junta a la mayoría de los compradores al rincon.\n",
    "\n",
    "features = ['encoding_std', 'encoding_mean', 'checked_out', 'encoding_max', 'encoding_min', 'encoding_sum']\n",
    "sns.pairplot(stats, vars=features, hue='label', diag_kind='kde', kind='scatter')\n",
    "plt.show()"
   ]
  }
 ],
 "metadata": {
  "kernelspec": {
   "display_name": "Python 3",
   "language": "python",
   "name": "python3"
  },
  "language_info": {
   "codemirror_mode": {
    "name": "ipython",
    "version": 3
   },
   "file_extension": ".py",
   "mimetype": "text/x-python",
   "name": "python",
   "nbconvert_exporter": "python",
   "pygments_lexer": "ipython3",
   "version": "3.6.5"
  }
 },
 "nbformat": 4,
 "nbformat_minor": 2
}
