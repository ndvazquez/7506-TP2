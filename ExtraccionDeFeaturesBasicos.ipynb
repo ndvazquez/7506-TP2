{
 "cells": [
  {
   "cell_type": "code",
   "execution_count": 1,
   "metadata": {},
   "outputs": [],
   "source": [
    "import pandas as pd\n",
    "import numpy as np"
   ]
  },
  {
   "cell_type": "code",
   "execution_count": 2,
   "metadata": {},
   "outputs": [],
   "source": [
    "df = pd.read_csv('data/events.csv', low_memory=False)\n",
    "df['timestamp'] = pd.to_datetime(df['timestamp'])"
   ]
  },
  {
   "cell_type": "code",
   "execution_count": 3,
   "metadata": {},
   "outputs": [],
   "source": [
    "user_features = df[['person']].drop_duplicates().copy()"
   ]
  },
  {
   "cell_type": "code",
   "execution_count": 4,
   "metadata": {},
   "outputs": [],
   "source": [
    "# Las comento porque no aportaban mucho en lo que probé, pero tal vez sean útiles.\n",
    "#users_con_vistas = set(df.loc[df['event'] == 'viewed product', 'person'])\n",
    "#user_features['vio_productos'] = user_features['person'].isin(users_con_vistas)\n",
    "\n",
    "#users_con_checkouts = set(df.loc[df['event'] == 'checkout', 'person'])\n",
    "#user_features['tiene_checkouts'] = user_features['person'].isin(users_con_checkouts)\n",
    "\n",
    "#Como hay muy pocas leads, de momento no las agrego\n",
    "#users_con_leads = set(df.loc[df['event'] == 'lead', 'person'])\n",
    "#users['tiene_leads'] = users['person'].isin(users_con_leads)\n",
    "\n",
    "#users_con_conversions = set(df.loc[df['event'] == 'conversion', 'person'])\n",
    "#user_features['tiene_conversions'] = user_features['person'].isin(users_con_conversions)\n",
    "user_features.set_index('person', inplace=True)"
   ]
  },
  {
   "cell_type": "code",
   "execution_count": 5,
   "metadata": {},
   "outputs": [
    {
     "data": {
      "text/html": [
       "<div>\n",
       "<style scoped>\n",
       "    .dataframe tbody tr th:only-of-type {\n",
       "        vertical-align: middle;\n",
       "    }\n",
       "\n",
       "    .dataframe tbody tr th {\n",
       "        vertical-align: top;\n",
       "    }\n",
       "\n",
       "    .dataframe thead th {\n",
       "        text-align: right;\n",
       "    }\n",
       "</style>\n",
       "<table border=\"1\" class=\"dataframe\">\n",
       "  <thead>\n",
       "    <tr style=\"text-align: right;\">\n",
       "      <th></th>\n",
       "    </tr>\n",
       "    <tr>\n",
       "      <th>person</th>\n",
       "    </tr>\n",
       "  </thead>\n",
       "  <tbody>\n",
       "    <tr>\n",
       "      <th>4886f805</th>\n",
       "    </tr>\n",
       "    <tr>\n",
       "      <th>ad93850f</th>\n",
       "    </tr>\n",
       "    <tr>\n",
       "      <th>0297fc1e</th>\n",
       "    </tr>\n",
       "    <tr>\n",
       "      <th>2d681dd8</th>\n",
       "    </tr>\n",
       "    <tr>\n",
       "      <th>cccea85e</th>\n",
       "    </tr>\n",
       "  </tbody>\n",
       "</table>\n",
       "</div>"
      ],
      "text/plain": [
       "Empty DataFrame\n",
       "Columns: []\n",
       "Index: [4886f805, ad93850f, 0297fc1e, 2d681dd8, cccea85e]"
      ]
     },
     "execution_count": 5,
     "metadata": {},
     "output_type": "execute_result"
    }
   ],
   "source": [
    "user_features.head()"
   ]
  },
  {
   "cell_type": "code",
   "execution_count": 6,
   "metadata": {},
   "outputs": [],
   "source": [
    "def agregar_feature(nombre, evento):\n",
    "    feature_df = df.loc[df['event'] == evento]\n",
    "    feature_df = feature_df.groupby('person')['event'].value_counts().unstack()\n",
    "    feature_df.rename(columns={evento:'cant_'+nombre}, inplace=True)\n",
    "    return feature_df"
   ]
  },
  {
   "cell_type": "code",
   "execution_count": 7,
   "metadata": {},
   "outputs": [],
   "source": [
    "conversion = agregar_feature('conversions', 'conversion')\n",
    "user_features = user_features.join(conversion).fillna(0)"
   ]
  },
  {
   "cell_type": "code",
   "execution_count": 8,
   "metadata": {},
   "outputs": [],
   "source": [
    "checkout = agregar_feature('checkouts', 'checkout')\n",
    "user_features = user_features.join(checkout).fillna(0)"
   ]
  },
  {
   "cell_type": "code",
   "execution_count": 9,
   "metadata": {},
   "outputs": [],
   "source": [
    "viewed_product = agregar_feature('viewed_product', 'viewed product')\n",
    "user_features = user_features.join(viewed_product).fillna(0)"
   ]
  },
  {
   "cell_type": "code",
   "execution_count": 10,
   "metadata": {},
   "outputs": [],
   "source": [
    "searched_product = agregar_feature('searched_product', 'searched products')\n",
    "user_features = user_features.join(searched_product).fillna(0)"
   ]
  },
  {
   "cell_type": "code",
   "execution_count": 11,
   "metadata": {},
   "outputs": [
    {
     "data": {
      "text/html": [
       "<div>\n",
       "<style scoped>\n",
       "    .dataframe tbody tr th:only-of-type {\n",
       "        vertical-align: middle;\n",
       "    }\n",
       "\n",
       "    .dataframe tbody tr th {\n",
       "        vertical-align: top;\n",
       "    }\n",
       "\n",
       "    .dataframe thead th {\n",
       "        text-align: right;\n",
       "    }\n",
       "</style>\n",
       "<table border=\"1\" class=\"dataframe\">\n",
       "  <thead>\n",
       "    <tr style=\"text-align: right;\">\n",
       "      <th></th>\n",
       "      <th>count</th>\n",
       "      <th>mean</th>\n",
       "      <th>std</th>\n",
       "      <th>min</th>\n",
       "      <th>25%</th>\n",
       "      <th>50%</th>\n",
       "      <th>75%</th>\n",
       "      <th>max</th>\n",
       "    </tr>\n",
       "  </thead>\n",
       "  <tbody>\n",
       "    <tr>\n",
       "      <th>cant_conversions</th>\n",
       "      <td>38829.0</td>\n",
       "      <td>0.182621</td>\n",
       "      <td>0.987561</td>\n",
       "      <td>0.0</td>\n",
       "      <td>0.0</td>\n",
       "      <td>0.0</td>\n",
       "      <td>0.0</td>\n",
       "      <td>129.0</td>\n",
       "    </tr>\n",
       "    <tr>\n",
       "      <th>cant_checkouts</th>\n",
       "      <td>38829.0</td>\n",
       "      <td>1.682119</td>\n",
       "      <td>2.717728</td>\n",
       "      <td>0.0</td>\n",
       "      <td>1.0</td>\n",
       "      <td>1.0</td>\n",
       "      <td>2.0</td>\n",
       "      <td>197.0</td>\n",
       "    </tr>\n",
       "    <tr>\n",
       "      <th>cant_viewed_product</th>\n",
       "      <td>38829.0</td>\n",
       "      <td>32.144119</td>\n",
       "      <td>79.762927</td>\n",
       "      <td>0.0</td>\n",
       "      <td>3.0</td>\n",
       "      <td>10.0</td>\n",
       "      <td>29.0</td>\n",
       "      <td>2355.0</td>\n",
       "    </tr>\n",
       "    <tr>\n",
       "      <th>cant_searched_product</th>\n",
       "      <td>38829.0</td>\n",
       "      <td>3.363878</td>\n",
       "      <td>12.897345</td>\n",
       "      <td>0.0</td>\n",
       "      <td>0.0</td>\n",
       "      <td>0.0</td>\n",
       "      <td>2.0</td>\n",
       "      <td>739.0</td>\n",
       "    </tr>\n",
       "  </tbody>\n",
       "</table>\n",
       "</div>"
      ],
      "text/plain": [
       "                         count       mean        std  min  25%   50%   75%  \\\n",
       "cant_conversions       38829.0   0.182621   0.987561  0.0  0.0   0.0   0.0   \n",
       "cant_checkouts         38829.0   1.682119   2.717728  0.0  1.0   1.0   2.0   \n",
       "cant_viewed_product    38829.0  32.144119  79.762927  0.0  3.0  10.0  29.0   \n",
       "cant_searched_product  38829.0   3.363878  12.897345  0.0  0.0   0.0   2.0   \n",
       "\n",
       "                          max  \n",
       "cant_conversions        129.0  \n",
       "cant_checkouts          197.0  \n",
       "cant_viewed_product    2355.0  \n",
       "cant_searched_product   739.0  "
      ]
     },
     "execution_count": 11,
     "metadata": {},
     "output_type": "execute_result"
    }
   ],
   "source": [
    "user_features.describe().T"
   ]
  },
  {
   "cell_type": "markdown",
   "metadata": {},
   "source": [
    "## Sesiones"
   ]
  },
  {
   "cell_type": "code",
   "execution_count": 12,
   "metadata": {},
   "outputs": [],
   "source": [
    "sesiones = df.copy()"
   ]
  },
  {
   "cell_type": "code",
   "execution_count": 13,
   "metadata": {},
   "outputs": [],
   "source": [
    "sesiones.sort_values(by='timestamp', inplace=True)\n",
    "sesiones['diff'] = sesiones.groupby('person')['timestamp'].diff() / np.timedelta64(1, 'h')\n",
    "sesiones['diff'].fillna(0, inplace=True)"
   ]
  },
  {
   "cell_type": "code",
   "execution_count": 14,
   "metadata": {},
   "outputs": [
    {
     "data": {
      "text/html": [
       "<div>\n",
       "<style scoped>\n",
       "    .dataframe tbody tr th:only-of-type {\n",
       "        vertical-align: middle;\n",
       "    }\n",
       "\n",
       "    .dataframe tbody tr th {\n",
       "        vertical-align: top;\n",
       "    }\n",
       "\n",
       "    .dataframe thead th {\n",
       "        text-align: right;\n",
       "    }\n",
       "</style>\n",
       "<table border=\"1\" class=\"dataframe\">\n",
       "  <thead>\n",
       "    <tr style=\"text-align: right;\">\n",
       "      <th></th>\n",
       "      <th>timestamp</th>\n",
       "      <th>person</th>\n",
       "      <th>diff</th>\n",
       "    </tr>\n",
       "  </thead>\n",
       "  <tbody>\n",
       "    <tr>\n",
       "      <th>2307205</th>\n",
       "      <td>2018-01-01 08:09:31</td>\n",
       "      <td>0f4e2a4b</td>\n",
       "      <td>0.000000</td>\n",
       "    </tr>\n",
       "    <tr>\n",
       "      <th>1753202</th>\n",
       "      <td>2018-01-01 08:09:31</td>\n",
       "      <td>0f4e2a4b</td>\n",
       "      <td>0.000000</td>\n",
       "    </tr>\n",
       "    <tr>\n",
       "      <th>1753201</th>\n",
       "      <td>2018-01-01 08:09:31</td>\n",
       "      <td>0f4e2a4b</td>\n",
       "      <td>0.000000</td>\n",
       "    </tr>\n",
       "    <tr>\n",
       "      <th>1753200</th>\n",
       "      <td>2018-01-01 08:09:44</td>\n",
       "      <td>0f4e2a4b</td>\n",
       "      <td>0.003611</td>\n",
       "    </tr>\n",
       "    <tr>\n",
       "      <th>1753207</th>\n",
       "      <td>2018-01-01 08:45:29</td>\n",
       "      <td>0f4e2a4b</td>\n",
       "      <td>0.595833</td>\n",
       "    </tr>\n",
       "    <tr>\n",
       "      <th>2307206</th>\n",
       "      <td>2018-01-01 08:45:29</td>\n",
       "      <td>0f4e2a4b</td>\n",
       "      <td>0.000000</td>\n",
       "    </tr>\n",
       "    <tr>\n",
       "      <th>1753210</th>\n",
       "      <td>2018-01-01 08:45:29</td>\n",
       "      <td>0f4e2a4b</td>\n",
       "      <td>0.000000</td>\n",
       "    </tr>\n",
       "    <tr>\n",
       "      <th>1753203</th>\n",
       "      <td>2018-01-01 08:45:43</td>\n",
       "      <td>0f4e2a4b</td>\n",
       "      <td>0.003889</td>\n",
       "    </tr>\n",
       "    <tr>\n",
       "      <th>1753204</th>\n",
       "      <td>2018-01-01 08:48:57</td>\n",
       "      <td>0f4e2a4b</td>\n",
       "      <td>0.053889</td>\n",
       "    </tr>\n",
       "    <tr>\n",
       "      <th>1753213</th>\n",
       "      <td>2018-01-01 08:49:05</td>\n",
       "      <td>0f4e2a4b</td>\n",
       "      <td>0.002222</td>\n",
       "    </tr>\n",
       "  </tbody>\n",
       "</table>\n",
       "</div>"
      ],
      "text/plain": [
       "                  timestamp    person      diff\n",
       "2307205 2018-01-01 08:09:31  0f4e2a4b  0.000000\n",
       "1753202 2018-01-01 08:09:31  0f4e2a4b  0.000000\n",
       "1753201 2018-01-01 08:09:31  0f4e2a4b  0.000000\n",
       "1753200 2018-01-01 08:09:44  0f4e2a4b  0.003611\n",
       "1753207 2018-01-01 08:45:29  0f4e2a4b  0.595833\n",
       "2307206 2018-01-01 08:45:29  0f4e2a4b  0.000000\n",
       "1753210 2018-01-01 08:45:29  0f4e2a4b  0.000000\n",
       "1753203 2018-01-01 08:45:43  0f4e2a4b  0.003889\n",
       "1753204 2018-01-01 08:48:57  0f4e2a4b  0.053889\n",
       "1753213 2018-01-01 08:49:05  0f4e2a4b  0.002222"
      ]
     },
     "execution_count": 14,
     "metadata": {},
     "output_type": "execute_result"
    }
   ],
   "source": [
    "sesiones[['timestamp', 'person', 'diff']].head(10)"
   ]
  },
  {
   "cell_type": "code",
   "execution_count": 15,
   "metadata": {},
   "outputs": [],
   "source": [
    "sesiones['new_session'] = sesiones.groupby('person')['diff'].apply(lambda x: x > 1.0)\n",
    "sesiones['session_id'] = sesiones.groupby('person')['new_session'].cumsum()"
   ]
  },
  {
   "cell_type": "code",
   "execution_count": 16,
   "metadata": {},
   "outputs": [
    {
     "data": {
      "text/html": [
       "<div>\n",
       "<style scoped>\n",
       "    .dataframe tbody tr th:only-of-type {\n",
       "        vertical-align: middle;\n",
       "    }\n",
       "\n",
       "    .dataframe tbody tr th {\n",
       "        vertical-align: top;\n",
       "    }\n",
       "\n",
       "    .dataframe thead th {\n",
       "        text-align: right;\n",
       "    }\n",
       "</style>\n",
       "<table border=\"1\" class=\"dataframe\">\n",
       "  <thead>\n",
       "    <tr style=\"text-align: right;\">\n",
       "      <th></th>\n",
       "      <th>timestamp</th>\n",
       "      <th>person</th>\n",
       "      <th>event</th>\n",
       "      <th>diff</th>\n",
       "      <th>session_id</th>\n",
       "    </tr>\n",
       "  </thead>\n",
       "  <tbody>\n",
       "    <tr>\n",
       "      <th>2307205</th>\n",
       "      <td>2018-01-01 08:09:31</td>\n",
       "      <td>0f4e2a4b</td>\n",
       "      <td>visited site</td>\n",
       "      <td>0.000000</td>\n",
       "      <td>0.0</td>\n",
       "    </tr>\n",
       "    <tr>\n",
       "      <th>1753202</th>\n",
       "      <td>2018-01-01 08:09:31</td>\n",
       "      <td>0f4e2a4b</td>\n",
       "      <td>search engine hit</td>\n",
       "      <td>0.000000</td>\n",
       "      <td>0.0</td>\n",
       "    </tr>\n",
       "    <tr>\n",
       "      <th>1753201</th>\n",
       "      <td>2018-01-01 08:09:31</td>\n",
       "      <td>0f4e2a4b</td>\n",
       "      <td>ad campaign hit</td>\n",
       "      <td>0.000000</td>\n",
       "      <td>0.0</td>\n",
       "    </tr>\n",
       "    <tr>\n",
       "      <th>1753200</th>\n",
       "      <td>2018-01-01 08:09:44</td>\n",
       "      <td>0f4e2a4b</td>\n",
       "      <td>viewed product</td>\n",
       "      <td>0.003611</td>\n",
       "      <td>0.0</td>\n",
       "    </tr>\n",
       "    <tr>\n",
       "      <th>1753207</th>\n",
       "      <td>2018-01-01 08:45:29</td>\n",
       "      <td>0f4e2a4b</td>\n",
       "      <td>ad campaign hit</td>\n",
       "      <td>0.595833</td>\n",
       "      <td>0.0</td>\n",
       "    </tr>\n",
       "  </tbody>\n",
       "</table>\n",
       "</div>"
      ],
      "text/plain": [
       "                  timestamp    person              event      diff  session_id\n",
       "2307205 2018-01-01 08:09:31  0f4e2a4b       visited site  0.000000         0.0\n",
       "1753202 2018-01-01 08:09:31  0f4e2a4b  search engine hit  0.000000         0.0\n",
       "1753201 2018-01-01 08:09:31  0f4e2a4b    ad campaign hit  0.000000         0.0\n",
       "1753200 2018-01-01 08:09:44  0f4e2a4b     viewed product  0.003611         0.0\n",
       "1753207 2018-01-01 08:45:29  0f4e2a4b    ad campaign hit  0.595833         0.0"
      ]
     },
     "execution_count": 16,
     "metadata": {},
     "output_type": "execute_result"
    }
   ],
   "source": [
    "sesiones[['timestamp', 'person', 'event', 'diff', 'session_id']].head()"
   ]
  },
  {
   "cell_type": "code",
   "execution_count": 17,
   "metadata": {},
   "outputs": [],
   "source": [
    "#cantidad_eventos_usuario = sesiones.loc[sesiones['event'] == 'checkout']\n",
    "#sesiones = sesiones.loc[sesiones['event'] == 'checkout']"
   ]
  },
  {
   "cell_type": "code",
   "execution_count": 18,
   "metadata": {},
   "outputs": [],
   "source": [
    "cantidad_eventos_usuario = sesiones.groupby(['person', 'session_id'])['event']\\\n",
    "    .value_counts().unstack().unstack().sum(axis=1).to_frame().rename(columns={0:\"total_eventos\"})"
   ]
  },
  {
   "cell_type": "code",
   "execution_count": 19,
   "metadata": {},
   "outputs": [
    {
     "data": {
      "text/html": [
       "<div>\n",
       "<style scoped>\n",
       "    .dataframe tbody tr th:only-of-type {\n",
       "        vertical-align: middle;\n",
       "    }\n",
       "\n",
       "    .dataframe tbody tr th {\n",
       "        vertical-align: top;\n",
       "    }\n",
       "\n",
       "    .dataframe thead th {\n",
       "        text-align: right;\n",
       "    }\n",
       "</style>\n",
       "<table border=\"1\" class=\"dataframe\">\n",
       "  <thead>\n",
       "    <tr style=\"text-align: right;\">\n",
       "      <th></th>\n",
       "      <th>total_eventos</th>\n",
       "    </tr>\n",
       "    <tr>\n",
       "      <th>person</th>\n",
       "      <th></th>\n",
       "    </tr>\n",
       "  </thead>\n",
       "  <tbody>\n",
       "    <tr>\n",
       "      <th>0008ed71</th>\n",
       "      <td>6.0</td>\n",
       "    </tr>\n",
       "    <tr>\n",
       "      <th>00091926</th>\n",
       "      <td>448.0</td>\n",
       "    </tr>\n",
       "    <tr>\n",
       "      <th>00091a7a</th>\n",
       "      <td>10.0</td>\n",
       "    </tr>\n",
       "    <tr>\n",
       "      <th>000ba417</th>\n",
       "      <td>206.0</td>\n",
       "    </tr>\n",
       "    <tr>\n",
       "      <th>000c79fe</th>\n",
       "      <td>17.0</td>\n",
       "    </tr>\n",
       "  </tbody>\n",
       "</table>\n",
       "</div>"
      ],
      "text/plain": [
       "          total_eventos\n",
       "person                 \n",
       "0008ed71            6.0\n",
       "00091926          448.0\n",
       "00091a7a           10.0\n",
       "000ba417          206.0\n",
       "000c79fe           17.0"
      ]
     },
     "execution_count": 19,
     "metadata": {},
     "output_type": "execute_result"
    }
   ],
   "source": [
    "cantidad_eventos_usuario.head()"
   ]
  },
  {
   "cell_type": "code",
   "execution_count": 20,
   "metadata": {},
   "outputs": [],
   "source": [
    "sesiones_por_usuario = sesiones.groupby('person')['session_id'].unique().apply(lambda x: len(x)).\\\n",
    "                        to_frame().rename(columns={'session_id':'total_sesiones'})\n",
    "promedio_eventos_sesion = cantidad_eventos_usuario.join(sesiones_por_usuario)"
   ]
  },
  {
   "cell_type": "code",
   "execution_count": 21,
   "metadata": {},
   "outputs": [],
   "source": [
    "promedio_eventos_sesion['promedio_eventos_por_sesion'] = promedio_eventos_sesion['total_eventos']\\\n",
    "                                            / promedio_eventos_sesion['total_sesiones']"
   ]
  },
  {
   "cell_type": "code",
   "execution_count": 22,
   "metadata": {},
   "outputs": [],
   "source": [
    "user_features = user_features.join(promedio_eventos_sesion[['total_sesiones', 'promedio_eventos_por_sesion']])"
   ]
  },
  {
   "cell_type": "code",
   "execution_count": 23,
   "metadata": {},
   "outputs": [],
   "source": [
    "user_features.fillna(0, inplace=True)"
   ]
  },
  {
   "cell_type": "code",
   "execution_count": 24,
   "metadata": {},
   "outputs": [
    {
     "data": {
      "text/html": [
       "<div>\n",
       "<style scoped>\n",
       "    .dataframe tbody tr th:only-of-type {\n",
       "        vertical-align: middle;\n",
       "    }\n",
       "\n",
       "    .dataframe tbody tr th {\n",
       "        vertical-align: top;\n",
       "    }\n",
       "\n",
       "    .dataframe thead th {\n",
       "        text-align: right;\n",
       "    }\n",
       "</style>\n",
       "<table border=\"1\" class=\"dataframe\">\n",
       "  <thead>\n",
       "    <tr style=\"text-align: right;\">\n",
       "      <th></th>\n",
       "      <th>count</th>\n",
       "      <th>mean</th>\n",
       "      <th>std</th>\n",
       "      <th>min</th>\n",
       "      <th>25%</th>\n",
       "      <th>50%</th>\n",
       "      <th>75%</th>\n",
       "      <th>max</th>\n",
       "    </tr>\n",
       "  </thead>\n",
       "  <tbody>\n",
       "    <tr>\n",
       "      <th>cant_conversions</th>\n",
       "      <td>38829.0</td>\n",
       "      <td>0.182621</td>\n",
       "      <td>0.987561</td>\n",
       "      <td>0.0</td>\n",
       "      <td>0.0</td>\n",
       "      <td>0.0</td>\n",
       "      <td>0.0</td>\n",
       "      <td>129.0</td>\n",
       "    </tr>\n",
       "    <tr>\n",
       "      <th>cant_checkouts</th>\n",
       "      <td>38829.0</td>\n",
       "      <td>1.682119</td>\n",
       "      <td>2.717728</td>\n",
       "      <td>0.0</td>\n",
       "      <td>1.0</td>\n",
       "      <td>1.0</td>\n",
       "      <td>2.0</td>\n",
       "      <td>197.0</td>\n",
       "    </tr>\n",
       "    <tr>\n",
       "      <th>cant_viewed_product</th>\n",
       "      <td>38829.0</td>\n",
       "      <td>32.144119</td>\n",
       "      <td>79.762927</td>\n",
       "      <td>0.0</td>\n",
       "      <td>3.0</td>\n",
       "      <td>10.0</td>\n",
       "      <td>29.0</td>\n",
       "      <td>2355.0</td>\n",
       "    </tr>\n",
       "    <tr>\n",
       "      <th>cant_searched_product</th>\n",
       "      <td>38829.0</td>\n",
       "      <td>3.363878</td>\n",
       "      <td>12.897345</td>\n",
       "      <td>0.0</td>\n",
       "      <td>0.0</td>\n",
       "      <td>0.0</td>\n",
       "      <td>2.0</td>\n",
       "      <td>739.0</td>\n",
       "    </tr>\n",
       "    <tr>\n",
       "      <th>total_sesiones</th>\n",
       "      <td>38829.0</td>\n",
       "      <td>4.883257</td>\n",
       "      <td>9.130344</td>\n",
       "      <td>1.0</td>\n",
       "      <td>1.0</td>\n",
       "      <td>2.0</td>\n",
       "      <td>5.0</td>\n",
       "      <td>254.0</td>\n",
       "    </tr>\n",
       "    <tr>\n",
       "      <th>promedio_eventos_por_sesion</th>\n",
       "      <td>38829.0</td>\n",
       "      <td>13.440557</td>\n",
       "      <td>12.868624</td>\n",
       "      <td>1.0</td>\n",
       "      <td>6.0</td>\n",
       "      <td>10.0</td>\n",
       "      <td>16.2</td>\n",
       "      <td>251.0</td>\n",
       "    </tr>\n",
       "  </tbody>\n",
       "</table>\n",
       "</div>"
      ],
      "text/plain": [
       "                               count       mean        std  min  25%   50%  \\\n",
       "cant_conversions             38829.0   0.182621   0.987561  0.0  0.0   0.0   \n",
       "cant_checkouts               38829.0   1.682119   2.717728  0.0  1.0   1.0   \n",
       "cant_viewed_product          38829.0  32.144119  79.762927  0.0  3.0  10.0   \n",
       "cant_searched_product        38829.0   3.363878  12.897345  0.0  0.0   0.0   \n",
       "total_sesiones               38829.0   4.883257   9.130344  1.0  1.0   2.0   \n",
       "promedio_eventos_por_sesion  38829.0  13.440557  12.868624  1.0  6.0  10.0   \n",
       "\n",
       "                              75%     max  \n",
       "cant_conversions              0.0   129.0  \n",
       "cant_checkouts                2.0   197.0  \n",
       "cant_viewed_product          29.0  2355.0  \n",
       "cant_searched_product         2.0   739.0  \n",
       "total_sesiones                5.0   254.0  \n",
       "promedio_eventos_por_sesion  16.2   251.0  "
      ]
     },
     "execution_count": 24,
     "metadata": {},
     "output_type": "execute_result"
    }
   ],
   "source": [
    "user_features.describe().T"
   ]
  },
  {
   "cell_type": "code",
   "execution_count": 25,
   "metadata": {},
   "outputs": [],
   "source": [
    "user_features.to_csv('data/features_basicas.csv', sep=',')"
   ]
  },
  {
   "cell_type": "code",
   "execution_count": null,
   "metadata": {},
   "outputs": [],
   "source": []
  }
 ],
 "metadata": {
  "kernelspec": {
   "display_name": "Python 3",
   "language": "python",
   "name": "python3"
  },
  "language_info": {
   "codemirror_mode": {
    "name": "ipython",
    "version": 3
   },
   "file_extension": ".py",
   "mimetype": "text/x-python",
   "name": "python",
   "nbconvert_exporter": "python",
   "pygments_lexer": "ipython3",
   "version": "3.6.6"
  }
 },
 "nbformat": 4,
 "nbformat_minor": 2
}
