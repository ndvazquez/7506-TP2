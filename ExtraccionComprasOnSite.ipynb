{
 "cells": [
  {
   "cell_type": "code",
   "execution_count": 1,
   "metadata": {},
   "outputs": [],
   "source": [
    "import pandas as pd\n",
    "import numpy as np"
   ]
  },
  {
   "cell_type": "code",
   "execution_count": 2,
   "metadata": {},
   "outputs": [],
   "source": [
    "df = pd.read_csv('data/events.csv', low_memory=False)"
   ]
  },
  {
   "cell_type": "code",
   "execution_count": 3,
   "metadata": {},
   "outputs": [],
   "source": [
    "df['timestamp'] = pd.to_datetime(df['timestamp'])\n",
    "df.sort_values(by='timestamp', inplace=True)"
   ]
  },
  {
   "cell_type": "code",
   "execution_count": 4,
   "metadata": {},
   "outputs": [],
   "source": [
    "eventos = df.loc[df['event'].isin(['conversion', 'checkout']),\\\n",
    "                 ['timestamp', 'event', 'person', 'sku', 'model'\\\n",
    "                  ,'condition', 'storage', 'color']].sort_values(by='timestamp')"
   ]
  },
  {
   "cell_type": "code",
   "execution_count": 5,
   "metadata": {},
   "outputs": [],
   "source": [
    "eventos = eventos.loc[((eventos['event'] + eventos['event'].shift(1) == 'conversioncheckout') &\\\n",
    "                                    (eventos['person'] == eventos['person'].shift(1))) |\\\n",
    "                                    ((eventos['event'] + eventos['event'].shift(-1) == 'checkoutconversion') &\\\n",
    "                                    (eventos['person'] == eventos['person'].shift(-1)))]\n",
    "eventos['dif_time'] = eventos.groupby('person')['timestamp'].diff() / np.timedelta64(1, 'h')"
   ]
  },
  {
   "cell_type": "code",
   "execution_count": 6,
   "metadata": {},
   "outputs": [],
   "source": [
    "eventos = eventos.loc[((eventos['event'] == 'checkout') & (eventos['dif_time'].shift(-1) < 1.0)) |\\\n",
    "                     ((eventos['event'] == 'conversion') & (eventos['dif_time'] < 1.0))]"
   ]
  },
  {
   "cell_type": "code",
   "execution_count": 7,
   "metadata": {},
   "outputs": [],
   "source": [
    "personas_que_compraron_on_site = set(eventos['person'].unique())"
   ]
  },
  {
   "cell_type": "code",
   "execution_count": 8,
   "metadata": {},
   "outputs": [],
   "source": [
    "users = pd.read_csv('data/features_basicas.csv', low_memory=False)\n",
    "users['compro_onsite'] = users['person'].isin(personas_que_compraron_on_site)\n",
    "users.set_index('person', inplace=True)\n",
    "users = users[['compro_onsite']]"
   ]
  },
  {
   "cell_type": "code",
   "execution_count": 9,
   "metadata": {},
   "outputs": [],
   "source": [
    "users.to_csv('data/feature_compra_onsite.csv')"
   ]
  },
  {
   "cell_type": "code",
   "execution_count": null,
   "metadata": {},
   "outputs": [],
   "source": []
  }
 ],
 "metadata": {
  "kernelspec": {
   "display_name": "Python 3",
   "language": "python",
   "name": "python3"
  },
  "language_info": {
   "codemirror_mode": {
    "name": "ipython",
    "version": 3
   },
   "file_extension": ".py",
   "mimetype": "text/x-python",
   "name": "python",
   "nbconvert_exporter": "python",
   "pygments_lexer": "ipython3",
   "version": "3.6.6"
  }
 },
 "nbformat": 4,
 "nbformat_minor": 2
}
