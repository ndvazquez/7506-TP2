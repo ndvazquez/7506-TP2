{
 "cells": [
  {
   "cell_type": "code",
   "execution_count": 1,
   "metadata": {},
   "outputs": [],
   "source": [
    "import pandas as pd"
   ]
  },
  {
   "cell_type": "code",
   "execution_count": 2,
   "metadata": {},
   "outputs": [],
   "source": [
    "df = pd.read_csv('data/events.csv', low_memory=False)"
   ]
  },
  {
   "cell_type": "code",
   "execution_count": 6,
   "metadata": {},
   "outputs": [],
   "source": [
    "personas_sin_repetir = df.drop_duplicates(subset=\"person\", keep='first')\n",
    "personas_sin_repetir = personas_sin_repetir.loc[:,\"person\"]\n",
    "personas_sin_repetir = personas_sin_repetir.to_frame()\n",
    "personas_sin_repetir.set_index(\"person\",inplace=True)"
   ]
  },
  {
   "cell_type": "code",
   "execution_count": 12,
   "metadata": {
    "scrolled": true
   },
   "outputs": [
    {
     "data": {
      "text/plain": [
       "São Paulo                27827\n",
       "Osasco                    2674\n",
       "Guarulhos                 1995\n",
       "São Bernardo do Campo     1317\n",
       "Campinas                  1231\n",
       "Santo André               1134\n",
       "Barueri                    859\n",
       "Sorocaba                   830\n",
       "Unknown                    563\n",
       "Santos                     562\n",
       "São José dos Campos        556\n",
       "Suzano                     538\n",
       "Jundiaí                    523\n",
       "Carapicuiba                522\n",
       "Praia Grande               509\n",
       "Cotia                      488\n",
       "Ribeirão Preto             431\n",
       "Diadema                    422\n",
       "Sumare                     407\n",
       "Itaquaquecetuba            404\n",
       "Taboao da Serra            383\n",
       "Mogi das Cruzes            379\n",
       "Piracicaba                 361\n",
       "Jandira                    322\n",
       "Embu                       299\n",
       "Maua                       287\n",
       "Sao Vicente                282\n",
       "São Caetano do Sul         280\n",
       "Guaruja                    273\n",
       "Arujá                      254\n",
       "                         ...  \n",
       "Ipua                         1\n",
       "Igarapava                    1\n",
       "Pratania                     1\n",
       "Iepe                         1\n",
       "Narandiba                    1\n",
       "Terra Roxa                   1\n",
       "Pirapora do Bom Jesus        1\n",
       "Nuporanga                    1\n",
       "Pedro de Toledo              1\n",
       "Santa Lucia                  1\n",
       "Populina                     1\n",
       "Guaraci                      1\n",
       "Bilac                        1\n",
       "Alvaro de Carvalho           1\n",
       "Miracatu                     1\n",
       "Sao Joao                     1\n",
       "Anhembi                      1\n",
       "Urupes                       1\n",
       "Sao Francisco                1\n",
       "Paranapanema                 1\n",
       "Nova Alianca                 1\n",
       "Dourado                      1\n",
       "Catigua                      1\n",
       "Taiuva                       1\n",
       "Sao Jose do Rio Pardo        1\n",
       "Cajati                       1\n",
       "Parisi                       1\n",
       "Iracemapolis                 1\n",
       "Santa Fe do Sul              1\n",
       "Pontes Gestal                1\n",
       "Name: city, Length: 385, dtype: int64"
      ]
     },
     "execution_count": 12,
     "metadata": {},
     "output_type": "execute_result"
    }
   ],
   "source": [
    "df[df[\"region\"]==\"Sao Paulo\"][\"city\"].value_counts()"
   ]
  },
  {
   "cell_type": "code",
   "execution_count": 13,
   "metadata": {},
   "outputs": [],
   "source": [
    "personas_son_de_sao_pablo = df[df[\"city\"]==\"São Paulo\"]"
   ]
  },
  {
   "cell_type": "code",
   "execution_count": 15,
   "metadata": {},
   "outputs": [],
   "source": [
    "personas_son_de_sao_pablo = personas_son_de_sao_pablo.drop_duplicates(subset=\"person\", keep='first')"
   ]
  },
  {
   "cell_type": "code",
   "execution_count": 19,
   "metadata": {},
   "outputs": [],
   "source": [
    "personas_son_de_sao_pablo = personas_son_de_sao_pablo.loc[:,[\"person\"]]"
   ]
  },
  {
   "cell_type": "code",
   "execution_count": 21,
   "metadata": {},
   "outputs": [],
   "source": [
    "personas_son_de_sao_pablo[\"EsDeSaoPablo\"]=True"
   ]
  },
  {
   "cell_type": "code",
   "execution_count": 23,
   "metadata": {},
   "outputs": [],
   "source": [
    "personas_son_de_sao_pablo.set_index(\"person\",inplace=True)"
   ]
  },
  {
   "cell_type": "code",
   "execution_count": 24,
   "metadata": {},
   "outputs": [],
   "source": [
    "df_final = personas_sin_repetir.join(personas_son_de_sao_pablo,on=\"person\",how=\"left\")"
   ]
  },
  {
   "cell_type": "code",
   "execution_count": 26,
   "metadata": {},
   "outputs": [],
   "source": [
    "df_final.fillna(False,inplace=True)"
   ]
  },
  {
   "cell_type": "code",
   "execution_count": 28,
   "metadata": {},
   "outputs": [],
   "source": [
    "df_final.to_csv(\"data/featureUsuarioSonDeSaoPablo.csv\", sep=',')"
   ]
  },
  {
   "cell_type": "code",
   "execution_count": null,
   "metadata": {},
   "outputs": [],
   "source": []
  }
 ],
 "metadata": {
  "kernelspec": {
   "display_name": "Python 3",
   "language": "python",
   "name": "python3"
  },
  "language_info": {
   "codemirror_mode": {
    "name": "ipython",
    "version": 3
   },
   "file_extension": ".py",
   "mimetype": "text/x-python",
   "name": "python",
   "nbconvert_exporter": "python",
   "pygments_lexer": "ipython3",
   "version": "3.6.5"
  }
 },
 "nbformat": 4,
 "nbformat_minor": 2
}
