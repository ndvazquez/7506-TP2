{
 "cells": [
  {
   "cell_type": "code",
   "execution_count": 1,
   "metadata": {},
   "outputs": [],
   "source": [
    "import pandas as pd\n",
    "import numpy as np"
   ]
  },
  {
   "cell_type": "code",
   "execution_count": 2,
   "metadata": {},
   "outputs": [],
   "source": [
    "df = pd.read_csv('../data/events.csv', low_memory=False)\n",
    "df['timestamp'] = pd.to_datetime(df['timestamp'])\n",
    "user_features = df[['person']].drop_duplicates().copy()\n",
    "user_features.set_index('person', inplace=True)"
   ]
  },
  {
   "cell_type": "code",
   "execution_count": 3,
   "metadata": {},
   "outputs": [],
   "source": [
    "ultima_quincena = df.loc[df['timestamp'] >= pd.Timestamp(2018,5,13)]"
   ]
  },
  {
   "cell_type": "code",
   "execution_count": 4,
   "metadata": {},
   "outputs": [],
   "source": [
    "def agregar_feature(nombre, evento):\n",
    "    feature_df = ultima_quincena.loc[ultima_quincena['event'] == evento]\n",
    "    feature_df = feature_df.groupby('person')['event'].value_counts().unstack()\n",
    "    feature_df.rename(columns={evento:'ult_quin_cant_'+nombre}, inplace=True)\n",
    "    return feature_df"
   ]
  },
  {
   "cell_type": "code",
   "execution_count": 5,
   "metadata": {},
   "outputs": [],
   "source": [
    "conversion = agregar_feature('conversions', 'conversion')\n",
    "user_features = user_features.join(conversion).fillna(0)"
   ]
  },
  {
   "cell_type": "code",
   "execution_count": 6,
   "metadata": {},
   "outputs": [],
   "source": [
    "checkout = agregar_feature('checkouts', 'checkout')\n",
    "user_features = user_features.join(checkout).fillna(0)"
   ]
  },
  {
   "cell_type": "code",
   "execution_count": 7,
   "metadata": {},
   "outputs": [],
   "source": [
    "viewed_product = agregar_feature('viewed_product', 'viewed product')\n",
    "user_features = user_features.join(viewed_product).fillna(0)"
   ]
  },
  {
   "cell_type": "code",
   "execution_count": 8,
   "metadata": {},
   "outputs": [],
   "source": [
    "searched_product = agregar_feature('searched_product', 'searched products')\n",
    "user_features = user_features.join(searched_product).fillna(0)"
   ]
  },
  {
   "cell_type": "code",
   "execution_count": 9,
   "metadata": {},
   "outputs": [],
   "source": [
    "visited_site = agregar_feature('visitas', 'visited site')\n",
    "user_features = user_features.join(visited_site).fillna(0)"
   ]
  },
  {
   "cell_type": "code",
   "execution_count": 10,
   "metadata": {},
   "outputs": [],
   "source": [
    "lead = agregar_feature('leads', 'lead')\n",
    "user_features = user_features.join(lead).fillna(0)"
   ]
  },
  {
   "cell_type": "code",
   "execution_count": 11,
   "metadata": {},
   "outputs": [],
   "source": [
    "brand_listing = agregar_feature('brand_listings', 'brand listing')\n",
    "user_features = user_features.join(brand_listing).fillna(0)"
   ]
  },
  {
   "cell_type": "code",
   "execution_count": 12,
   "metadata": {},
   "outputs": [],
   "source": [
    "generic_listing = agregar_feature('generic_listings', 'generic listing')\n",
    "user_features = user_features.join(generic_listing).fillna(0)"
   ]
  },
  {
   "cell_type": "code",
   "execution_count": 13,
   "metadata": {},
   "outputs": [],
   "source": [
    "ads = agregar_feature('entradas_ads', 'ad campaign hit')\n",
    "user_features = user_features.join(ads).fillna(0)"
   ]
  },
  {
   "cell_type": "code",
   "execution_count": 14,
   "metadata": {},
   "outputs": [],
   "source": [
    "search_engine = agregar_feature('entradas_buscador', 'search engine hit')\n",
    "user_features = user_features.join(search_engine).fillna(0)"
   ]
  },
  {
   "cell_type": "markdown",
   "metadata": {},
   "source": [
    "## Sesiones"
   ]
  },
  {
   "cell_type": "code",
   "execution_count": 15,
   "metadata": {},
   "outputs": [],
   "source": [
    "sesiones = ultima_quincena.copy()"
   ]
  },
  {
   "cell_type": "code",
   "execution_count": 16,
   "metadata": {},
   "outputs": [],
   "source": [
    "sesiones.sort_values(by='timestamp', inplace=True)\n",
    "sesiones['diff'] = sesiones.groupby('person')['timestamp'].diff() / np.timedelta64(1, 'h')\n",
    "sesiones['diff'].fillna(0, inplace=True)"
   ]
  },
  {
   "cell_type": "code",
   "execution_count": 17,
   "metadata": {},
   "outputs": [
    {
     "data": {
      "text/html": [
       "<div>\n",
       "<style scoped>\n",
       "    .dataframe tbody tr th:only-of-type {\n",
       "        vertical-align: middle;\n",
       "    }\n",
       "\n",
       "    .dataframe tbody tr th {\n",
       "        vertical-align: top;\n",
       "    }\n",
       "\n",
       "    .dataframe thead th {\n",
       "        text-align: right;\n",
       "    }\n",
       "</style>\n",
       "<table border=\"1\" class=\"dataframe\">\n",
       "  <thead>\n",
       "    <tr style=\"text-align: right;\">\n",
       "      <th></th>\n",
       "      <th>timestamp</th>\n",
       "      <th>person</th>\n",
       "      <th>diff</th>\n",
       "    </tr>\n",
       "  </thead>\n",
       "  <tbody>\n",
       "    <tr>\n",
       "      <th>585820</th>\n",
       "      <td>2018-05-13 00:00:20</td>\n",
       "      <td>f2ddab42</td>\n",
       "      <td>0.000000</td>\n",
       "    </tr>\n",
       "    <tr>\n",
       "      <th>2244557</th>\n",
       "      <td>2018-05-13 00:00:23</td>\n",
       "      <td>b96ab3e6</td>\n",
       "      <td>0.000000</td>\n",
       "    </tr>\n",
       "    <tr>\n",
       "      <th>764282</th>\n",
       "      <td>2018-05-13 00:00:23</td>\n",
       "      <td>b96ab3e6</td>\n",
       "      <td>0.000000</td>\n",
       "    </tr>\n",
       "    <tr>\n",
       "      <th>108640</th>\n",
       "      <td>2018-05-13 00:00:39</td>\n",
       "      <td>a515878a</td>\n",
       "      <td>0.000000</td>\n",
       "    </tr>\n",
       "    <tr>\n",
       "      <th>1107578</th>\n",
       "      <td>2018-05-13 00:00:49</td>\n",
       "      <td>846ee151</td>\n",
       "      <td>0.000000</td>\n",
       "    </tr>\n",
       "    <tr>\n",
       "      <th>2016700</th>\n",
       "      <td>2018-05-13 00:00:50</td>\n",
       "      <td>846ee151</td>\n",
       "      <td>0.000278</td>\n",
       "    </tr>\n",
       "    <tr>\n",
       "      <th>1105067</th>\n",
       "      <td>2018-05-13 00:01:01</td>\n",
       "      <td>846ee151</td>\n",
       "      <td>0.003056</td>\n",
       "    </tr>\n",
       "    <tr>\n",
       "      <th>1106237</th>\n",
       "      <td>2018-05-13 00:01:07</td>\n",
       "      <td>846ee151</td>\n",
       "      <td>0.001667</td>\n",
       "    </tr>\n",
       "    <tr>\n",
       "      <th>1105086</th>\n",
       "      <td>2018-05-13 00:01:22</td>\n",
       "      <td>846ee151</td>\n",
       "      <td>0.004167</td>\n",
       "    </tr>\n",
       "    <tr>\n",
       "      <th>1105068</th>\n",
       "      <td>2018-05-13 00:01:34</td>\n",
       "      <td>846ee151</td>\n",
       "      <td>0.003333</td>\n",
       "    </tr>\n",
       "  </tbody>\n",
       "</table>\n",
       "</div>"
      ],
      "text/plain": [
       "                  timestamp    person      diff\n",
       "585820  2018-05-13 00:00:20  f2ddab42  0.000000\n",
       "2244557 2018-05-13 00:00:23  b96ab3e6  0.000000\n",
       "764282  2018-05-13 00:00:23  b96ab3e6  0.000000\n",
       "108640  2018-05-13 00:00:39  a515878a  0.000000\n",
       "1107578 2018-05-13 00:00:49  846ee151  0.000000\n",
       "2016700 2018-05-13 00:00:50  846ee151  0.000278\n",
       "1105067 2018-05-13 00:01:01  846ee151  0.003056\n",
       "1106237 2018-05-13 00:01:07  846ee151  0.001667\n",
       "1105086 2018-05-13 00:01:22  846ee151  0.004167\n",
       "1105068 2018-05-13 00:01:34  846ee151  0.003333"
      ]
     },
     "execution_count": 17,
     "metadata": {},
     "output_type": "execute_result"
    }
   ],
   "source": [
    "sesiones[['timestamp', 'person', 'diff']].head(10)"
   ]
  },
  {
   "cell_type": "code",
   "execution_count": 18,
   "metadata": {},
   "outputs": [],
   "source": [
    "sesiones['new_session'] = sesiones.groupby('person')['diff'].apply(lambda x: x > 1.0)\n",
    "sesiones['session_id'] = sesiones.groupby('person')['new_session'].cumsum()"
   ]
  },
  {
   "cell_type": "code",
   "execution_count": 19,
   "metadata": {},
   "outputs": [
    {
     "data": {
      "text/html": [
       "<div>\n",
       "<style scoped>\n",
       "    .dataframe tbody tr th:only-of-type {\n",
       "        vertical-align: middle;\n",
       "    }\n",
       "\n",
       "    .dataframe tbody tr th {\n",
       "        vertical-align: top;\n",
       "    }\n",
       "\n",
       "    .dataframe thead th {\n",
       "        text-align: right;\n",
       "    }\n",
       "</style>\n",
       "<table border=\"1\" class=\"dataframe\">\n",
       "  <thead>\n",
       "    <tr style=\"text-align: right;\">\n",
       "      <th></th>\n",
       "      <th>timestamp</th>\n",
       "      <th>person</th>\n",
       "      <th>event</th>\n",
       "      <th>diff</th>\n",
       "      <th>session_id</th>\n",
       "    </tr>\n",
       "  </thead>\n",
       "  <tbody>\n",
       "    <tr>\n",
       "      <th>585820</th>\n",
       "      <td>2018-05-13 00:00:20</td>\n",
       "      <td>f2ddab42</td>\n",
       "      <td>searched products</td>\n",
       "      <td>0.0</td>\n",
       "      <td>0.0</td>\n",
       "    </tr>\n",
       "    <tr>\n",
       "      <th>2244557</th>\n",
       "      <td>2018-05-13 00:00:23</td>\n",
       "      <td>b96ab3e6</td>\n",
       "      <td>visited site</td>\n",
       "      <td>0.0</td>\n",
       "      <td>0.0</td>\n",
       "    </tr>\n",
       "    <tr>\n",
       "      <th>764282</th>\n",
       "      <td>2018-05-13 00:00:23</td>\n",
       "      <td>b96ab3e6</td>\n",
       "      <td>searched products</td>\n",
       "      <td>0.0</td>\n",
       "      <td>0.0</td>\n",
       "    </tr>\n",
       "    <tr>\n",
       "      <th>108640</th>\n",
       "      <td>2018-05-13 00:00:39</td>\n",
       "      <td>a515878a</td>\n",
       "      <td>conversion</td>\n",
       "      <td>0.0</td>\n",
       "      <td>0.0</td>\n",
       "    </tr>\n",
       "    <tr>\n",
       "      <th>1107578</th>\n",
       "      <td>2018-05-13 00:00:49</td>\n",
       "      <td>846ee151</td>\n",
       "      <td>ad campaign hit</td>\n",
       "      <td>0.0</td>\n",
       "      <td>0.0</td>\n",
       "    </tr>\n",
       "  </tbody>\n",
       "</table>\n",
       "</div>"
      ],
      "text/plain": [
       "                  timestamp    person              event  diff  session_id\n",
       "585820  2018-05-13 00:00:20  f2ddab42  searched products   0.0         0.0\n",
       "2244557 2018-05-13 00:00:23  b96ab3e6       visited site   0.0         0.0\n",
       "764282  2018-05-13 00:00:23  b96ab3e6  searched products   0.0         0.0\n",
       "108640  2018-05-13 00:00:39  a515878a         conversion   0.0         0.0\n",
       "1107578 2018-05-13 00:00:49  846ee151    ad campaign hit   0.0         0.0"
      ]
     },
     "execution_count": 19,
     "metadata": {},
     "output_type": "execute_result"
    }
   ],
   "source": [
    "sesiones[['timestamp', 'person', 'event', 'diff', 'session_id']].head()"
   ]
  },
  {
   "cell_type": "code",
   "execution_count": 20,
   "metadata": {},
   "outputs": [],
   "source": [
    "#cantidad_eventos_usuario = sesiones.loc[sesiones['event'] == 'checkout']\n",
    "#sesiones = sesiones.loc[sesiones['event'] == 'checkout']"
   ]
  },
  {
   "cell_type": "code",
   "execution_count": 21,
   "metadata": {},
   "outputs": [],
   "source": [
    "cantidad_eventos_usuario = sesiones.groupby(['person', 'session_id'])['event']\\\n",
    "    .value_counts().unstack().unstack().sum(axis=1).to_frame().rename(columns={0:\"ult_quin_total_eventos\"})"
   ]
  },
  {
   "cell_type": "code",
   "execution_count": 22,
   "metadata": {},
   "outputs": [
    {
     "data": {
      "text/html": [
       "<div>\n",
       "<style scoped>\n",
       "    .dataframe tbody tr th:only-of-type {\n",
       "        vertical-align: middle;\n",
       "    }\n",
       "\n",
       "    .dataframe tbody tr th {\n",
       "        vertical-align: top;\n",
       "    }\n",
       "\n",
       "    .dataframe thead th {\n",
       "        text-align: right;\n",
       "    }\n",
       "</style>\n",
       "<table border=\"1\" class=\"dataframe\">\n",
       "  <thead>\n",
       "    <tr style=\"text-align: right;\">\n",
       "      <th></th>\n",
       "      <th>ult_quin_total_eventos</th>\n",
       "    </tr>\n",
       "    <tr>\n",
       "      <th>person</th>\n",
       "      <th></th>\n",
       "    </tr>\n",
       "  </thead>\n",
       "  <tbody>\n",
       "    <tr>\n",
       "      <th>0008ed71</th>\n",
       "      <td>6.0</td>\n",
       "    </tr>\n",
       "    <tr>\n",
       "      <th>00091926</th>\n",
       "      <td>367.0</td>\n",
       "    </tr>\n",
       "    <tr>\n",
       "      <th>000ba417</th>\n",
       "      <td>206.0</td>\n",
       "    </tr>\n",
       "    <tr>\n",
       "      <th>000c79fe</th>\n",
       "      <td>17.0</td>\n",
       "    </tr>\n",
       "    <tr>\n",
       "      <th>000e4d9e</th>\n",
       "      <td>411.0</td>\n",
       "    </tr>\n",
       "  </tbody>\n",
       "</table>\n",
       "</div>"
      ],
      "text/plain": [
       "          ult_quin_total_eventos\n",
       "person                          \n",
       "0008ed71                     6.0\n",
       "00091926                   367.0\n",
       "000ba417                   206.0\n",
       "000c79fe                    17.0\n",
       "000e4d9e                   411.0"
      ]
     },
     "execution_count": 22,
     "metadata": {},
     "output_type": "execute_result"
    }
   ],
   "source": [
    "cantidad_eventos_usuario.head()"
   ]
  },
  {
   "cell_type": "code",
   "execution_count": 23,
   "metadata": {},
   "outputs": [],
   "source": [
    "sesiones_por_usuario = sesiones.groupby('person')['session_id'].unique().apply(lambda x: len(x)).\\\n",
    "                        to_frame().rename(columns={'session_id':'ult_quin_total_sesiones'})\n",
    "promedio_eventos_sesion = cantidad_eventos_usuario.join(sesiones_por_usuario)"
   ]
  },
  {
   "cell_type": "code",
   "execution_count": 24,
   "metadata": {},
   "outputs": [],
   "source": [
    "promedio_eventos_sesion['ult_quin_promedio_eventos_por_sesion'] = promedio_eventos_sesion['ult_quin_total_eventos']\\\n",
    "                                            / promedio_eventos_sesion['ult_quin_total_sesiones']"
   ]
  },
  {
   "cell_type": "code",
   "execution_count": 25,
   "metadata": {},
   "outputs": [],
   "source": [
    "user_features = user_features.join(promedio_eventos_sesion[['ult_quin_total_sesiones', 'ult_quin_promedio_eventos_por_sesion']])"
   ]
  },
  {
   "cell_type": "code",
   "execution_count": 26,
   "metadata": {},
   "outputs": [],
   "source": [
    "user_features.fillna(0, inplace=True)"
   ]
  },
  {
   "cell_type": "code",
   "execution_count": 27,
   "metadata": {},
   "outputs": [
    {
     "data": {
      "text/html": [
       "<div>\n",
       "<style scoped>\n",
       "    .dataframe tbody tr th:only-of-type {\n",
       "        vertical-align: middle;\n",
       "    }\n",
       "\n",
       "    .dataframe tbody tr th {\n",
       "        vertical-align: top;\n",
       "    }\n",
       "\n",
       "    .dataframe thead th {\n",
       "        text-align: right;\n",
       "    }\n",
       "</style>\n",
       "<table border=\"1\" class=\"dataframe\">\n",
       "  <thead>\n",
       "    <tr style=\"text-align: right;\">\n",
       "      <th></th>\n",
       "      <th>ult_quin_cant_conversions</th>\n",
       "      <th>ult_quin_cant_checkouts</th>\n",
       "      <th>ult_quin_cant_viewed_product</th>\n",
       "      <th>ult_quin_cant_searched_product</th>\n",
       "      <th>ult_quin_cant_visitas</th>\n",
       "      <th>ult_quin_cant_leads</th>\n",
       "      <th>ult_quin_cant_brand_listings</th>\n",
       "      <th>ult_quin_cant_generic_listings</th>\n",
       "      <th>ult_quin_cant_entradas_ads</th>\n",
       "      <th>ult_quin_cant_entradas_buscador</th>\n",
       "      <th>ult_quin_total_sesiones</th>\n",
       "      <th>ult_quin_promedio_eventos_por_sesion</th>\n",
       "    </tr>\n",
       "    <tr>\n",
       "      <th>person</th>\n",
       "      <th></th>\n",
       "      <th></th>\n",
       "      <th></th>\n",
       "      <th></th>\n",
       "      <th></th>\n",
       "      <th></th>\n",
       "      <th></th>\n",
       "      <th></th>\n",
       "      <th></th>\n",
       "      <th></th>\n",
       "      <th></th>\n",
       "      <th></th>\n",
       "    </tr>\n",
       "  </thead>\n",
       "  <tbody>\n",
       "    <tr>\n",
       "      <th>4886f805</th>\n",
       "      <td>0.0</td>\n",
       "      <td>1.0</td>\n",
       "      <td>4.0</td>\n",
       "      <td>1.0</td>\n",
       "      <td>1.0</td>\n",
       "      <td>0.0</td>\n",
       "      <td>0.0</td>\n",
       "      <td>1.0</td>\n",
       "      <td>0.0</td>\n",
       "      <td>1.0</td>\n",
       "      <td>1.0</td>\n",
       "      <td>9.000000</td>\n",
       "    </tr>\n",
       "    <tr>\n",
       "      <th>ad93850f</th>\n",
       "      <td>0.0</td>\n",
       "      <td>1.0</td>\n",
       "      <td>20.0</td>\n",
       "      <td>0.0</td>\n",
       "      <td>5.0</td>\n",
       "      <td>0.0</td>\n",
       "      <td>15.0</td>\n",
       "      <td>7.0</td>\n",
       "      <td>10.0</td>\n",
       "      <td>7.0</td>\n",
       "      <td>5.0</td>\n",
       "      <td>13.000000</td>\n",
       "    </tr>\n",
       "    <tr>\n",
       "      <th>0297fc1e</th>\n",
       "      <td>0.0</td>\n",
       "      <td>1.0</td>\n",
       "      <td>103.0</td>\n",
       "      <td>0.0</td>\n",
       "      <td>25.0</td>\n",
       "      <td>0.0</td>\n",
       "      <td>0.0</td>\n",
       "      <td>2.0</td>\n",
       "      <td>4.0</td>\n",
       "      <td>0.0</td>\n",
       "      <td>23.0</td>\n",
       "      <td>5.869565</td>\n",
       "    </tr>\n",
       "    <tr>\n",
       "      <th>2d681dd8</th>\n",
       "      <td>0.0</td>\n",
       "      <td>1.0</td>\n",
       "      <td>13.0</td>\n",
       "      <td>1.0</td>\n",
       "      <td>2.0</td>\n",
       "      <td>0.0</td>\n",
       "      <td>5.0</td>\n",
       "      <td>1.0</td>\n",
       "      <td>1.0</td>\n",
       "      <td>2.0</td>\n",
       "      <td>2.0</td>\n",
       "      <td>13.000000</td>\n",
       "    </tr>\n",
       "    <tr>\n",
       "      <th>cccea85e</th>\n",
       "      <td>0.0</td>\n",
       "      <td>0.0</td>\n",
       "      <td>525.0</td>\n",
       "      <td>1.0</td>\n",
       "      <td>17.0</td>\n",
       "      <td>0.0</td>\n",
       "      <td>3.0</td>\n",
       "      <td>15.0</td>\n",
       "      <td>10.0</td>\n",
       "      <td>18.0</td>\n",
       "      <td>13.0</td>\n",
       "      <td>45.307692</td>\n",
       "    </tr>\n",
       "  </tbody>\n",
       "</table>\n",
       "</div>"
      ],
      "text/plain": [
       "          ult_quin_cant_conversions  ult_quin_cant_checkouts  \\\n",
       "person                                                         \n",
       "4886f805                        0.0                      1.0   \n",
       "ad93850f                        0.0                      1.0   \n",
       "0297fc1e                        0.0                      1.0   \n",
       "2d681dd8                        0.0                      1.0   \n",
       "cccea85e                        0.0                      0.0   \n",
       "\n",
       "          ult_quin_cant_viewed_product  ult_quin_cant_searched_product  \\\n",
       "person                                                                   \n",
       "4886f805                           4.0                             1.0   \n",
       "ad93850f                          20.0                             0.0   \n",
       "0297fc1e                         103.0                             0.0   \n",
       "2d681dd8                          13.0                             1.0   \n",
       "cccea85e                         525.0                             1.0   \n",
       "\n",
       "          ult_quin_cant_visitas  ult_quin_cant_leads  \\\n",
       "person                                                 \n",
       "4886f805                    1.0                  0.0   \n",
       "ad93850f                    5.0                  0.0   \n",
       "0297fc1e                   25.0                  0.0   \n",
       "2d681dd8                    2.0                  0.0   \n",
       "cccea85e                   17.0                  0.0   \n",
       "\n",
       "          ult_quin_cant_brand_listings  ult_quin_cant_generic_listings  \\\n",
       "person                                                                   \n",
       "4886f805                           0.0                             1.0   \n",
       "ad93850f                          15.0                             7.0   \n",
       "0297fc1e                           0.0                             2.0   \n",
       "2d681dd8                           5.0                             1.0   \n",
       "cccea85e                           3.0                            15.0   \n",
       "\n",
       "          ult_quin_cant_entradas_ads  ult_quin_cant_entradas_buscador  \\\n",
       "person                                                                  \n",
       "4886f805                         0.0                              1.0   \n",
       "ad93850f                        10.0                              7.0   \n",
       "0297fc1e                         4.0                              0.0   \n",
       "2d681dd8                         1.0                              2.0   \n",
       "cccea85e                        10.0                             18.0   \n",
       "\n",
       "          ult_quin_total_sesiones  ult_quin_promedio_eventos_por_sesion  \n",
       "person                                                                   \n",
       "4886f805                      1.0                              9.000000  \n",
       "ad93850f                      5.0                             13.000000  \n",
       "0297fc1e                     23.0                              5.869565  \n",
       "2d681dd8                      2.0                             13.000000  \n",
       "cccea85e                     13.0                             45.307692  "
      ]
     },
     "execution_count": 27,
     "metadata": {},
     "output_type": "execute_result"
    }
   ],
   "source": [
    "user_features.head()"
   ]
  },
  {
   "cell_type": "code",
   "execution_count": 29,
   "metadata": {},
   "outputs": [],
   "source": [
    "user_features.to_csv('../data/features_basicas_ult_quin.csv', sep=',')"
   ]
  },
  {
   "cell_type": "code",
   "execution_count": null,
   "metadata": {},
   "outputs": [],
   "source": []
  }
 ],
 "metadata": {
  "kernelspec": {
   "display_name": "Python 3",
   "language": "python",
   "name": "python3"
  },
  "language_info": {
   "codemirror_mode": {
    "name": "ipython",
    "version": 3
   },
   "file_extension": ".py",
   "mimetype": "text/x-python",
   "name": "python",
   "nbconvert_exporter": "python",
   "pygments_lexer": "ipython3",
   "version": "3.6.5"
  }
 },
 "nbformat": 4,
 "nbformat_minor": 2
}
