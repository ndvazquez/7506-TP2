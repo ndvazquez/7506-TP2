{
 "cells": [
  {
   "cell_type": "code",
   "execution_count": 1,
   "metadata": {},
   "outputs": [],
   "source": [
    "import pandas as pd"
   ]
  },
  {
   "cell_type": "code",
   "execution_count": 2,
   "metadata": {},
   "outputs": [],
   "source": [
    "df = pd.read_csv(\"../data/events.csv\",low_memory=False)"
   ]
  },
  {
   "cell_type": "code",
   "execution_count": 3,
   "metadata": {},
   "outputs": [],
   "source": [
    "pd.set_option('display.max_columns', 500)"
   ]
  },
  {
   "cell_type": "code",
   "execution_count": 4,
   "metadata": {},
   "outputs": [],
   "source": [
    "df['timestamp'] = pd.to_datetime(df['timestamp'])\n",
    "df['hour'] = df['timestamp'].dt.hour"
   ]
  },
  {
   "cell_type": "code",
   "execution_count": 5,
   "metadata": {},
   "outputs": [],
   "source": [
    "eventos_df = df.loc[:,['timestamp', 'hour', 'person']]"
   ]
  },
  {
   "cell_type": "code",
   "execution_count": 6,
   "metadata": {},
   "outputs": [],
   "source": [
    "df_nuevo = eventos_df.pivot_table(index='person', columns='hour', values='timestamp', aggfunc='count')"
   ]
  },
  {
   "cell_type": "code",
   "execution_count": 7,
   "metadata": {},
   "outputs": [],
   "source": [
    "df_nuevo.fillna(0,inplace=True)"
   ]
  },
  {
   "cell_type": "code",
   "execution_count": 8,
   "metadata": {},
   "outputs": [],
   "source": [
    "df_nuevo[\"cant_eventos_4_a_10hs\"]=df_nuevo[4]+df_nuevo[5]+df_nuevo[6]+df_nuevo[7]+df_nuevo[8]+df_nuevo[9]+df_nuevo[10]\n",
    "df_nuevo[\"cant_eventos_11_a_14hs\"]=df_nuevo[11]+df_nuevo[12]+df_nuevo[13]+df_nuevo[14]\n",
    "df_nuevo[\"cant_eventos_15_a_20hs\"]=df_nuevo[15]+df_nuevo[16]+df_nuevo[17]+df_nuevo[18]+df_nuevo[19]+df_nuevo[20]\n",
    "df_nuevo[\"cant_eventos_21_a_3hs\"]=df_nuevo[21]+df_nuevo[22]+df_nuevo[23]+df_nuevo[0]+df_nuevo[1]+df_nuevo[2]\n",
    "df_nuevo=df_nuevo.loc[:,[\"cant_eventos_4_a_10hs\",\"cant_eventos_11_a_14hs\",\"cant_eventos_15_a_20hs\",\"cant_eventos_21_a_3hs\"]]"
   ]
  },
  {
   "cell_type": "code",
   "execution_count": 9,
   "metadata": {},
   "outputs": [],
   "source": [
    "df_nuevo.to_csv('../data/feature_cantidad_de_eventos_en_intervalos.csv')"
   ]
  },
  {
   "cell_type": "markdown",
   "metadata": {},
   "source": [
    "## Última quincena"
   ]
  },
  {
   "cell_type": "code",
   "execution_count": 10,
   "metadata": {},
   "outputs": [],
   "source": [
    "ult_quin_eventos_df = df.loc[:,['timestamp', 'hour', 'person']]\n",
    "ult_quin_eventos_df = ult_quin_eventos_df.loc[ult_quin_eventos_df['timestamp'] >= pd.Timestamp(2018,5,13)]"
   ]
  },
  {
   "cell_type": "code",
   "execution_count": 11,
   "metadata": {},
   "outputs": [],
   "source": [
    "df_nuevo_ult_quin = ult_quin_eventos_df.pivot_table(index='person', columns='hour', values='timestamp', aggfunc='count')"
   ]
  },
  {
   "cell_type": "code",
   "execution_count": 12,
   "metadata": {},
   "outputs": [],
   "source": [
    "df_nuevo_ult_quin.fillna(0,inplace=True)"
   ]
  },
  {
   "cell_type": "code",
   "execution_count": 13,
   "metadata": {},
   "outputs": [],
   "source": [
    "df_nuevo_ult_quin[\"ult_quin_cant_eventos_4_a_10hs\"]=df_nuevo_ult_quin[4]+df_nuevo_ult_quin[5]+df_nuevo_ult_quin[6]+df_nuevo_ult_quin[7]+df_nuevo_ult_quin[8]+df_nuevo_ult_quin[9]+df_nuevo_ult_quin[10]\n",
    "df_nuevo_ult_quin[\"ult_quin_cant_eventos_11_a_14hs\"]=df_nuevo_ult_quin[11]+df_nuevo_ult_quin[12]+df_nuevo_ult_quin[13]+df_nuevo_ult_quin[14]\n",
    "df_nuevo_ult_quin[\"ult_quin_cant_eventos_15_a_20hs\"]=df_nuevo_ult_quin[15]+df_nuevo_ult_quin[16]+df_nuevo_ult_quin[17]+df_nuevo_ult_quin[18]+df_nuevo_ult_quin[19]+df_nuevo_ult_quin[20]\n",
    "df_nuevo_ult_quin[\"ult_quin_cant_eventos_21_a_3hs\"]=df_nuevo_ult_quin[21]+df_nuevo_ult_quin[22]+df_nuevo_ult_quin[23]+df_nuevo_ult_quin[0]+df_nuevo_ult_quin[1]+df_nuevo_ult_quin[2]\n",
    "df_nuevo_ult_quin=df_nuevo_ult_quin.loc[:,[\"ult_quin_cant_eventos_4_a_10hs\",\"ult_quin_cant_eventos_11_a_14hs\",\"ult_quin_cant_eventos_15_a_20hs\",\"ult_quin_cant_eventos_21_a_3hs\"]]"
   ]
  },
  {
   "cell_type": "code",
   "execution_count": 14,
   "metadata": {},
   "outputs": [],
   "source": [
    "user_features = df[['person']].drop_duplicates().copy()\n",
    "user_features.set_index('person', inplace=True)"
   ]
  },
  {
   "cell_type": "code",
   "execution_count": 15,
   "metadata": {},
   "outputs": [],
   "source": [
    "user_features = user_features.join(df_nuevo_ult_quin)"
   ]
  },
  {
   "cell_type": "code",
   "execution_count": 16,
   "metadata": {},
   "outputs": [],
   "source": [
    "user_features.fillna(0, inplace=True)"
   ]
  },
  {
   "cell_type": "code",
   "execution_count": 17,
   "metadata": {},
   "outputs": [],
   "source": [
    "user_features.to_csv('../data/feature_cantidad_de_eventos_en_intervalos_ult_quin.csv')"
   ]
  },
  {
   "cell_type": "code",
   "execution_count": null,
   "metadata": {},
   "outputs": [],
   "source": []
  }
 ],
 "metadata": {
  "kernelspec": {
   "display_name": "Python 3",
   "language": "python",
   "name": "python3"
  },
  "language_info": {
   "codemirror_mode": {
    "name": "ipython",
    "version": 3
   },
   "file_extension": ".py",
   "mimetype": "text/x-python",
   "name": "python",
   "nbconvert_exporter": "python",
   "pygments_lexer": "ipython3",
   "version": "3.6.6"
  }
 },
 "nbformat": 4,
 "nbformat_minor": 2
}
