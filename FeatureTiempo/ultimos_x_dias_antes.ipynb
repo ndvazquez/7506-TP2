{
 "cells": [
  {
   "cell_type": "code",
   "execution_count": null,
   "metadata": {},
   "outputs": [],
   "source": [
    "import pandas as pd"
   ]
  },
  {
   "cell_type": "code",
   "execution_count": null,
   "metadata": {},
   "outputs": [],
   "source": [
    "df = pd.read_csv('../data/events.csv', low_memory=False)\n",
    "df['timestamp'] = pd.to_datetime(df['timestamp'])"
   ]
  },
  {
   "cell_type": "code",
   "execution_count": null,
   "metadata": {},
   "outputs": [],
   "source": [
    "users = df[['person']].drop_duplicates().copy()"
   ]
  },
  {
   "cell_type": "code",
   "execution_count": null,
   "metadata": {},
   "outputs": [],
   "source": [
    "ultimos_7_dias = df.loc[(df['timestamp'] > pd.to_datetime('2018-05-22')), :]\n",
    "ultimos_3_dias = df.loc[(df['timestamp'] > pd.to_datetime('2018-05-27')), :]"
   ]
  },
  {
   "cell_type": "code",
   "execution_count": null,
   "metadata": {},
   "outputs": [],
   "source": [
    "ultimos_7_dias = ultimos_7_dias.groupby('person')['event'].first().to_frame()\n",
    "ultimos_7_dias['entro_semana_anterior'] = 1\n",
    "ultimos_7_dias = ultimos_7_dias[['entro_semana_anterior']]"
   ]
  },
  {
   "cell_type": "code",
   "execution_count": null,
   "metadata": {},
   "outputs": [],
   "source": [
    "ultimos_3_dias = ultimos_3_dias.groupby('person')['event'].first().to_frame()\n",
    "ultimos_3_dias['entro_3_dias_anterior'] = 1\n",
    "ultimos_3_dias = ultimos_3_dias[['entro_3_dias_anterior']]"
   ]
  },
  {
   "cell_type": "code",
   "execution_count": null,
   "metadata": {},
   "outputs": [],
   "source": [
    "# Creo csv\n",
    "users = users.set_index('person')\n",
    "evento_tiempo_df = users.join(ultimos_7_dias)\n",
    "evento_tiempo_df = evento_tiempo_df.join(ultimos_3_dias)\n",
    "evento_tiempo_df.fillna(0, inplace=True)\n",
    "evento_tiempo_df"
   ]
  },
  {
   "cell_type": "code",
   "execution_count": null,
   "metadata": {},
   "outputs": [],
   "source": [
    "evento_tiempo_df.to_csv('../data/semana_3_dias_antes_features.csv', sep=',')"
   ]
  },
  {
   "cell_type": "code",
   "execution_count": null,
   "metadata": {},
   "outputs": [],
   "source": []
  }
 ],
 "metadata": {
  "kernelspec": {
   "display_name": "Python 3",
   "language": "python",
   "name": "python3"
  },
  "language_info": {
   "codemirror_mode": {
    "name": "ipython",
    "version": 3
   },
   "file_extension": ".py",
   "mimetype": "text/x-python",
   "name": "python",
   "nbconvert_exporter": "python",
   "pygments_lexer": "ipython3",
   "version": "3.5.2"
  }
 },
 "nbformat": 4,
 "nbformat_minor": 2
}
